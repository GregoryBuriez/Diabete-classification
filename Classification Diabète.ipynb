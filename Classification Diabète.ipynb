{
 "cells": [
  {
   "cell_type": "markdown",
   "id": "7cae60cf",
   "metadata": {},
   "source": [
    "# Prédictions diabète"
   ]
  },
  {
   "cell_type": "markdown",
   "id": "0c55e3fb",
   "metadata": {},
   "source": [
    "## Présentation du fichier\n",
    "\n",
    "Cet ensemble de données provient de l’Institut national du diabète et du digestion et des reins\n",
    "Maladies. L’objectif de l’ensemble de données est de prédire de manière diagnostique si un patient est diabétique,\n",
    "basé sur certaines mesures diagnostiques incluses dans l’ensemble de données. Plusieurs contraintes ont été placées\n",
    "sur la sélection de ces instances à partir d’une base de données plus grande. En particulier, tous les patients ici sont des femmes\n",
    "être âgé d’au moins 21 ans d’origine indienne. On peut trouver plusieurs variables, certaines d’entre elles sont indépendantes\n",
    "(plusieurs variables prédictives médicales) et une seule variable dépendante de la cible (résultat)."
   ]
  },
  {
   "cell_type": "markdown",
   "id": "15daba37",
   "metadata": {},
   "source": [
    "## Sommaire"
   ]
  },
  {
   "cell_type": "markdown",
   "id": "0d6b0036",
   "metadata": {},
   "source": [
    "### Importation bibliothèque\n"
   ]
  },
  {
   "cell_type": "raw",
   "id": "c109a14d",
   "metadata": {},
   "source": []
  },
  {
   "cell_type": "code",
   "execution_count": 1,
   "id": "edcfe149",
   "metadata": {},
   "outputs": [],
   "source": [
    "# Bibliothèque standard\n",
    "\n",
    "import numpy as np\n",
    "import pandas as pd\n",
    "import matplotlib.pyplot as plt\n",
    "import seaborn as sns\n",
    "import missingno as msno\n",
    "\n",
    "# Séparation du jeu de données\n",
    "from sklearn.model_selection import train_test_split\n",
    "\n",
    "# Standardisation des données\n",
    "from sklearn.preprocessing import StandardScaler\n",
    "\n",
    "# Régression Logistique\n",
    "from sklearn.linear_model import LogisticRegression\n",
    "\n",
    "\n",
    "# RandomForest\n",
    "from sklearn.ensemble import RandomForestClassifier\n",
    "\n",
    "\n",
    "# Mesures de performances\n",
    "from sklearn.metrics import *\n",
    "from sklearn import metrics\n",
    "from sklearn.metrics import r2_score \n",
    "from sklearn.metrics import mean_squared_error\n",
    "\n",
    "# Optimisation du modèle\n",
    "from sklearn.model_selection import cross_val_score\n",
    "from sklearn.model_selection import validation_curve\n",
    "from sklearn.model_selection import GridSearchCV"
   ]
  },
  {
   "cell_type": "code",
   "execution_count": 2,
   "id": "277ffb60",
   "metadata": {},
   "outputs": [],
   "source": [
    "# Importation fichier\n",
    "\n",
    "data = pd.read_csv('diabetes.csv')"
   ]
  },
  {
   "cell_type": "code",
   "execution_count": 3,
   "id": "ee23bed9",
   "metadata": {},
   "outputs": [],
   "source": [
    "# Définition titre graphique\n",
    "\n",
    "title = {\"family\": \"arial\",\n",
    "              \"color\":  \"black\",\n",
    "              \"weight\": \"bold\",\n",
    "              \"size\": 18}"
   ]
  },
  {
   "cell_type": "markdown",
   "id": "81e051c6",
   "metadata": {},
   "source": [
    "### Exploration du fichier"
   ]
  },
  {
   "cell_type": "code",
   "execution_count": 4,
   "id": "3fc7913b",
   "metadata": {},
   "outputs": [
    {
     "data": {
      "text/html": [
       "<div>\n",
       "<style scoped>\n",
       "    .dataframe tbody tr th:only-of-type {\n",
       "        vertical-align: middle;\n",
       "    }\n",
       "\n",
       "    .dataframe tbody tr th {\n",
       "        vertical-align: top;\n",
       "    }\n",
       "\n",
       "    .dataframe thead th {\n",
       "        text-align: right;\n",
       "    }\n",
       "</style>\n",
       "<table border=\"1\" class=\"dataframe\">\n",
       "  <thead>\n",
       "    <tr style=\"text-align: right;\">\n",
       "      <th></th>\n",
       "      <th>Pregnancies</th>\n",
       "      <th>Glucose</th>\n",
       "      <th>BloodPressure</th>\n",
       "      <th>SkinThickness</th>\n",
       "      <th>Insulin</th>\n",
       "      <th>BMI</th>\n",
       "      <th>DiabetesPedigreeFunction</th>\n",
       "      <th>Age</th>\n",
       "      <th>Outcome</th>\n",
       "    </tr>\n",
       "  </thead>\n",
       "  <tbody>\n",
       "    <tr>\n",
       "      <th>0</th>\n",
       "      <td>6</td>\n",
       "      <td>148</td>\n",
       "      <td>72</td>\n",
       "      <td>35</td>\n",
       "      <td>0</td>\n",
       "      <td>33.6</td>\n",
       "      <td>0.627</td>\n",
       "      <td>50</td>\n",
       "      <td>1</td>\n",
       "    </tr>\n",
       "    <tr>\n",
       "      <th>1</th>\n",
       "      <td>1</td>\n",
       "      <td>85</td>\n",
       "      <td>66</td>\n",
       "      <td>29</td>\n",
       "      <td>0</td>\n",
       "      <td>26.6</td>\n",
       "      <td>0.351</td>\n",
       "      <td>31</td>\n",
       "      <td>0</td>\n",
       "    </tr>\n",
       "    <tr>\n",
       "      <th>2</th>\n",
       "      <td>8</td>\n",
       "      <td>183</td>\n",
       "      <td>64</td>\n",
       "      <td>0</td>\n",
       "      <td>0</td>\n",
       "      <td>23.3</td>\n",
       "      <td>0.672</td>\n",
       "      <td>32</td>\n",
       "      <td>1</td>\n",
       "    </tr>\n",
       "    <tr>\n",
       "      <th>3</th>\n",
       "      <td>1</td>\n",
       "      <td>89</td>\n",
       "      <td>66</td>\n",
       "      <td>23</td>\n",
       "      <td>94</td>\n",
       "      <td>28.1</td>\n",
       "      <td>0.167</td>\n",
       "      <td>21</td>\n",
       "      <td>0</td>\n",
       "    </tr>\n",
       "    <tr>\n",
       "      <th>4</th>\n",
       "      <td>0</td>\n",
       "      <td>137</td>\n",
       "      <td>40</td>\n",
       "      <td>35</td>\n",
       "      <td>168</td>\n",
       "      <td>43.1</td>\n",
       "      <td>2.288</td>\n",
       "      <td>33</td>\n",
       "      <td>1</td>\n",
       "    </tr>\n",
       "  </tbody>\n",
       "</table>\n",
       "</div>"
      ],
      "text/plain": [
       "   Pregnancies  Glucose  BloodPressure  SkinThickness  Insulin   BMI  \\\n",
       "0            6      148             72             35        0  33.6   \n",
       "1            1       85             66             29        0  26.6   \n",
       "2            8      183             64              0        0  23.3   \n",
       "3            1       89             66             23       94  28.1   \n",
       "4            0      137             40             35      168  43.1   \n",
       "\n",
       "   DiabetesPedigreeFunction  Age  Outcome  \n",
       "0                     0.627   50        1  \n",
       "1                     0.351   31        0  \n",
       "2                     0.672   32        1  \n",
       "3                     0.167   21        0  \n",
       "4                     2.288   33        1  "
      ]
     },
     "execution_count": 4,
     "metadata": {},
     "output_type": "execute_result"
    }
   ],
   "source": [
    "data.head(5)"
   ]
  },
  {
   "cell_type": "code",
   "execution_count": 5,
   "id": "7e1e0326",
   "metadata": {},
   "outputs": [
    {
     "name": "stdout",
     "output_type": "stream",
     "text": [
      "(768, 9)\n",
      "Pregnancies                   int64\n",
      "Glucose                       int64\n",
      "BloodPressure                 int64\n",
      "SkinThickness                 int64\n",
      "Insulin                       int64\n",
      "BMI                         float64\n",
      "DiabetesPedigreeFunction    float64\n",
      "Age                           int64\n",
      "Outcome                       int64\n",
      "dtype: object\n"
     ]
    }
   ],
   "source": [
    "print(data.shape)\n",
    "print(data.dtypes)"
   ]
  },
  {
   "cell_type": "code",
   "execution_count": 6,
   "id": "93a46e18",
   "metadata": {},
   "outputs": [
    {
     "data": {
      "text/plain": [
       "Text(0.5, 1.0, 'Représentation des valeurs manquantes')"
      ]
     },
     "execution_count": 6,
     "metadata": {},
     "output_type": "execute_result"
    },
    {
     "data": {
      "image/png": "[encoded data removed]",
      "text/plain": [
       "<Figure size 1800x720 with 2 Axes>"
      ]
     },
     "metadata": {
      "needs_background": "light"
     },
     "output_type": "display_data"
    }
   ],
   "source": [
    "msno.matrix(data)\n",
    "plt.title('Représentation des valeurs manquantes',\n",
    "         fontdict = title)"
   ]
  },
  {
   "cell_type": "markdown",
   "id": "f4e95b80",
   "metadata": {},
   "source": [
    "Notre fichier ne présente aucune valeur manquante. Nous allons démarrer notre analyse des données."
   ]
  },
  {
   "cell_type": "code",
   "execution_count": 7,
   "id": "29ec9293",
   "metadata": {},
   "outputs": [
    {
     "data": {
      "text/html": [
       "<div>\n",
       "<style scoped>\n",
       "    .dataframe tbody tr th:only-of-type {\n",
       "        vertical-align: middle;\n",
       "    }\n",
       "\n",
       "    .dataframe tbody tr th {\n",
       "        vertical-align: top;\n",
       "    }\n",
       "\n",
       "    .dataframe thead th {\n",
       "        text-align: right;\n",
       "    }\n",
       "</style>\n",
       "<table border=\"1\" class=\"dataframe\">\n",
       "  <thead>\n",
       "    <tr style=\"text-align: right;\">\n",
       "      <th></th>\n",
       "      <th>count</th>\n",
       "      <th>mean</th>\n",
       "      <th>std</th>\n",
       "      <th>min</th>\n",
       "      <th>25%</th>\n",
       "      <th>50%</th>\n",
       "      <th>75%</th>\n",
       "      <th>max</th>\n",
       "    </tr>\n",
       "  </thead>\n",
       "  <tbody>\n",
       "    <tr>\n",
       "      <th>Pregnancies</th>\n",
       "      <td>768.0</td>\n",
       "      <td>3.845052</td>\n",
       "      <td>3.369578</td>\n",
       "      <td>0.000</td>\n",
       "      <td>1.00000</td>\n",
       "      <td>3.0000</td>\n",
       "      <td>6.00000</td>\n",
       "      <td>17.00</td>\n",
       "    </tr>\n",
       "    <tr>\n",
       "      <th>Glucose</th>\n",
       "      <td>768.0</td>\n",
       "      <td>120.894531</td>\n",
       "      <td>31.972618</td>\n",
       "      <td>0.000</td>\n",
       "      <td>99.00000</td>\n",
       "      <td>117.0000</td>\n",
       "      <td>140.25000</td>\n",
       "      <td>199.00</td>\n",
       "    </tr>\n",
       "    <tr>\n",
       "      <th>BloodPressure</th>\n",
       "      <td>768.0</td>\n",
       "      <td>69.105469</td>\n",
       "      <td>19.355807</td>\n",
       "      <td>0.000</td>\n",
       "      <td>62.00000</td>\n",
       "      <td>72.0000</td>\n",
       "      <td>80.00000</td>\n",
       "      <td>122.00</td>\n",
       "    </tr>\n",
       "    <tr>\n",
       "      <th>SkinThickness</th>\n",
       "      <td>768.0</td>\n",
       "      <td>20.536458</td>\n",
       "      <td>15.952218</td>\n",
       "      <td>0.000</td>\n",
       "      <td>0.00000</td>\n",
       "      <td>23.0000</td>\n",
       "      <td>32.00000</td>\n",
       "      <td>99.00</td>\n",
       "    </tr>\n",
       "    <tr>\n",
       "      <th>Insulin</th>\n",
       "      <td>768.0</td>\n",
       "      <td>79.799479</td>\n",
       "      <td>115.244002</td>\n",
       "      <td>0.000</td>\n",
       "      <td>0.00000</td>\n",
       "      <td>30.5000</td>\n",
       "      <td>127.25000</td>\n",
       "      <td>846.00</td>\n",
       "    </tr>\n",
       "    <tr>\n",
       "      <th>BMI</th>\n",
       "      <td>768.0</td>\n",
       "      <td>31.992578</td>\n",
       "      <td>7.884160</td>\n",
       "      <td>0.000</td>\n",
       "      <td>27.30000</td>\n",
       "      <td>32.0000</td>\n",
       "      <td>36.60000</td>\n",
       "      <td>67.10</td>\n",
       "    </tr>\n",
       "    <tr>\n",
       "      <th>DiabetesPedigreeFunction</th>\n",
       "      <td>768.0</td>\n",
       "      <td>0.471876</td>\n",
       "      <td>0.331329</td>\n",
       "      <td>0.078</td>\n",
       "      <td>0.24375</td>\n",
       "      <td>0.3725</td>\n",
       "      <td>0.62625</td>\n",
       "      <td>2.42</td>\n",
       "    </tr>\n",
       "    <tr>\n",
       "      <th>Age</th>\n",
       "      <td>768.0</td>\n",
       "      <td>33.240885</td>\n",
       "      <td>11.760232</td>\n",
       "      <td>21.000</td>\n",
       "      <td>24.00000</td>\n",
       "      <td>29.0000</td>\n",
       "      <td>41.00000</td>\n",
       "      <td>81.00</td>\n",
       "    </tr>\n",
       "    <tr>\n",
       "      <th>Outcome</th>\n",
       "      <td>768.0</td>\n",
       "      <td>0.348958</td>\n",
       "      <td>0.476951</td>\n",
       "      <td>0.000</td>\n",
       "      <td>0.00000</td>\n",
       "      <td>0.0000</td>\n",
       "      <td>1.00000</td>\n",
       "      <td>1.00</td>\n",
       "    </tr>\n",
       "  </tbody>\n",
       "</table>\n",
       "</div>"
      ],
      "text/plain": [
       "                          count        mean         std     min       25%  \\\n",
       "Pregnancies               768.0    3.845052    3.369578   0.000   1.00000   \n",
       "Glucose                   768.0  120.894531   31.972618   0.000  99.00000   \n",
       "BloodPressure             768.0   69.105469   19.355807   0.000  62.00000   \n",
       "SkinThickness             768.0   20.536458   15.952218   0.000   0.00000   \n",
       "Insulin                   768.0   79.799479  115.244002   0.000   0.00000   \n",
       "BMI                       768.0   31.992578    7.884160   0.000  27.30000   \n",
       "DiabetesPedigreeFunction  768.0    0.471876    0.331329   0.078   0.24375   \n",
       "Age                       768.0   33.240885   11.760232  21.000  24.00000   \n",
       "Outcome                   768.0    0.348958    0.476951   0.000   0.00000   \n",
       "\n",
       "                               50%        75%     max  \n",
       "Pregnancies                 3.0000    6.00000   17.00  \n",
       "Glucose                   117.0000  140.25000  199.00  \n",
       "BloodPressure              72.0000   80.00000  122.00  \n",
       "SkinThickness              23.0000   32.00000   99.00  \n",
       "Insulin                    30.5000  127.25000  846.00  \n",
       "BMI                        32.0000   36.60000   67.10  \n",
       "DiabetesPedigreeFunction    0.3725    0.62625    2.42  \n",
       "Age                        29.0000   41.00000   81.00  \n",
       "Outcome                     0.0000    1.00000    1.00  "
      ]
     },
     "execution_count": 7,
     "metadata": {},
     "output_type": "execute_result"
    }
   ],
   "source": [
    "data.describe().T"
   ]
  },
  {
   "cell_type": "code",
   "execution_count": 8,
   "id": "be868938",
   "metadata": {},
   "outputs": [
    {
     "name": "stderr",
     "output_type": "stream",
     "text": [
      "C:\\Users\\gregm\\AppData\\Local\\Temp/ipykernel_18644/3104016293.py:5: DeprecationWarning: `np.bool` is a deprecated alias for the builtin `bool`. To silence this warning, use `bool` by itself. Doing this will not modify any behavior and is safe. If you specifically wanted the numpy scalar type, use `np.bool_` here.\n",
      "Deprecated in NumPy 1.20; for more details and guidance: https://numpy.org/devdocs/release/1.20.0-notes.html#deprecations\n",
      "  mask = np.zeros_like(correlation2, dtype=np.bool)\n"
     ]
    },
    {
     "data": {
      "image/png": "[encoded data removed]",
      "text/plain": [
       "<Figure size 864x576 with 2 Axes>"
      ]
     },
     "metadata": {
      "needs_background": "light"
     },
     "output_type": "display_data"
    }
   ],
   "source": [
    "# Graphique de Pearson\n",
    "\n",
    "correlation2 = data.corr()\n",
    "\n",
    "mask = np.zeros_like(correlation2, dtype=np.bool)\n",
    "mask[np.triu_indices_from(mask)] = True \n",
    "\n",
    "plt.figure (figsize = (12,8))\n",
    "ax = sns.heatmap(correlation2, mask=mask, vmin=-1, cmap='plasma', linewidth = 0.2, annot = True)\n",
    "plt.title('Matrice de Corrélation', size = 15)\n",
    "plt.show()"
   ]
  },
  {
   "cell_type": "markdown",
   "id": "d3fa4090",
   "metadata": {},
   "source": [
    "Ce graphique nous indique une forte corrélation entre l'âge et le nombre de grossesses des patients, nous allons analyser ces deux variables.\n",
    "Le glucose semble également avoir un impact sur les résultats du diabète. Les autres variables permettent d'obtenir une meilleure précision des données."
   ]
  },
  {
   "cell_type": "raw",
   "id": "52ea77ba",
   "metadata": {},
   "source": [
    "Définition des colonnes\n",
    "\n",
    "Pregnancies : To express the Number of pregnancies\n",
    "Glucose : To express the Glucose level in blood\n",
    "BloodPressure : To express the Blood pressure measurement\n",
    "SkinThickness : To express the thickness of the skin\n",
    "Insulin : To express the Insulin level in blood\n",
    "BMI : To express the Body mass index\n",
    "DiabetesPedigreeFunction : To express the Diabetes percentage\n",
    "Age : To express the age\n",
    "Outcome : To express the final result 1 is Yes and 0 is No"
   ]
  },
  {
   "cell_type": "code",
   "execution_count": 9,
   "id": "3c7eb698",
   "metadata": {},
   "outputs": [
    {
     "data": {
      "text/plain": [
       "0    500\n",
       "1    268\n",
       "Name: Outcome, dtype: int64"
      ]
     },
     "execution_count": 9,
     "metadata": {},
     "output_type": "execute_result"
    }
   ],
   "source": [
    "# Analyse data Outcome\n",
    "\n",
    "data['Outcome'].value_counts()"
   ]
  },
  {
   "cell_type": "code",
   "execution_count": 10,
   "id": "a985edeb",
   "metadata": {},
   "outputs": [
    {
     "data": {
      "text/plain": [
       "(0.0, 1.0)"
      ]
     },
     "execution_count": 10,
     "metadata": {},
     "output_type": "execute_result"
    },
    {
     "data": {
      "image/png": "[encoded data removed]",
      "text/plain": [
       "<Figure size 432x288 with 1 Axes>"
      ]
     },
     "metadata": {
      "needs_background": "light"
     },
     "output_type": "display_data"
    }
   ],
   "source": [
    "# Analyse graphique \n",
    "\n",
    "sns.histplot(x = 'Outcome', data = data, discrete = True)\n",
    "plt.title('Représentation des résultats du diabète',\n",
    "         fontdict = title)\n",
    "plt.xlim(0, 1)"
   ]
  },
  {
   "cell_type": "markdown",
   "id": "0a8cb766",
   "metadata": {},
   "source": [
    "Nous pouvons constater que la majorité des données présentent des résultats négatifs. Nous allons ici nous intéresser à nos divers variables afin de constater l'impact des variables sur les résultats."
   ]
  },
  {
   "cell_type": "code",
   "execution_count": 11,
   "id": "650405ba",
   "metadata": {},
   "outputs": [
    {
     "name": "stdout",
     "output_type": "stream",
     "text": [
      "17\n",
      "1     135\n",
      "0     111\n",
      "2     103\n",
      "3      75\n",
      "4      68\n",
      "5      57\n",
      "6      50\n",
      "7      45\n",
      "8      38\n",
      "9      28\n",
      "10     24\n",
      "11     11\n",
      "13     10\n",
      "12      9\n",
      "14      2\n",
      "15      1\n",
      "17      1\n",
      "Name: Pregnancies, dtype: int64\n"
     ]
    },
    {
     "data": {
      "text/plain": [
       "Text(0.5, 1.0, \"Représentation de l'impact de la grossesse sur le diabète\")"
      ]
     },
     "execution_count": 11,
     "metadata": {},
     "output_type": "execute_result"
    },
    {
     "data": {
      "image/png": "[encoded data removed]",
      "text/plain": [
       "<Figure size 432x288 with 1 Axes>"
      ]
     },
     "metadata": {
      "needs_background": "light"
     },
     "output_type": "display_data"
    }
   ],
   "source": [
    "# Analyse variable Pregnancies\n",
    "\n",
    "print(data['Pregnancies'].nunique())\n",
    "print(data['Pregnancies'].value_counts())\n",
    "\n",
    "sns.boxplot(x = 'Outcome',y= 'Pregnancies', data = data)\n",
    "plt.title(\"Représentation de l'impact de la grossesse sur le diabète\",\n",
    "         fontdict = title)"
   ]
  },
  {
   "cell_type": "markdown",
   "id": "d408a09d",
   "metadata": {},
   "source": [
    "Notre variable présente les femmes enceintes en fonction du nombre de grossesses.\n",
    "Quand nous analysons nos variables, nous pourrions avoir tendance à indiquer que le nombre de semaines de grossesse peut impacter le résultat."
   ]
  },
  {
   "cell_type": "code",
   "execution_count": 12,
   "id": "108994ad",
   "metadata": {},
   "outputs": [
    {
     "name": "stdout",
     "output_type": "stream",
     "text": [
      "136\n",
      "99     17\n",
      "100    17\n",
      "111    14\n",
      "129    14\n",
      "125    14\n",
      "       ..\n",
      "191     1\n",
      "177     1\n",
      "44      1\n",
      "62      1\n",
      "190     1\n",
      "Name: Glucose, Length: 136, dtype: int64\n"
     ]
    },
    {
     "data": {
      "text/plain": [
       "Text(0.5, 1.0, \"Représentation de l'impact du glucose sur le diabète\")"
      ]
     },
     "execution_count": 12,
     "metadata": {},
     "output_type": "execute_result"
    },
    {
     "data": {
      "image/png": "[encoded data removed]",
      "text/plain": [
       "<Figure size 432x288 with 1 Axes>"
      ]
     },
     "metadata": {
      "needs_background": "light"
     },
     "output_type": "display_data"
    }
   ],
   "source": [
    "# Analyse de la variable Glucose\n",
    "\n",
    "print(data['Glucose'].nunique())\n",
    "print(data['Glucose'].value_counts())\n",
    "\n",
    "sns.boxplot(x = 'Outcome',y= 'Glucose', data = data)\n",
    "plt.title(\"Représentation de l'impact du glucose sur le diabète\",\n",
    "         fontdict = title)"
   ]
  },
  {
   "cell_type": "code",
   "execution_count": 13,
   "id": "e29a3798",
   "metadata": {},
   "outputs": [
    {
     "name": "stdout",
     "output_type": "stream",
     "text": [
      "52\n",
      "22    72\n",
      "21    63\n",
      "25    48\n",
      "24    46\n",
      "23    38\n",
      "28    35\n",
      "26    33\n",
      "27    32\n",
      "29    29\n",
      "31    24\n",
      "41    22\n",
      "30    21\n",
      "37    19\n",
      "42    18\n",
      "33    17\n",
      "38    16\n",
      "36    16\n",
      "32    16\n",
      "45    15\n",
      "34    14\n",
      "46    13\n",
      "43    13\n",
      "40    13\n",
      "39    12\n",
      "35    10\n",
      "50     8\n",
      "51     8\n",
      "52     8\n",
      "44     8\n",
      "58     7\n",
      "47     6\n",
      "54     6\n",
      "49     5\n",
      "48     5\n",
      "57     5\n",
      "53     5\n",
      "60     5\n",
      "66     4\n",
      "63     4\n",
      "62     4\n",
      "55     4\n",
      "67     3\n",
      "56     3\n",
      "59     3\n",
      "65     3\n",
      "69     2\n",
      "61     2\n",
      "72     1\n",
      "81     1\n",
      "64     1\n",
      "70     1\n",
      "68     1\n",
      "Name: Age, dtype: int64\n"
     ]
    },
    {
     "data": {
      "text/plain": [
       "<AxesSubplot:xlabel='Pregnancies', ylabel='Age'>"
      ]
     },
     "execution_count": 13,
     "metadata": {},
     "output_type": "execute_result"
    },
    {
     "data": {
      "image/png": "[encoded data removed]",
      "text/plain": [
       "<Figure size 432x288 with 1 Axes>"
      ]
     },
     "metadata": {
      "needs_background": "light"
     },
     "output_type": "display_data"
    }
   ],
   "source": [
    "# Analyse de la variable Age\n",
    "\n",
    "print(data['Age'].nunique())\n",
    "print(data['Age'].value_counts())\n",
    "\n",
    "plt.figure(figsize = (8,8))\n",
    "sns.boxplot(x = 'Pregnancies', y = 'Age', data = data)\n",
    "plt.title(\"Représentation du nombre de grossesses en fonction de l'âge\";\n",
    "         fontdict = title)"
   ]
  },
  {
   "cell_type": "markdown",
   "id": "400a5f36",
   "metadata": {},
   "source": [
    "Notre principale constat est que nous constatons un impact du nombre de grossesses en fonction de l'âge."
   ]
  },
  {
   "cell_type": "code",
   "execution_count": 14,
   "id": "48c6ebf8",
   "metadata": {},
   "outputs": [
    {
     "data": {
      "text/plain": [
       "Text(0.5, 1.0, \"Représentation du niveau de glucose en fonction de l'âge et selon la présence du diabète\")"
      ]
     },
     "execution_count": 14,
     "metadata": {},
     "output_type": "execute_result"
    },
    {
     "data": {
      "image/png": "[encoded data removed]",
      "text/plain": [
       "<Figure size 432x288 with 1 Axes>"
      ]
     },
     "metadata": {
      "needs_background": "light"
     },
     "output_type": "display_data"
    }
   ],
   "source": [
    "# Représentation du glucose selon l'âge et en fonction des résultats du diabète\n",
    "\n",
    "sns.scatterplot(x = 'Age', y = 'Glucose', hue = 'Outcome', data = data,\n",
    "               alpha = 0.4)\n",
    "plt.title(\"Représentation du niveau de glucose en fonction de l'âge et selon la présence du diabète\")"
   ]
  },
  {
   "cell_type": "markdown",
   "id": "ea5e7b30",
   "metadata": {},
   "source": [
    "## Modélisation"
   ]
  },
  {
   "cell_type": "markdown",
   "id": "7468a4ee",
   "metadata": {},
   "source": [
    "Dans le cadre de notre projet, nous allons procéder à une modélisation des données.\n",
    "\n",
    "Notre problématique concerne une classification (la personne a t'elle le diabète?).\n",
    "\n",
    "Nous allons procéder à une modélisation à travers 3 modèles :\n",
    "- Régression Logistique,\n",
    "- Arbre de décisions,\n",
    "- Random Forest"
   ]
  },
  {
   "cell_type": "code",
   "execution_count": 15,
   "id": "d62846ee",
   "metadata": {},
   "outputs": [
    {
     "data": {
      "text/plain": [
       "Index(['Pregnancies', 'Glucose', 'BloodPressure', 'SkinThickness', 'Insulin',\n",
       "       'BMI', 'DiabetesPedigreeFunction', 'Age', 'Outcome'],\n",
       "      dtype='object')"
      ]
     },
     "execution_count": 15,
     "metadata": {},
     "output_type": "execute_result"
    }
   ],
   "source": [
    "data.columns"
   ]
  },
  {
   "cell_type": "code",
   "execution_count": 16,
   "id": "d8a7a2f7",
   "metadata": {},
   "outputs": [],
   "source": [
    "# Séparation du jeu de données\n",
    "\n",
    "X = data[['Pregnancies', 'Glucose', 'BloodPressure', 'SkinThickness', 'Insulin',\n",
    "       'BMI', 'DiabetesPedigreeFunction', 'Age']]\n",
    "y = data['Outcome']"
   ]
  },
  {
   "cell_type": "code",
   "execution_count": 17,
   "id": "0fa83cc3",
   "metadata": {},
   "outputs": [
    {
     "data": {
      "text/plain": [
       "'Données entrainements : '"
      ]
     },
     "metadata": {},
     "output_type": "display_data"
    },
    {
     "data": {
      "text/plain": [
       "(576, 8)"
      ]
     },
     "metadata": {},
     "output_type": "display_data"
    },
    {
     "data": {
      "text/plain": [
       "(192, 8)"
      ]
     },
     "metadata": {},
     "output_type": "display_data"
    },
    {
     "data": {
      "text/plain": [
       "'Données de test'"
      ]
     },
     "metadata": {},
     "output_type": "display_data"
    },
    {
     "data": {
      "text/plain": [
       "(576,)"
      ]
     },
     "metadata": {},
     "output_type": "display_data"
    },
    {
     "data": {
      "text/plain": [
       "(192,)"
      ]
     },
     "metadata": {},
     "output_type": "display_data"
    }
   ],
   "source": [
    "X_train, X_test, y_train, y_test = train_test_split(X, y, test_size = 0.25, random_state = 100)\n",
    "\n",
    "display('Données entrainements : ',X_train.shape, X_test.shape)\n",
    "display('Données de test',y_train.shape, y_test.shape)"
   ]
  },
  {
   "cell_type": "code",
   "execution_count": 18,
   "id": "c8875fbd",
   "metadata": {},
   "outputs": [],
   "source": [
    "# 2. Utilisation du StandardScaler()\n",
    "\n",
    "scaler = StandardScaler()\n",
    "\n",
    "# Entrainement du modèle\n",
    "#scaler.fit(X_train)\n",
    "\n",
    "# Intégration à nos données\n",
    "X_train = scaler.fit_transform(X_train)\n",
    "X_test = scaler.transform(X_test)\n"
   ]
  },
  {
   "cell_type": "markdown",
   "id": "bea716bd",
   "metadata": {},
   "source": [
    "#### 1. Régression logistique"
   ]
  },
  {
   "cell_type": "code",
   "execution_count": 19,
   "id": "4d314345",
   "metadata": {},
   "outputs": [
    {
     "name": "stdout",
     "output_type": "stream",
     "text": [
      "Le score d'apprentissage est de :  0.7934027777777778\n",
      "Le score de test est de :  0.7395833333333334\n"
     ]
    }
   ],
   "source": [
    "# Création du modèle\n",
    "model1 = LogisticRegression()\n",
    "\n",
    "# Entrainement du modèle\n",
    "model1.fit(X_train, y_train)\n",
    "\n",
    "# Analyse de nos prédictions\n",
    "prediction1 = model1.predict(X_test)\n",
    "\n",
    "# on va afficher le % d'apprentissage du modèle\n",
    "A1 = model1.score(X_train, y_train)\n",
    "print (\"Le score d'apprentissage est de : \", A1)\n",
    "\n",
    "\n",
    "R1 = model1.score(X_test, y_test)\n",
    "print(\"Le score de test est de : \",R1)"
   ]
  },
  {
   "cell_type": "code",
   "execution_count": 20,
   "id": "a4ec75fa",
   "metadata": {},
   "outputs": [],
   "source": [
    "# MAE (Mean Absolute Error)\n",
    "\n",
    "MAE1 = mean_absolute_error(y_test, prediction1)\n",
    "      \n",
    "# MSE (Mean Squarred Error)\n",
    "\n",
    "MSE1 = np.sqrt(mean_squared_error(y_test, prediction1))"
   ]
  },
  {
   "cell_type": "markdown",
   "id": "40ecfeb6",
   "metadata": {},
   "source": [
    "#### Random Forest"
   ]
  },
  {
   "cell_type": "code",
   "execution_count": 21,
   "id": "0e856a65",
   "metadata": {},
   "outputs": [
    {
     "name": "stdout",
     "output_type": "stream",
     "text": [
      "Le score d'apprentissage est de :  1.0\n",
      "Le score de test est de :  0.703125\n"
     ]
    }
   ],
   "source": [
    "# Création du modèle\n",
    "model2 = RandomForestClassifier()\n",
    "\n",
    "# Entrainement du modèle\n",
    "model2.fit(X_train, y_train)\n",
    "\n",
    "# Analyse de nos prédictions\n",
    "prediction2 = model2.predict(X_test)\n",
    "\n",
    "# on va afficher le % d'apprentissage du modèle\n",
    "A2 = model2.score(X_train, y_train)\n",
    "print (\"Le score d'apprentissage est de : \", A2)\n",
    "\n",
    "\n",
    "R2 = model2.score(X_test, y_test)\n",
    "print(\"Le score de test est de : \",R2)"
   ]
  },
  {
   "cell_type": "code",
   "execution_count": 22,
   "id": "ca3620b3",
   "metadata": {},
   "outputs": [],
   "source": [
    "# MAE (Mean Absolute Error)\n",
    "\n",
    "MAE2 = mean_absolute_error(y_test, prediction2)\n",
    "      \n",
    "# MSE (Mean Squarred Error)\n",
    "\n",
    "MSE2 = mean_squared_error(y_test, prediction2)"
   ]
  },
  {
   "cell_type": "code",
   "execution_count": 23,
   "id": "73e6f583",
   "metadata": {},
   "outputs": [
    {
     "data": {
      "text/html": [
       "<div>\n",
       "<style scoped>\n",
       "    .dataframe tbody tr th:only-of-type {\n",
       "        vertical-align: middle;\n",
       "    }\n",
       "\n",
       "    .dataframe tbody tr th {\n",
       "        vertical-align: top;\n",
       "    }\n",
       "\n",
       "    .dataframe thead th {\n",
       "        text-align: right;\n",
       "    }\n",
       "</style>\n",
       "<table border=\"1\" class=\"dataframe\">\n",
       "  <thead>\n",
       "    <tr style=\"text-align: right;\">\n",
       "      <th></th>\n",
       "      <th>Score Apprentissage</th>\n",
       "      <th>Score Test</th>\n",
       "      <th>MAE</th>\n",
       "      <th>MSE</th>\n",
       "    </tr>\n",
       "  </thead>\n",
       "  <tbody>\n",
       "    <tr>\n",
       "      <th>Régression logistique</th>\n",
       "      <td>0.793403</td>\n",
       "      <td>0.739583</td>\n",
       "      <td>0.260417</td>\n",
       "      <td>0.510310</td>\n",
       "    </tr>\n",
       "    <tr>\n",
       "      <th>Random Forest</th>\n",
       "      <td>1.000000</td>\n",
       "      <td>0.703125</td>\n",
       "      <td>0.296875</td>\n",
       "      <td>0.296875</td>\n",
       "    </tr>\n",
       "  </tbody>\n",
       "</table>\n",
       "</div>"
      ],
      "text/plain": [
       "                       Score Apprentissage  Score Test       MAE       MSE\n",
       "Régression logistique             0.793403    0.739583  0.260417  0.510310\n",
       "Random Forest                     1.000000    0.703125  0.296875  0.296875"
      ]
     },
     "execution_count": 23,
     "metadata": {},
     "output_type": "execute_result"
    }
   ],
   "source": [
    "A = [A1, A2]\n",
    "R = [R1, R2]\n",
    "MAE = [MAE1, MAE2]\n",
    "MSE = [MSE1, MSE2]\n",
    "\n",
    "indice = ['Régression logistique','Random Forest']\n",
    "\n",
    "\n",
    "data_analyse = pd.DataFrame ({'Score Apprentissage': A,'Score Test' : R, 'MAE':MAE, 'MSE':MSE}, index = indice)\n",
    "data_analyse"
   ]
  },
  {
   "cell_type": "markdown",
   "id": "dcbb0daf",
   "metadata": {},
   "source": [
    "## Optimisation des modèles"
   ]
  },
  {
   "cell_type": "markdown",
   "id": "3b1048a3",
   "metadata": {},
   "source": [
    "### 1. Régression logistique"
   ]
  },
  {
   "cell_type": "markdown",
   "id": "3040d4ae",
   "metadata": {},
   "source": [
    "##### A. Cross Validation"
   ]
  },
  {
   "cell_type": "code",
   "execution_count": 24,
   "id": "472436f6",
   "metadata": {},
   "outputs": [
    {
     "data": {
      "text/plain": [
       "0.7812462189957653"
      ]
     },
     "execution_count": 24,
     "metadata": {},
     "output_type": "execute_result"
    }
   ],
   "source": [
    "cross_val_score(LogisticRegression(), X_train, y_train, cv = 10).mean()"
   ]
  },
  {
   "cell_type": "code",
   "execution_count": 25,
   "id": "e2c881e0",
   "metadata": {},
   "outputs": [],
   "source": [
    "C = [1,10,100,1000]\n",
    "score_apprentissage, score_validation = validation_curve(model1, X_train, y_train,\n",
    "                                                        param_name = 'C',\n",
    "                                                        param_range = C, cv = 10)"
   ]
  },
  {
   "cell_type": "code",
   "execution_count": 26,
   "id": "9f472eb0",
   "metadata": {},
   "outputs": [
    {
     "data": {
      "text/plain": [
       "array([0.78124622, 0.78124622, 0.78124622, 0.78124622])"
      ]
     },
     "execution_count": 26,
     "metadata": {},
     "output_type": "execute_result"
    }
   ],
   "source": [
    "score_validation.mean(axis = 1)"
   ]
  },
  {
   "cell_type": "code",
   "execution_count": 27,
   "id": "fe9f91d4",
   "metadata": {},
   "outputs": [
    {
     "data": {
      "text/plain": [
       "<matplotlib.legend.Legend at 0x2a92265a760>"
      ]
     },
     "execution_count": 27,
     "metadata": {},
     "output_type": "execute_result"
    },
    {
     "data": {
      "image/png": "[encoded data removed]",
      "text/plain": [
       "<Figure size 432x288 with 1 Axes>"
      ]
     },
     "metadata": {
      "needs_background": "light"
     },
     "output_type": "display_data"
    }
   ],
   "source": [
    "plt.plot(C, score_validation.mean(axis = 1), marker = 'v', label = 'Score validation')\n",
    "plt.plot(C, score_apprentissage.mean(axis = 1), marker = 'v', label = 'Score apprentissage')\n",
    "plt.legend()"
   ]
  },
  {
   "cell_type": "markdown",
   "id": "256a64fa",
   "metadata": {},
   "source": [
    "#### B. GridSearchCV"
   ]
  },
  {
   "cell_type": "code",
   "execution_count": 28,
   "id": "8936bf9f",
   "metadata": {},
   "outputs": [],
   "source": [
    "grid_param = {'C' : [1,10,100,1000],\n",
    "             'random_state' : [100, 1000, 2000, 10000]}\n",
    "              \n",
    "grid_search_rl = GridSearchCV(LogisticRegression(), grid_param, cv = 5, verbose = 5)"
   ]
  },
  {
   "cell_type": "code",
   "execution_count": 29,
   "id": "c840f57e",
   "metadata": {},
   "outputs": [
    {
     "name": "stdout",
     "output_type": "stream",
     "text": [
      "Fitting 5 folds for each of 16 candidates, totalling 80 fits\n",
      "[CV 1/5] END .............C=1, random_state=100;, score=0.819 total time=   0.0s\n",
      "[CV 2/5] END .............C=1, random_state=100;, score=0.739 total time=   0.0s\n",
      "[CV 3/5] END .............C=1, random_state=100;, score=0.809 total time=   0.0s\n",
      "[CV 4/5] END .............C=1, random_state=100;, score=0.817 total time=   0.0s\n",
      "[CV 5/5] END .............C=1, random_state=100;, score=0.783 total time=   0.0s\n",
      "[CV 1/5] END ............C=1, random_state=1000;, score=0.819 total time=   0.0s\n",
      "[CV 2/5] END ............C=1, random_state=1000;, score=0.739 total time=   0.0s\n",
      "[CV 3/5] END ............C=1, random_state=1000;, score=0.809 total time=   0.0s\n",
      "[CV 4/5] END ............C=1, random_state=1000;, score=0.817 total time=   0.0s\n",
      "[CV 5/5] END ............C=1, random_state=1000;, score=0.783 total time=   0.0s\n",
      "[CV 1/5] END ............C=1, random_state=2000;, score=0.819 total time=   0.0s\n",
      "[CV 2/5] END ............C=1, random_state=2000;, score=0.739 total time=   0.0s\n",
      "[CV 3/5] END ............C=1, random_state=2000;, score=0.809 total time=   0.0s\n",
      "[CV 4/5] END ............C=1, random_state=2000;, score=0.817 total time=   0.0s\n",
      "[CV 5/5] END ............C=1, random_state=2000;, score=0.783 total time=   0.0s\n",
      "[CV 1/5] END ...........C=1, random_state=10000;, score=0.819 total time=   0.0s\n",
      "[CV 2/5] END ...........C=1, random_state=10000;, score=0.739 total time=   0.0s\n",
      "[CV 3/5] END ...........C=1, random_state=10000;, score=0.809 total time=   0.0s\n",
      "[CV 4/5] END ...........C=1, random_state=10000;, score=0.817 total time=   0.0s\n",
      "[CV 5/5] END ...........C=1, random_state=10000;, score=0.783 total time=   0.0s\n",
      "[CV 1/5] END ............C=10, random_state=100;, score=0.810 total time=   0.0s\n",
      "[CV 2/5] END ............C=10, random_state=100;, score=0.739 total time=   0.0s\n",
      "[CV 3/5] END ............C=10, random_state=100;, score=0.817 total time=   0.0s\n",
      "[CV 4/5] END ............C=10, random_state=100;, score=0.817 total time=   0.0s\n",
      "[CV 5/5] END ............C=10, random_state=100;, score=0.774 total time=   0.0s\n",
      "[CV 1/5] END ...........C=10, random_state=1000;, score=0.810 total time=   0.0s\n",
      "[CV 2/5] END ...........C=10, random_state=1000;, score=0.739 total time=   0.0s\n",
      "[CV 3/5] END ...........C=10, random_state=1000;, score=0.817 total time=   0.0s\n",
      "[CV 4/5] END ...........C=10, random_state=1000;, score=0.817 total time=   0.0s\n",
      "[CV 5/5] END ...........C=10, random_state=1000;, score=0.774 total time=   0.0s\n",
      "[CV 1/5] END ...........C=10, random_state=2000;, score=0.810 total time=   0.0s\n",
      "[CV 2/5] END ...........C=10, random_state=2000;, score=0.739 total time=   0.0s\n",
      "[CV 3/5] END ...........C=10, random_state=2000;, score=0.817 total time=   0.0s\n",
      "[CV 4/5] END ...........C=10, random_state=2000;, score=0.817 total time=   0.0s\n",
      "[CV 5/5] END ...........C=10, random_state=2000;, score=0.774 total time=   0.0s\n",
      "[CV 1/5] END ..........C=10, random_state=10000;, score=0.810 total time=   0.0s\n",
      "[CV 2/5] END ..........C=10, random_state=10000;, score=0.739 total time=   0.0s\n",
      "[CV 3/5] END ..........C=10, random_state=10000;, score=0.817 total time=   0.0s\n",
      "[CV 4/5] END ..........C=10, random_state=10000;, score=0.817 total time=   0.0s\n",
      "[CV 5/5] END ..........C=10, random_state=10000;, score=0.774 total time=   0.0s\n",
      "[CV 1/5] END ...........C=100, random_state=100;, score=0.810 total time=   0.0s\n",
      "[CV 2/5] END ...........C=100, random_state=100;, score=0.739 total time=   0.0s\n",
      "[CV 3/5] END ...........C=100, random_state=100;, score=0.817 total time=   0.0s\n",
      "[CV 4/5] END ...........C=100, random_state=100;, score=0.817 total time=   0.0s\n",
      "[CV 5/5] END ...........C=100, random_state=100;, score=0.774 total time=   0.0s\n",
      "[CV 1/5] END ..........C=100, random_state=1000;, score=0.810 total time=   0.0s\n",
      "[CV 2/5] END ..........C=100, random_state=1000;, score=0.739 total time=   0.0s\n",
      "[CV 3/5] END ..........C=100, random_state=1000;, score=0.817 total time=   0.0s\n",
      "[CV 4/5] END ..........C=100, random_state=1000;, score=0.817 total time=   0.0s\n",
      "[CV 5/5] END ..........C=100, random_state=1000;, score=0.774 total time=   0.0s\n",
      "[CV 1/5] END ..........C=100, random_state=2000;, score=0.810 total time=   0.0s\n",
      "[CV 2/5] END ..........C=100, random_state=2000;, score=0.739 total time=   0.0s\n",
      "[CV 3/5] END ..........C=100, random_state=2000;, score=0.817 total time=   0.0s\n",
      "[CV 4/5] END ..........C=100, random_state=2000;, score=0.817 total time=   0.0s\n",
      "[CV 5/5] END ..........C=100, random_state=2000;, score=0.774 total time=   0.0s\n",
      "[CV 1/5] END .........C=100, random_state=10000;, score=0.810 total time=   0.0s\n",
      "[CV 2/5] END .........C=100, random_state=10000;, score=0.739 total time=   0.0s\n",
      "[CV 3/5] END .........C=100, random_state=10000;, score=0.817 total time=   0.0s\n",
      "[CV 4/5] END .........C=100, random_state=10000;, score=0.817 total time=   0.0s\n",
      "[CV 5/5] END .........C=100, random_state=10000;, score=0.774 total time=   0.0s\n",
      "[CV 1/5] END ..........C=1000, random_state=100;, score=0.810 total time=   0.0s\n",
      "[CV 2/5] END ..........C=1000, random_state=100;, score=0.739 total time=   0.0s\n",
      "[CV 3/5] END ..........C=1000, random_state=100;, score=0.817 total time=   0.0s\n",
      "[CV 4/5] END ..........C=1000, random_state=100;, score=0.817 total time=   0.0s\n",
      "[CV 5/5] END ..........C=1000, random_state=100;, score=0.774 total time=   0.0s\n",
      "[CV 1/5] END .........C=1000, random_state=1000;, score=0.810 total time=   0.0s\n",
      "[CV 2/5] END .........C=1000, random_state=1000;, score=0.739 total time=   0.0s\n",
      "[CV 3/5] END .........C=1000, random_state=1000;, score=0.817 total time=   0.0s\n",
      "[CV 4/5] END .........C=1000, random_state=1000;, score=0.817 total time=   0.0s\n",
      "[CV 5/5] END .........C=1000, random_state=1000;, score=0.774 total time=   0.0s\n",
      "[CV 1/5] END .........C=1000, random_state=2000;, score=0.810 total time=   0.0s\n",
      "[CV 2/5] END .........C=1000, random_state=2000;, score=0.739 total time=   0.0s\n",
      "[CV 3/5] END .........C=1000, random_state=2000;, score=0.817 total time=   0.0s\n",
      "[CV 4/5] END .........C=1000, random_state=2000;, score=0.817 total time=   0.0s\n",
      "[CV 5/5] END .........C=1000, random_state=2000;, score=0.774 total time=   0.0s\n",
      "[CV 1/5] END ........C=1000, random_state=10000;, score=0.810 total time=   0.0s\n",
      "[CV 2/5] END ........C=1000, random_state=10000;, score=0.739 total time=   0.0s\n",
      "[CV 3/5] END ........C=1000, random_state=10000;, score=0.817 total time=   0.0s\n",
      "[CV 4/5] END ........C=1000, random_state=10000;, score=0.817 total time=   0.0s\n",
      "[CV 5/5] END ........C=1000, random_state=10000;, score=0.774 total time=   0.0s\n"
     ]
    },
    {
     "data": {
      "text/html": [
       "<style>#sk-container-id-1 {color: black;background-color: white;}#sk-container-id-1 pre{padding: 0;}#sk-container-id-1 div.sk-toggleable {background-color: white;}#sk-container-id-1 label.sk-toggleable__label {cursor: pointer;display: block;width: 100%;margin-bottom: 0;padding: 0.3em;box-sizing: border-box;text-align: center;}#sk-container-id-1 label.sk-toggleable__label-arrow:before {content: \"▸\";float: left;margin-right: 0.25em;color: #696969;}#sk-container-id-1 label.sk-toggleable__label-arrow:hover:before {color: black;}#sk-container-id-1 div.sk-estimator:hover label.sk-toggleable__label-arrow:before {color: black;}#sk-container-id-1 div.sk-toggleable__content {max-height: 0;max-width: 0;overflow: hidden;text-align: left;background-color: #f0f8ff;}#sk-container-id-1 div.sk-toggleable__content pre {margin: 0.2em;color: black;border-radius: 0.25em;background-color: #f0f8ff;}#sk-container-id-1 input.sk-toggleable__control:checked~div.sk-toggleable__content {max-height: 200px;max-width: 100%;overflow: auto;}#sk-container-id-1 input.sk-toggleable__control:checked~label.sk-toggleable__label-arrow:before {content: \"▾\";}#sk-container-id-1 div.sk-estimator input.sk-toggleable__control:checked~label.sk-toggleable__label {background-color: #d4ebff;}#sk-container-id-1 div.sk-label input.sk-toggleable__control:checked~label.sk-toggleable__label {background-color: #d4ebff;}#sk-container-id-1 input.sk-hidden--visually {border: 0;clip: rect(1px 1px 1px 1px);clip: rect(1px, 1px, 1px, 1px);height: 1px;margin: -1px;overflow: hidden;padding: 0;position: absolute;width: 1px;}#sk-container-id-1 div.sk-estimator {font-family: monospace;background-color: #f0f8ff;border: 1px dotted black;border-radius: 0.25em;box-sizing: border-box;margin-bottom: 0.5em;}#sk-container-id-1 div.sk-estimator:hover {background-color: #d4ebff;}#sk-container-id-1 div.sk-parallel-item::after {content: \"\";width: 100%;border-bottom: 1px solid gray;flex-grow: 1;}#sk-container-id-1 div.sk-label:hover label.sk-toggleable__label {background-color: #d4ebff;}#sk-container-id-1 div.sk-serial::before {content: \"\";position: absolute;border-left: 1px solid gray;box-sizing: border-box;top: 0;bottom: 0;left: 50%;z-index: 0;}#sk-container-id-1 div.sk-serial {display: flex;flex-direction: column;align-items: center;background-color: white;padding-right: 0.2em;padding-left: 0.2em;position: relative;}#sk-container-id-1 div.sk-item {position: relative;z-index: 1;}#sk-container-id-1 div.sk-parallel {display: flex;align-items: stretch;justify-content: center;background-color: white;position: relative;}#sk-container-id-1 div.sk-item::before, #sk-container-id-1 div.sk-parallel-item::before {content: \"\";position: absolute;border-left: 1px solid gray;box-sizing: border-box;top: 0;bottom: 0;left: 50%;z-index: -1;}#sk-container-id-1 div.sk-parallel-item {display: flex;flex-direction: column;z-index: 1;position: relative;background-color: white;}#sk-container-id-1 div.sk-parallel-item:first-child::after {align-self: flex-end;width: 50%;}#sk-container-id-1 div.sk-parallel-item:last-child::after {align-self: flex-start;width: 50%;}#sk-container-id-1 div.sk-parallel-item:only-child::after {width: 0;}#sk-container-id-1 div.sk-dashed-wrapped {border: 1px dashed gray;margin: 0 0.4em 0.5em 0.4em;box-sizing: border-box;padding-bottom: 0.4em;background-color: white;}#sk-container-id-1 div.sk-label label {font-family: monospace;font-weight: bold;display: inline-block;line-height: 1.2em;}#sk-container-id-1 div.sk-label-container {text-align: center;}#sk-container-id-1 div.sk-container {/* jupyter's `normalize.less` sets `[hidden] { display: none; }` but bootstrap.min.css set `[hidden] { display: none !important; }` so we also need the `!important` here to be able to override the default hidden behavior on the sphinx rendered scikit-learn.org. See: https://github.com/scikit-learn/scikit-learn/issues/21755 */display: inline-block !important;position: relative;}#sk-container-id-1 div.sk-text-repr-fallback {display: none;}</style><div id=\"sk-container-id-1\" class=\"sk-top-container\"><div class=\"sk-text-repr-fallback\"><pre>GridSearchCV(cv=5, estimator=LogisticRegression(),\n",
       "             param_grid={&#x27;C&#x27;: [1, 10, 100, 1000],\n",
       "                         &#x27;random_state&#x27;: [100, 1000, 2000, 10000]},\n",
       "             verbose=5)</pre><b>In a Jupyter environment, please rerun this cell to show the HTML representation or trust the notebook. <br />On GitHub, the HTML representation is unable to render, please try loading this page with nbviewer.org.</b></div><div class=\"sk-container\" hidden><div class=\"sk-item sk-dashed-wrapped\"><div class=\"sk-label-container\"><div class=\"sk-label sk-toggleable\"><input class=\"sk-toggleable__control sk-hidden--visually\" id=\"sk-estimator-id-1\" type=\"checkbox\" ><label for=\"sk-estimator-id-1\" class=\"sk-toggleable__label sk-toggleable__label-arrow\">GridSearchCV</label><div class=\"sk-toggleable__content\"><pre>GridSearchCV(cv=5, estimator=LogisticRegression(),\n",
       "             param_grid={&#x27;C&#x27;: [1, 10, 100, 1000],\n",
       "                         &#x27;random_state&#x27;: [100, 1000, 2000, 10000]},\n",
       "             verbose=5)</pre></div></div></div><div class=\"sk-parallel\"><div class=\"sk-parallel-item\"><div class=\"sk-item\"><div class=\"sk-label-container\"><div class=\"sk-label sk-toggleable\"><input class=\"sk-toggleable__control sk-hidden--visually\" id=\"sk-estimator-id-2\" type=\"checkbox\" ><label for=\"sk-estimator-id-2\" class=\"sk-toggleable__label sk-toggleable__label-arrow\">estimator: LogisticRegression</label><div class=\"sk-toggleable__content\"><pre>LogisticRegression()</pre></div></div></div><div class=\"sk-serial\"><div class=\"sk-item\"><div class=\"sk-estimator sk-toggleable\"><input class=\"sk-toggleable__control sk-hidden--visually\" id=\"sk-estimator-id-3\" type=\"checkbox\" ><label for=\"sk-estimator-id-3\" class=\"sk-toggleable__label sk-toggleable__label-arrow\">LogisticRegression</label><div class=\"sk-toggleable__content\"><pre>LogisticRegression()</pre></div></div></div></div></div></div></div></div></div></div>"
      ],
      "text/plain": [
       "GridSearchCV(cv=5, estimator=LogisticRegression(),\n",
       "             param_grid={'C': [1, 10, 100, 1000],\n",
       "                         'random_state': [100, 1000, 2000, 10000]},\n",
       "             verbose=5)"
      ]
     },
     "execution_count": 29,
     "metadata": {},
     "output_type": "execute_result"
    }
   ],
   "source": [
    "# ici, on entraine la fonction\n",
    "grid_search_rl.fit(X_train, y_train)"
   ]
  },
  {
   "cell_type": "code",
   "execution_count": 30,
   "id": "12bbb020",
   "metadata": {},
   "outputs": [
    {
     "name": "stdout",
     "output_type": "stream",
     "text": [
      "Le meilleur score avec les hyperparamètres est de :  0.7933583208395801\n",
      "Les meilleurs hyperparamètres sont :  {'C': 1, 'random_state': 100}\n"
     ]
    }
   ],
   "source": [
    "# Obtenir le meilleur score selon nos choix d'hyperparamètres\n",
    "print('Le meilleur score avec les hyperparamètres est de : ',grid_search_rl.best_score_)\n",
    "\n",
    "# Connaître les meilleurs paramètres\n",
    "print('Les meilleurs hyperparamètres sont : ',grid_search_rl.best_params_)"
   ]
  },
  {
   "cell_type": "markdown",
   "id": "ac9a6f3d",
   "metadata": {},
   "source": [
    "### 2. Random Forest"
   ]
  },
  {
   "cell_type": "markdown",
   "id": "b8553fbd",
   "metadata": {},
   "source": [
    "#### A. Cross Validation"
   ]
  },
  {
   "cell_type": "code",
   "execution_count": 31,
   "id": "69f03587",
   "metadata": {},
   "outputs": [
    {
     "data": {
      "text/plain": [
       "0.7777979431336963"
      ]
     },
     "execution_count": 31,
     "metadata": {},
     "output_type": "execute_result"
    }
   ],
   "source": [
    "cross_val_score(RandomForestClassifier(), X_train, y_train, cv = 10).mean()"
   ]
  },
  {
   "cell_type": "code",
   "execution_count": 32,
   "id": "64982ac1",
   "metadata": {},
   "outputs": [],
   "source": [
    "\n",
    "n_estimators = [100, 300, 500, 700, 1000, 1500, 2000]\n",
    "score_apprentissage, score_validation = validation_curve(model2, X_train, y_train,\n",
    "                                                        param_name = 'n_estimators',\n",
    "                                                        param_range = n_estimators, cv = 10)"
   ]
  },
  {
   "cell_type": "code",
   "execution_count": 33,
   "id": "612a1f19",
   "metadata": {},
   "outputs": [
    {
     "data": {
      "text/plain": [
       "array([0.77259528, 0.78303085, 0.77952208, 0.78472474, 0.77610405,\n",
       "       0.77779794, 0.77952208])"
      ]
     },
     "execution_count": 33,
     "metadata": {},
     "output_type": "execute_result"
    }
   ],
   "source": [
    "score_validation.mean(axis = 1)"
   ]
  },
  {
   "cell_type": "code",
   "execution_count": 34,
   "id": "401771b1",
   "metadata": {},
   "outputs": [
    {
     "data": {
      "text/plain": [
       "<matplotlib.legend.Legend at 0x2a924802dc0>"
      ]
     },
     "execution_count": 34,
     "metadata": {},
     "output_type": "execute_result"
    },
    {
     "data": {
      "image/png": "[encoded data removed]",
      "text/plain": [
       "<Figure size 432x288 with 1 Axes>"
      ]
     },
     "metadata": {
      "needs_background": "light"
     },
     "output_type": "display_data"
    }
   ],
   "source": [
    "plt.plot(n_estimators, score_validation.mean(axis = 1), marker = 'v', label = 'Score validation')\n",
    "plt.plot(n_estimators, score_apprentissage.mean(axis = 1), marker = 'v', label = 'Score apprentissage')\n",
    "plt.legend()"
   ]
  },
  {
   "cell_type": "code",
   "execution_count": 35,
   "id": "17789f70",
   "metadata": {},
   "outputs": [],
   "source": [
    "\n",
    "max_depth = [1, 100, 1000, 10000, 100000, 1000000]\n",
    "score_apprentissage, score_validation = validation_curve(model2, X_train, y_train,\n",
    "                                                        param_name = 'max_depth',\n",
    "                                                        param_range = max_depth, cv = 10)"
   ]
  },
  {
   "cell_type": "code",
   "execution_count": 36,
   "id": "8538be4f",
   "metadata": {},
   "outputs": [
    {
     "data": {
      "text/plain": [
       "array([0.67888687, 0.78133696, 0.78124622, 0.77773745, 0.78127647,\n",
       "       0.77961283])"
      ]
     },
     "execution_count": 36,
     "metadata": {},
     "output_type": "execute_result"
    }
   ],
   "source": [
    "score_validation.mean(axis = 1)"
   ]
  },
  {
   "cell_type": "code",
   "execution_count": 37,
   "id": "e1bee893",
   "metadata": {},
   "outputs": [
    {
     "data": {
      "text/plain": [
       "<matplotlib.legend.Legend at 0x2a924866790>"
      ]
     },
     "execution_count": 37,
     "metadata": {},
     "output_type": "execute_result"
    },
    {
     "data": {
      "image/png": "[encoded data removed]",
      "text/plain": [
       "<Figure size 432x288 with 1 Axes>"
      ]
     },
     "metadata": {
      "needs_background": "light"
     },
     "output_type": "display_data"
    }
   ],
   "source": [
    "plt.plot(max_depth, score_validation.mean(axis = 1), marker = 'v', label = 'Score validation')\n",
    "plt.plot(max_depth, score_apprentissage.mean(axis = 1), marker = 'v', label = 'Score apprentissage')\n",
    "plt.legend()"
   ]
  },
  {
   "cell_type": "markdown",
   "id": "916ac028",
   "metadata": {},
   "source": [
    "#### B. GridSearchCV"
   ]
  },
  {
   "cell_type": "code",
   "execution_count": 38,
   "id": "97f48f13",
   "metadata": {},
   "outputs": [],
   "source": [
    "grid_param = {'n_estimators' : [50, 100, 600, 650, 700],\n",
    "              'max_depth' : [100000, 300000, 500000, 700000, 1000000],\n",
    "             'criterion' : ['gini', 'entropy', 'log_loss'],\n",
    "             'max_features' : ['sqrt', 'log2', None]}\n",
    "              \n",
    "grid_search_rf = GridSearchCV(RandomForestClassifier(), grid_param, cv = 5, verbose = 5)"
   ]
  },
  {
   "cell_type": "code",
   "execution_count": 39,
   "id": "4f127274",
   "metadata": {},
   "outputs": [
    {
     "name": "stdout",
     "output_type": "stream",
     "text": [
      "Fitting 5 folds for each of 225 candidates, totalling 1125 fits\n",
      "[CV 1/5] END criterion=gini, max_depth=100000, max_features=sqrt, n_estimators=50;, score=0.810 total time=   0.1s\n",
      "[CV 2/5] END criterion=gini, max_depth=100000, max_features=sqrt, n_estimators=50;, score=0.748 total time=   0.1s\n",
      "[CV 3/5] END criterion=gini, max_depth=100000, max_features=sqrt, n_estimators=50;, score=0.783 total time=   0.2s\n",
      "[CV 4/5] END criterion=gini, max_depth=100000, max_features=sqrt, n_estimators=50;, score=0.783 total time=   0.1s\n",
      "[CV 5/5] END criterion=gini, max_depth=100000, max_features=sqrt, n_estimators=50;, score=0.765 total time=   0.1s\n",
      "[CV 1/5] END criterion=gini, max_depth=100000, max_features=sqrt, n_estimators=100;, score=0.810 total time=   0.4s\n",
      "[CV 2/5] END criterion=gini, max_depth=100000, max_features=sqrt, n_estimators=100;, score=0.739 total time=   0.4s\n",
      "[CV 3/5] END criterion=gini, max_depth=100000, max_features=sqrt, n_estimators=100;, score=0.774 total time=   0.3s\n",
      "[CV 4/5] END criterion=gini, max_depth=100000, max_features=sqrt, n_estimators=100;, score=0.809 total time=   0.4s\n",
      "[CV 5/5] END criterion=gini, max_depth=100000, max_features=sqrt, n_estimators=100;, score=0.765 total time=   0.3s\n",
      "[CV 1/5] END criterion=gini, max_depth=100000, max_features=sqrt, n_estimators=600;, score=0.810 total time=   2.6s\n",
      "[CV 2/5] END criterion=gini, max_depth=100000, max_features=sqrt, n_estimators=600;, score=0.757 total time=   2.6s\n",
      "[CV 3/5] END criterion=gini, max_depth=100000, max_features=sqrt, n_estimators=600;, score=0.800 total time=   2.6s\n",
      "[CV 4/5] END criterion=gini, max_depth=100000, max_features=sqrt, n_estimators=600;, score=0.817 total time=   2.6s\n",
      "[CV 5/5] END criterion=gini, max_depth=100000, max_features=sqrt, n_estimators=600;, score=0.748 total time=   2.6s\n",
      "[CV 1/5] END criterion=gini, max_depth=100000, max_features=sqrt, n_estimators=650;, score=0.802 total time=   2.8s\n",
      "[CV 2/5] END criterion=gini, max_depth=100000, max_features=sqrt, n_estimators=650;, score=0.739 total time=   2.8s\n",
      "[CV 3/5] END criterion=gini, max_depth=100000, max_features=sqrt, n_estimators=650;, score=0.791 total time=   2.9s\n",
      "[CV 4/5] END criterion=gini, max_depth=100000, max_features=sqrt, n_estimators=650;, score=0.826 total time=   2.8s\n",
      "[CV 5/5] END criterion=gini, max_depth=100000, max_features=sqrt, n_estimators=650;, score=0.774 total time=   2.7s\n",
      "[CV 1/5] END criterion=gini, max_depth=100000, max_features=sqrt, n_estimators=700;, score=0.802 total time=   2.9s\n",
      "[CV 2/5] END criterion=gini, max_depth=100000, max_features=sqrt, n_estimators=700;, score=0.748 total time=   3.0s\n",
      "[CV 3/5] END criterion=gini, max_depth=100000, max_features=sqrt, n_estimators=700;, score=0.783 total time=   3.0s\n",
      "[CV 4/5] END criterion=gini, max_depth=100000, max_features=sqrt, n_estimators=700;, score=0.835 total time=   2.9s\n",
      "[CV 5/5] END criterion=gini, max_depth=100000, max_features=sqrt, n_estimators=700;, score=0.774 total time=   3.6s\n",
      "[CV 1/5] END criterion=gini, max_depth=100000, max_features=log2, n_estimators=50;, score=0.793 total time=   0.2s\n",
      "[CV 2/5] END criterion=gini, max_depth=100000, max_features=log2, n_estimators=50;, score=0.748 total time=   0.2s\n",
      "[CV 3/5] END criterion=gini, max_depth=100000, max_features=log2, n_estimators=50;, score=0.826 total time=   0.2s\n",
      "[CV 4/5] END criterion=gini, max_depth=100000, max_features=log2, n_estimators=50;, score=0.791 total time=   0.2s\n",
      "[CV 5/5] END criterion=gini, max_depth=100000, max_features=log2, n_estimators=50;, score=0.748 total time=   0.2s\n",
      "[CV 1/5] END criterion=gini, max_depth=100000, max_features=log2, n_estimators=100;, score=0.802 total time=   0.4s\n",
      "[CV 2/5] END criterion=gini, max_depth=100000, max_features=log2, n_estimators=100;, score=0.748 total time=   0.4s\n",
      "[CV 3/5] END criterion=gini, max_depth=100000, max_features=log2, n_estimators=100;, score=0.783 total time=   0.4s\n",
      "[CV 4/5] END criterion=gini, max_depth=100000, max_features=log2, n_estimators=100;, score=0.809 total time=   0.4s\n",
      "[CV 5/5] END criterion=gini, max_depth=100000, max_features=log2, n_estimators=100;, score=0.791 total time=   0.4s\n",
      "[CV 1/5] END criterion=gini, max_depth=100000, max_features=log2, n_estimators=600;, score=0.810 total time=   2.7s\n",
      "[CV 2/5] END criterion=gini, max_depth=100000, max_features=log2, n_estimators=600;, score=0.748 total time=   2.7s\n",
      "[CV 3/5] END criterion=gini, max_depth=100000, max_features=log2, n_estimators=600;, score=0.800 total time=   2.8s\n",
      "[CV 4/5] END criterion=gini, max_depth=100000, max_features=log2, n_estimators=600;, score=0.817 total time=   2.7s\n",
      "[CV 5/5] END criterion=gini, max_depth=100000, max_features=log2, n_estimators=600;, score=0.757 total time=   2.7s\n",
      "[CV 1/5] END criterion=gini, max_depth=100000, max_features=log2, n_estimators=650;, score=0.810 total time=   2.9s\n",
      "[CV 2/5] END criterion=gini, max_depth=100000, max_features=log2, n_estimators=650;, score=0.748 total time=   2.9s\n",
      "[CV 3/5] END criterion=gini, max_depth=100000, max_features=log2, n_estimators=650;, score=0.791 total time=   3.0s\n",
      "[CV 4/5] END criterion=gini, max_depth=100000, max_features=log2, n_estimators=650;, score=0.817 total time=   2.9s\n",
      "[CV 5/5] END criterion=gini, max_depth=100000, max_features=log2, n_estimators=650;, score=0.757 total time=   2.9s\n",
      "[CV 1/5] END criterion=gini, max_depth=100000, max_features=log2, n_estimators=700;, score=0.802 total time=   3.2s\n",
      "[CV 2/5] END criterion=gini, max_depth=100000, max_features=log2, n_estimators=700;, score=0.748 total time=   3.2s\n",
      "[CV 3/5] END criterion=gini, max_depth=100000, max_features=log2, n_estimators=700;, score=0.783 total time=   3.2s\n",
      "[CV 4/5] END criterion=gini, max_depth=100000, max_features=log2, n_estimators=700;, score=0.826 total time=   3.2s\n",
      "[CV 5/5] END criterion=gini, max_depth=100000, max_features=log2, n_estimators=700;, score=0.748 total time=   3.1s\n",
      "[CV 1/5] END criterion=gini, max_depth=100000, max_features=None, n_estimators=50;, score=0.776 total time=   0.2s\n",
      "[CV 2/5] END criterion=gini, max_depth=100000, max_features=None, n_estimators=50;, score=0.748 total time=   0.2s\n",
      "[CV 3/5] END criterion=gini, max_depth=100000, max_features=None, n_estimators=50;, score=0.800 total time=   0.2s\n",
      "[CV 4/5] END criterion=gini, max_depth=100000, max_features=None, n_estimators=50;, score=0.835 total time=   0.2s\n",
      "[CV 5/5] END criterion=gini, max_depth=100000, max_features=None, n_estimators=50;, score=0.791 total time=   0.2s\n",
      "[CV 1/5] END criterion=gini, max_depth=100000, max_features=None, n_estimators=100;, score=0.802 total time=   0.5s\n",
      "[CV 2/5] END criterion=gini, max_depth=100000, max_features=None, n_estimators=100;, score=0.757 total time=   0.6s\n",
      "[CV 3/5] END criterion=gini, max_depth=100000, max_features=None, n_estimators=100;, score=0.791 total time=   0.6s\n",
      "[CV 4/5] END criterion=gini, max_depth=100000, max_features=None, n_estimators=100;, score=0.826 total time=   0.6s\n",
      "[CV 5/5] END criterion=gini, max_depth=100000, max_features=None, n_estimators=100;, score=0.748 total time=   0.6s\n",
      "[CV 1/5] END criterion=gini, max_depth=100000, max_features=None, n_estimators=600;, score=0.793 total time=   3.8s\n",
      "[CV 2/5] END criterion=gini, max_depth=100000, max_features=None, n_estimators=600;, score=0.765 total time=   3.8s\n",
      "[CV 3/5] END criterion=gini, max_depth=100000, max_features=None, n_estimators=600;, score=0.791 total time=   3.8s\n",
      "[CV 4/5] END criterion=gini, max_depth=100000, max_features=None, n_estimators=600;, score=0.826 total time=   3.8s\n",
      "[CV 5/5] END criterion=gini, max_depth=100000, max_features=None, n_estimators=600;, score=0.765 total time=   3.7s\n",
      "[CV 1/5] END criterion=gini, max_depth=100000, max_features=None, n_estimators=650;, score=0.793 total time=   4.1s\n",
      "[CV 2/5] END criterion=gini, max_depth=100000, max_features=None, n_estimators=650;, score=0.765 total time=   4.1s\n",
      "[CV 3/5] END criterion=gini, max_depth=100000, max_features=None, n_estimators=650;, score=0.800 total time=   4.2s\n",
      "[CV 4/5] END criterion=gini, max_depth=100000, max_features=None, n_estimators=650;, score=0.817 total time=   4.2s\n",
      "[CV 5/5] END criterion=gini, max_depth=100000, max_features=None, n_estimators=650;, score=0.783 total time=   4.1s\n",
      "[CV 1/5] END criterion=gini, max_depth=100000, max_features=None, n_estimators=700;, score=0.802 total time=   4.4s\n",
      "[CV 2/5] END criterion=gini, max_depth=100000, max_features=None, n_estimators=700;, score=0.765 total time=   4.5s\n",
      "[CV 3/5] END criterion=gini, max_depth=100000, max_features=None, n_estimators=700;, score=0.800 total time=   4.5s\n",
      "[CV 4/5] END criterion=gini, max_depth=100000, max_features=None, n_estimators=700;, score=0.826 total time=   4.4s\n",
      "[CV 5/5] END criterion=gini, max_depth=100000, max_features=None, n_estimators=700;, score=0.765 total time=   4.4s\n",
      "[CV 1/5] END criterion=gini, max_depth=300000, max_features=sqrt, n_estimators=50;, score=0.793 total time=   0.1s\n",
      "[CV 2/5] END criterion=gini, max_depth=300000, max_features=sqrt, n_estimators=50;, score=0.757 total time=   0.1s\n",
      "[CV 3/5] END criterion=gini, max_depth=300000, max_features=sqrt, n_estimators=50;, score=0.757 total time=   0.1s\n",
      "[CV 4/5] END criterion=gini, max_depth=300000, max_features=sqrt, n_estimators=50;, score=0.791 total time=   0.1s\n",
      "[CV 5/5] END criterion=gini, max_depth=300000, max_features=sqrt, n_estimators=50;, score=0.774 total time=   0.1s\n",
      "[CV 1/5] END criterion=gini, max_depth=300000, max_features=sqrt, n_estimators=100;, score=0.784 total time=   0.3s\n",
      "[CV 2/5] END criterion=gini, max_depth=300000, max_features=sqrt, n_estimators=100;, score=0.757 total time=   0.3s\n",
      "[CV 3/5] END criterion=gini, max_depth=300000, max_features=sqrt, n_estimators=100;, score=0.817 total time=   0.3s\n",
      "[CV 4/5] END criterion=gini, max_depth=300000, max_features=sqrt, n_estimators=100;, score=0.809 total time=   0.3s\n",
      "[CV 5/5] END criterion=gini, max_depth=300000, max_features=sqrt, n_estimators=100;, score=0.748 total time=   0.3s\n",
      "[CV 1/5] END criterion=gini, max_depth=300000, max_features=sqrt, n_estimators=600;, score=0.810 total time=   2.5s\n",
      "[CV 2/5] END criterion=gini, max_depth=300000, max_features=sqrt, n_estimators=600;, score=0.757 total time=   2.5s\n",
      "[CV 3/5] END criterion=gini, max_depth=300000, max_features=sqrt, n_estimators=600;, score=0.800 total time=   2.5s\n",
      "[CV 4/5] END criterion=gini, max_depth=300000, max_features=sqrt, n_estimators=600;, score=0.800 total time=   2.5s\n",
      "[CV 5/5] END criterion=gini, max_depth=300000, max_features=sqrt, n_estimators=600;, score=0.765 total time=   2.4s\n",
      "[CV 1/5] END criterion=gini, max_depth=300000, max_features=sqrt, n_estimators=650;, score=0.810 total time=   2.7s\n",
      "[CV 2/5] END criterion=gini, max_depth=300000, max_features=sqrt, n_estimators=650;, score=0.748 total time=   2.7s\n",
      "[CV 3/5] END criterion=gini, max_depth=300000, max_features=sqrt, n_estimators=650;, score=0.800 total time=   2.7s\n",
      "[CV 4/5] END criterion=gini, max_depth=300000, max_features=sqrt, n_estimators=650;, score=0.809 total time=   2.7s\n",
      "[CV 5/5] END criterion=gini, max_depth=300000, max_features=sqrt, n_estimators=650;, score=0.748 total time=   2.8s\n",
      "[CV 1/5] END criterion=gini, max_depth=300000, max_features=sqrt, n_estimators=700;, score=0.802 total time=   2.9s\n",
      "[CV 2/5] END criterion=gini, max_depth=300000, max_features=sqrt, n_estimators=700;, score=0.757 total time=   2.9s\n",
      "[CV 3/5] END criterion=gini, max_depth=300000, max_features=sqrt, n_estimators=700;, score=0.809 total time=   2.9s\n",
      "[CV 4/5] END criterion=gini, max_depth=300000, max_features=sqrt, n_estimators=700;, score=0.835 total time=   2.9s\n",
      "[CV 5/5] END criterion=gini, max_depth=300000, max_features=sqrt, n_estimators=700;, score=0.748 total time=   2.9s\n",
      "[CV 1/5] END criterion=gini, max_depth=300000, max_features=log2, n_estimators=50;, score=0.802 total time=   0.1s\n",
      "[CV 2/5] END criterion=gini, max_depth=300000, max_features=log2, n_estimators=50;, score=0.748 total time=   0.1s\n",
      "[CV 3/5] END criterion=gini, max_depth=300000, max_features=log2, n_estimators=50;, score=0.817 total time=   0.1s\n",
      "[CV 4/5] END criterion=gini, max_depth=300000, max_features=log2, n_estimators=50;, score=0.826 total time=   0.1s\n",
      "[CV 5/5] END criterion=gini, max_depth=300000, max_features=log2, n_estimators=50;, score=0.765 total time=   0.1s\n",
      "[CV 1/5] END criterion=gini, max_depth=300000, max_features=log2, n_estimators=100;, score=0.784 total time=   0.4s\n",
      "[CV 2/5] END criterion=gini, max_depth=300000, max_features=log2, n_estimators=100;, score=0.739 total time=   0.4s\n",
      "[CV 3/5] END criterion=gini, max_depth=300000, max_features=log2, n_estimators=100;, score=0.791 total time=   0.4s\n",
      "[CV 4/5] END criterion=gini, max_depth=300000, max_features=log2, n_estimators=100;, score=0.826 total time=   0.4s\n",
      "[CV 5/5] END criterion=gini, max_depth=300000, max_features=log2, n_estimators=100;, score=0.765 total time=   0.4s\n",
      "[CV 1/5] END criterion=gini, max_depth=300000, max_features=log2, n_estimators=600;, score=0.784 total time=   2.7s\n",
      "[CV 2/5] END criterion=gini, max_depth=300000, max_features=log2, n_estimators=600;, score=0.748 total time=   2.7s\n",
      "[CV 3/5] END criterion=gini, max_depth=300000, max_features=log2, n_estimators=600;, score=0.809 total time=   2.7s\n",
      "[CV 4/5] END criterion=gini, max_depth=300000, max_features=log2, n_estimators=600;, score=0.809 total time=   2.7s\n",
      "[CV 5/5] END criterion=gini, max_depth=300000, max_features=log2, n_estimators=600;, score=0.748 total time=   2.7s\n",
      "[CV 1/5] END criterion=gini, max_depth=300000, max_features=log2, n_estimators=650;, score=0.802 total time=   2.9s\n",
      "[CV 2/5] END criterion=gini, max_depth=300000, max_features=log2, n_estimators=650;, score=0.739 total time=   2.9s\n",
      "[CV 3/5] END criterion=gini, max_depth=300000, max_features=log2, n_estimators=650;, score=0.791 total time=   2.9s\n",
      "[CV 4/5] END criterion=gini, max_depth=300000, max_features=log2, n_estimators=650;, score=0.800 total time=   2.9s\n",
      "[CV 5/5] END criterion=gini, max_depth=300000, max_features=log2, n_estimators=650;, score=0.748 total time=   2.9s\n",
      "[CV 1/5] END criterion=gini, max_depth=300000, max_features=log2, n_estimators=700;, score=0.793 total time=   3.2s\n",
      "[CV 2/5] END criterion=gini, max_depth=300000, max_features=log2, n_estimators=700;, score=0.757 total time=   3.2s\n",
      "[CV 3/5] END criterion=gini, max_depth=300000, max_features=log2, n_estimators=700;, score=0.783 total time=   3.2s\n",
      "[CV 4/5] END criterion=gini, max_depth=300000, max_features=log2, n_estimators=700;, score=0.817 total time=   3.3s\n",
      "[CV 5/5] END criterion=gini, max_depth=300000, max_features=log2, n_estimators=700;, score=0.757 total time=   3.2s\n",
      "[CV 1/5] END criterion=gini, max_depth=300000, max_features=None, n_estimators=50;, score=0.750 total time=   0.2s\n",
      "[CV 2/5] END criterion=gini, max_depth=300000, max_features=None, n_estimators=50;, score=0.783 total time=   0.2s\n",
      "[CV 3/5] END criterion=gini, max_depth=300000, max_features=None, n_estimators=50;, score=0.791 total time=   0.2s\n",
      "[CV 4/5] END criterion=gini, max_depth=300000, max_features=None, n_estimators=50;, score=0.800 total time=   0.2s\n",
      "[CV 5/5] END criterion=gini, max_depth=300000, max_features=None, n_estimators=50;, score=0.748 total time=   0.2s\n",
      "[CV 1/5] END criterion=gini, max_depth=300000, max_features=None, n_estimators=100;, score=0.767 total time=   0.6s\n",
      "[CV 2/5] END criterion=gini, max_depth=300000, max_features=None, n_estimators=100;, score=0.765 total time=   0.6s\n",
      "[CV 3/5] END criterion=gini, max_depth=300000, max_features=None, n_estimators=100;, score=0.800 total time=   0.6s\n",
      "[CV 4/5] END criterion=gini, max_depth=300000, max_features=None, n_estimators=100;, score=0.809 total time=   0.6s\n",
      "[CV 5/5] END criterion=gini, max_depth=300000, max_features=None, n_estimators=100;, score=0.774 total time=   0.6s\n",
      "[CV 1/5] END criterion=gini, max_depth=300000, max_features=None, n_estimators=600;, score=0.802 total time=   3.8s\n",
      "[CV 2/5] END criterion=gini, max_depth=300000, max_features=None, n_estimators=600;, score=0.748 total time=   3.8s\n",
      "[CV 3/5] END criterion=gini, max_depth=300000, max_features=None, n_estimators=600;, score=0.800 total time=   3.9s\n",
      "[CV 4/5] END criterion=gini, max_depth=300000, max_features=None, n_estimators=600;, score=0.826 total time=   3.8s\n",
      "[CV 5/5] END criterion=gini, max_depth=300000, max_features=None, n_estimators=600;, score=0.765 total time=   3.7s\n",
      "[CV 1/5] END criterion=gini, max_depth=300000, max_features=None, n_estimators=650;, score=0.793 total time=   4.1s\n",
      "[CV 2/5] END criterion=gini, max_depth=300000, max_features=None, n_estimators=650;, score=0.765 total time=   4.2s\n",
      "[CV 3/5] END criterion=gini, max_depth=300000, max_features=None, n_estimators=650;, score=0.800 total time=   4.6s\n",
      "[CV 4/5] END criterion=gini, max_depth=300000, max_features=None, n_estimators=650;, score=0.826 total time=   4.3s\n",
      "[CV 5/5] END criterion=gini, max_depth=300000, max_features=None, n_estimators=650;, score=0.765 total time=   4.1s\n",
      "[CV 1/5] END criterion=gini, max_depth=300000, max_features=None, n_estimators=700;, score=0.784 total time=   4.4s\n",
      "[CV 2/5] END criterion=gini, max_depth=300000, max_features=None, n_estimators=700;, score=0.748 total time=   4.4s\n",
      "[CV 3/5] END criterion=gini, max_depth=300000, max_features=None, n_estimators=700;, score=0.791 total time=   4.5s\n",
      "[CV 4/5] END criterion=gini, max_depth=300000, max_features=None, n_estimators=700;, score=0.817 total time=   4.4s\n",
      "[CV 5/5] END criterion=gini, max_depth=300000, max_features=None, n_estimators=700;, score=0.765 total time=   4.4s\n",
      "[CV 1/5] END criterion=gini, max_depth=500000, max_features=sqrt, n_estimators=50;, score=0.819 total time=   0.1s\n",
      "[CV 2/5] END criterion=gini, max_depth=500000, max_features=sqrt, n_estimators=50;, score=0.739 total time=   0.1s\n",
      "[CV 3/5] END criterion=gini, max_depth=500000, max_features=sqrt, n_estimators=50;, score=0.783 total time=   0.1s\n",
      "[CV 4/5] END criterion=gini, max_depth=500000, max_features=sqrt, n_estimators=50;, score=0.817 total time=   0.1s\n",
      "[CV 5/5] END criterion=gini, max_depth=500000, max_features=sqrt, n_estimators=50;, score=0.757 total time=   0.1s\n",
      "[CV 1/5] END criterion=gini, max_depth=500000, max_features=sqrt, n_estimators=100;, score=0.784 total time=   0.3s\n",
      "[CV 2/5] END criterion=gini, max_depth=500000, max_features=sqrt, n_estimators=100;, score=0.730 total time=   0.3s\n",
      "[CV 3/5] END criterion=gini, max_depth=500000, max_features=sqrt, n_estimators=100;, score=0.765 total time=   0.3s\n",
      "[CV 4/5] END criterion=gini, max_depth=500000, max_features=sqrt, n_estimators=100;, score=0.826 total time=   0.3s\n",
      "[CV 5/5] END criterion=gini, max_depth=500000, max_features=sqrt, n_estimators=100;, score=0.765 total time=   0.3s\n",
      "[CV 1/5] END criterion=gini, max_depth=500000, max_features=sqrt, n_estimators=600;, score=0.810 total time=   2.5s\n",
      "[CV 2/5] END criterion=gini, max_depth=500000, max_features=sqrt, n_estimators=600;, score=0.748 total time=   2.4s\n",
      "[CV 3/5] END criterion=gini, max_depth=500000, max_features=sqrt, n_estimators=600;, score=0.791 total time=   2.5s\n",
      "[CV 4/5] END criterion=gini, max_depth=500000, max_features=sqrt, n_estimators=600;, score=0.826 total time=   2.5s\n",
      "[CV 5/5] END criterion=gini, max_depth=500000, max_features=sqrt, n_estimators=600;, score=0.774 total time=   2.7s\n",
      "[CV 1/5] END criterion=gini, max_depth=500000, max_features=sqrt, n_estimators=650;, score=0.810 total time=   3.4s\n",
      "[CV 2/5] END criterion=gini, max_depth=500000, max_features=sqrt, n_estimators=650;, score=0.748 total time=   2.9s\n",
      "[CV 3/5] END criterion=gini, max_depth=500000, max_features=sqrt, n_estimators=650;, score=0.800 total time=   2.7s\n",
      "[CV 4/5] END criterion=gini, max_depth=500000, max_features=sqrt, n_estimators=650;, score=0.809 total time=   2.8s\n",
      "[CV 5/5] END criterion=gini, max_depth=500000, max_features=sqrt, n_estimators=650;, score=0.748 total time=   2.7s\n",
      "[CV 1/5] END criterion=gini, max_depth=500000, max_features=sqrt, n_estimators=700;, score=0.802 total time=   2.9s\n",
      "[CV 2/5] END criterion=gini, max_depth=500000, max_features=sqrt, n_estimators=700;, score=0.748 total time=   3.1s\n",
      "[CV 3/5] END criterion=gini, max_depth=500000, max_features=sqrt, n_estimators=700;, score=0.783 total time=   3.0s\n",
      "[CV 4/5] END criterion=gini, max_depth=500000, max_features=sqrt, n_estimators=700;, score=0.817 total time=   3.0s\n",
      "[CV 5/5] END criterion=gini, max_depth=500000, max_features=sqrt, n_estimators=700;, score=0.765 total time=   3.1s\n",
      "[CV 1/5] END criterion=gini, max_depth=500000, max_features=log2, n_estimators=50;, score=0.802 total time=   0.2s\n",
      "[CV 2/5] END criterion=gini, max_depth=500000, max_features=log2, n_estimators=50;, score=0.730 total time=   0.1s\n",
      "[CV 3/5] END criterion=gini, max_depth=500000, max_features=log2, n_estimators=50;, score=0.817 total time=   0.1s\n",
      "[CV 4/5] END criterion=gini, max_depth=500000, max_features=log2, n_estimators=50;, score=0.809 total time=   0.1s\n",
      "[CV 5/5] END criterion=gini, max_depth=500000, max_features=log2, n_estimators=50;, score=0.748 total time=   0.1s\n",
      "[CV 1/5] END criterion=gini, max_depth=500000, max_features=log2, n_estimators=100;, score=0.802 total time=   0.4s\n",
      "[CV 2/5] END criterion=gini, max_depth=500000, max_features=log2, n_estimators=100;, score=0.730 total time=   0.4s\n",
      "[CV 3/5] END criterion=gini, max_depth=500000, max_features=log2, n_estimators=100;, score=0.809 total time=   0.4s\n",
      "[CV 4/5] END criterion=gini, max_depth=500000, max_features=log2, n_estimators=100;, score=0.826 total time=   0.4s\n",
      "[CV 5/5] END criterion=gini, max_depth=500000, max_features=log2, n_estimators=100;, score=0.739 total time=   0.4s\n",
      "[CV 1/5] END criterion=gini, max_depth=500000, max_features=log2, n_estimators=600;, score=0.802 total time=   2.7s\n",
      "[CV 2/5] END criterion=gini, max_depth=500000, max_features=log2, n_estimators=600;, score=0.748 total time=   2.8s\n",
      "[CV 3/5] END criterion=gini, max_depth=500000, max_features=log2, n_estimators=600;, score=0.783 total time=   2.8s\n",
      "[CV 4/5] END criterion=gini, max_depth=500000, max_features=log2, n_estimators=600;, score=0.809 total time=   2.8s\n",
      "[CV 5/5] END criterion=gini, max_depth=500000, max_features=log2, n_estimators=600;, score=0.757 total time=   2.7s\n",
      "[CV 1/5] END criterion=gini, max_depth=500000, max_features=log2, n_estimators=650;, score=0.810 total time=   2.9s\n",
      "[CV 2/5] END criterion=gini, max_depth=500000, max_features=log2, n_estimators=650;, score=0.748 total time=   2.9s\n",
      "[CV 3/5] END criterion=gini, max_depth=500000, max_features=log2, n_estimators=650;, score=0.800 total time=   3.0s\n",
      "[CV 4/5] END criterion=gini, max_depth=500000, max_features=log2, n_estimators=650;, score=0.817 total time=   2.9s\n",
      "[CV 5/5] END criterion=gini, max_depth=500000, max_features=log2, n_estimators=650;, score=0.757 total time=   2.9s\n",
      "[CV 1/5] END criterion=gini, max_depth=500000, max_features=log2, n_estimators=700;, score=0.819 total time=   3.1s\n",
      "[CV 2/5] END criterion=gini, max_depth=500000, max_features=log2, n_estimators=700;, score=0.739 total time=   3.2s\n",
      "[CV 3/5] END criterion=gini, max_depth=500000, max_features=log2, n_estimators=700;, score=0.791 total time=   3.2s\n",
      "[CV 4/5] END criterion=gini, max_depth=500000, max_features=log2, n_estimators=700;, score=0.835 total time=   3.2s\n",
      "[CV 5/5] END criterion=gini, max_depth=500000, max_features=log2, n_estimators=700;, score=0.748 total time=   3.1s\n",
      "[CV 1/5] END criterion=gini, max_depth=500000, max_features=None, n_estimators=50;, score=0.750 total time=   0.2s\n",
      "[CV 2/5] END criterion=gini, max_depth=500000, max_features=None, n_estimators=50;, score=0.791 total time=   0.2s\n",
      "[CV 3/5] END criterion=gini, max_depth=500000, max_features=None, n_estimators=50;, score=0.791 total time=   0.2s\n",
      "[CV 4/5] END criterion=gini, max_depth=500000, max_features=None, n_estimators=50;, score=0.774 total time=   0.2s\n",
      "[CV 5/5] END criterion=gini, max_depth=500000, max_features=None, n_estimators=50;, score=0.783 total time=   0.2s\n",
      "[CV 1/5] END criterion=gini, max_depth=500000, max_features=None, n_estimators=100;, score=0.784 total time=   0.6s\n",
      "[CV 2/5] END criterion=gini, max_depth=500000, max_features=None, n_estimators=100;, score=0.739 total time=   0.6s\n",
      "[CV 3/5] END criterion=gini, max_depth=500000, max_features=None, n_estimators=100;, score=0.800 total time=   0.6s\n",
      "[CV 4/5] END criterion=gini, max_depth=500000, max_features=None, n_estimators=100;, score=0.809 total time=   0.6s\n",
      "[CV 5/5] END criterion=gini, max_depth=500000, max_features=None, n_estimators=100;, score=0.774 total time=   0.6s\n",
      "[CV 1/5] END criterion=gini, max_depth=500000, max_features=None, n_estimators=600;, score=0.793 total time=   3.8s\n",
      "[CV 2/5] END criterion=gini, max_depth=500000, max_features=None, n_estimators=600;, score=0.757 total time=   3.8s\n",
      "[CV 3/5] END criterion=gini, max_depth=500000, max_features=None, n_estimators=600;, score=0.791 total time=   3.9s\n",
      "[CV 4/5] END criterion=gini, max_depth=500000, max_features=None, n_estimators=600;, score=0.843 total time=   3.8s\n",
      "[CV 5/5] END criterion=gini, max_depth=500000, max_features=None, n_estimators=600;, score=0.783 total time=   3.7s\n",
      "[CV 1/5] END criterion=gini, max_depth=500000, max_features=None, n_estimators=650;, score=0.802 total time=   4.1s\n",
      "[CV 2/5] END criterion=gini, max_depth=500000, max_features=None, n_estimators=650;, score=0.757 total time=   4.1s\n",
      "[CV 3/5] END criterion=gini, max_depth=500000, max_features=None, n_estimators=650;, score=0.800 total time=   4.2s\n",
      "[CV 4/5] END criterion=gini, max_depth=500000, max_features=None, n_estimators=650;, score=0.809 total time=   4.1s\n",
      "[CV 5/5] END criterion=gini, max_depth=500000, max_features=None, n_estimators=650;, score=0.774 total time=   4.1s\n",
      "[CV 1/5] END criterion=gini, max_depth=500000, max_features=None, n_estimators=700;, score=0.793 total time=   4.4s\n",
      "[CV 2/5] END criterion=gini, max_depth=500000, max_features=None, n_estimators=700;, score=0.765 total time=   4.5s\n",
      "[CV 3/5] END criterion=gini, max_depth=500000, max_features=None, n_estimators=700;, score=0.791 total time=   4.6s\n",
      "[CV 4/5] END criterion=gini, max_depth=500000, max_features=None, n_estimators=700;, score=0.826 total time=   4.4s\n",
      "[CV 5/5] END criterion=gini, max_depth=500000, max_features=None, n_estimators=700;, score=0.783 total time=   4.4s\n",
      "[CV 1/5] END criterion=gini, max_depth=700000, max_features=sqrt, n_estimators=50;, score=0.793 total time=   0.1s\n",
      "[CV 2/5] END criterion=gini, max_depth=700000, max_features=sqrt, n_estimators=50;, score=0.730 total time=   0.1s\n",
      "[CV 3/5] END criterion=gini, max_depth=700000, max_features=sqrt, n_estimators=50;, score=0.783 total time=   0.1s\n",
      "[CV 4/5] END criterion=gini, max_depth=700000, max_features=sqrt, n_estimators=50;, score=0.826 total time=   0.1s\n",
      "[CV 5/5] END criterion=gini, max_depth=700000, max_features=sqrt, n_estimators=50;, score=0.748 total time=   0.1s\n",
      "[CV 1/5] END criterion=gini, max_depth=700000, max_features=sqrt, n_estimators=100;, score=0.793 total time=   0.3s\n",
      "[CV 2/5] END criterion=gini, max_depth=700000, max_features=sqrt, n_estimators=100;, score=0.748 total time=   0.3s\n",
      "[CV 3/5] END criterion=gini, max_depth=700000, max_features=sqrt, n_estimators=100;, score=0.774 total time=   0.3s\n",
      "[CV 4/5] END criterion=gini, max_depth=700000, max_features=sqrt, n_estimators=100;, score=0.817 total time=   0.3s\n",
      "[CV 5/5] END criterion=gini, max_depth=700000, max_features=sqrt, n_estimators=100;, score=0.783 total time=   0.3s\n",
      "[CV 1/5] END criterion=gini, max_depth=700000, max_features=sqrt, n_estimators=600;, score=0.810 total time=   2.5s\n",
      "[CV 2/5] END criterion=gini, max_depth=700000, max_features=sqrt, n_estimators=600;, score=0.730 total time=   2.5s\n",
      "[CV 3/5] END criterion=gini, max_depth=700000, max_features=sqrt, n_estimators=600;, score=0.783 total time=   2.5s\n",
      "[CV 4/5] END criterion=gini, max_depth=700000, max_features=sqrt, n_estimators=600;, score=0.826 total time=   2.5s\n",
      "[CV 5/5] END criterion=gini, max_depth=700000, max_features=sqrt, n_estimators=600;, score=0.748 total time=   2.5s\n",
      "[CV 1/5] END criterion=gini, max_depth=700000, max_features=sqrt, n_estimators=650;, score=0.784 total time=   2.7s\n",
      "[CV 2/5] END criterion=gini, max_depth=700000, max_features=sqrt, n_estimators=650;, score=0.739 total time=   2.7s\n",
      "[CV 3/5] END criterion=gini, max_depth=700000, max_features=sqrt, n_estimators=650;, score=0.783 total time=   2.7s\n",
      "[CV 4/5] END criterion=gini, max_depth=700000, max_features=sqrt, n_estimators=650;, score=0.826 total time=   2.7s\n",
      "[CV 5/5] END criterion=gini, max_depth=700000, max_features=sqrt, n_estimators=650;, score=0.739 total time=   2.7s\n",
      "[CV 1/5] END criterion=gini, max_depth=700000, max_features=sqrt, n_estimators=700;, score=0.810 total time=   2.9s\n",
      "[CV 2/5] END criterion=gini, max_depth=700000, max_features=sqrt, n_estimators=700;, score=0.739 total time=   2.9s\n",
      "[CV 3/5] END criterion=gini, max_depth=700000, max_features=sqrt, n_estimators=700;, score=0.800 total time=   2.9s\n",
      "[CV 4/5] END criterion=gini, max_depth=700000, max_features=sqrt, n_estimators=700;, score=0.817 total time=   2.9s\n",
      "[CV 5/5] END criterion=gini, max_depth=700000, max_features=sqrt, n_estimators=700;, score=0.774 total time=   2.9s\n",
      "[CV 1/5] END criterion=gini, max_depth=700000, max_features=log2, n_estimators=50;, score=0.767 total time=   0.1s\n",
      "[CV 2/5] END criterion=gini, max_depth=700000, max_features=log2, n_estimators=50;, score=0.757 total time=   0.1s\n",
      "[CV 3/5] END criterion=gini, max_depth=700000, max_features=log2, n_estimators=50;, score=0.774 total time=   0.1s\n",
      "[CV 4/5] END criterion=gini, max_depth=700000, max_features=log2, n_estimators=50;, score=0.800 total time=   0.1s\n",
      "[CV 5/5] END criterion=gini, max_depth=700000, max_features=log2, n_estimators=50;, score=0.739 total time=   0.1s\n",
      "[CV 1/5] END criterion=gini, max_depth=700000, max_features=log2, n_estimators=100;, score=0.793 total time=   0.4s\n",
      "[CV 2/5] END criterion=gini, max_depth=700000, max_features=log2, n_estimators=100;, score=0.757 total time=   0.4s\n",
      "[CV 3/5] END criterion=gini, max_depth=700000, max_features=log2, n_estimators=100;, score=0.800 total time=   0.4s\n",
      "[CV 4/5] END criterion=gini, max_depth=700000, max_features=log2, n_estimators=100;, score=0.817 total time=   0.4s\n",
      "[CV 5/5] END criterion=gini, max_depth=700000, max_features=log2, n_estimators=100;, score=0.757 total time=   0.4s\n",
      "[CV 1/5] END criterion=gini, max_depth=700000, max_features=log2, n_estimators=600;, score=0.810 total time=   2.7s\n",
      "[CV 2/5] END criterion=gini, max_depth=700000, max_features=log2, n_estimators=600;, score=0.748 total time=   2.7s\n",
      "[CV 3/5] END criterion=gini, max_depth=700000, max_features=log2, n_estimators=600;, score=0.791 total time=   2.7s\n",
      "[CV 4/5] END criterion=gini, max_depth=700000, max_features=log2, n_estimators=600;, score=0.817 total time=   2.7s\n",
      "[CV 5/5] END criterion=gini, max_depth=700000, max_features=log2, n_estimators=600;, score=0.757 total time=   2.7s\n",
      "[CV 1/5] END criterion=gini, max_depth=700000, max_features=log2, n_estimators=650;, score=0.802 total time=   2.9s\n",
      "[CV 2/5] END criterion=gini, max_depth=700000, max_features=log2, n_estimators=650;, score=0.748 total time=   2.9s\n",
      "[CV 3/5] END criterion=gini, max_depth=700000, max_features=log2, n_estimators=650;, score=0.783 total time=   3.1s\n",
      "[CV 4/5] END criterion=gini, max_depth=700000, max_features=log2, n_estimators=650;, score=0.817 total time=   2.9s\n",
      "[CV 5/5] END criterion=gini, max_depth=700000, max_features=log2, n_estimators=650;, score=0.739 total time=   2.9s\n",
      "[CV 1/5] END criterion=gini, max_depth=700000, max_features=log2, n_estimators=700;, score=0.810 total time=   3.2s\n",
      "[CV 2/5] END criterion=gini, max_depth=700000, max_features=log2, n_estimators=700;, score=0.748 total time=   3.2s\n",
      "[CV 3/5] END criterion=gini, max_depth=700000, max_features=log2, n_estimators=700;, score=0.783 total time=   3.2s\n",
      "[CV 4/5] END criterion=gini, max_depth=700000, max_features=log2, n_estimators=700;, score=0.826 total time=   3.2s\n",
      "[CV 5/5] END criterion=gini, max_depth=700000, max_features=log2, n_estimators=700;, score=0.748 total time=   3.1s\n",
      "[CV 1/5] END criterion=gini, max_depth=700000, max_features=None, n_estimators=50;, score=0.767 total time=   0.2s\n",
      "[CV 2/5] END criterion=gini, max_depth=700000, max_features=None, n_estimators=50;, score=0.765 total time=   0.2s\n",
      "[CV 3/5] END criterion=gini, max_depth=700000, max_features=None, n_estimators=50;, score=0.783 total time=   0.2s\n",
      "[CV 4/5] END criterion=gini, max_depth=700000, max_features=None, n_estimators=50;, score=0.852 total time=   0.2s\n",
      "[CV 5/5] END criterion=gini, max_depth=700000, max_features=None, n_estimators=50;, score=0.748 total time=   0.2s\n",
      "[CV 1/5] END criterion=gini, max_depth=700000, max_features=None, n_estimators=100;, score=0.776 total time=   0.5s\n",
      "[CV 2/5] END criterion=gini, max_depth=700000, max_features=None, n_estimators=100;, score=0.791 total time=   0.5s\n",
      "[CV 3/5] END criterion=gini, max_depth=700000, max_features=None, n_estimators=100;, score=0.800 total time=   0.6s\n",
      "[CV 4/5] END criterion=gini, max_depth=700000, max_features=None, n_estimators=100;, score=0.826 total time=   0.6s\n",
      "[CV 5/5] END criterion=gini, max_depth=700000, max_features=None, n_estimators=100;, score=0.791 total time=   0.5s\n",
      "[CV 1/5] END criterion=gini, max_depth=700000, max_features=None, n_estimators=600;, score=0.810 total time=   3.8s\n",
      "[CV 2/5] END criterion=gini, max_depth=700000, max_features=None, n_estimators=600;, score=0.765 total time=   3.8s\n",
      "[CV 3/5] END criterion=gini, max_depth=700000, max_features=None, n_estimators=600;, score=0.800 total time=   3.9s\n",
      "[CV 4/5] END criterion=gini, max_depth=700000, max_features=None, n_estimators=600;, score=0.817 total time=   3.8s\n",
      "[CV 5/5] END criterion=gini, max_depth=700000, max_features=None, n_estimators=600;, score=0.757 total time=   3.8s\n",
      "[CV 1/5] END criterion=gini, max_depth=700000, max_features=None, n_estimators=650;, score=0.793 total time=   4.1s\n",
      "[CV 2/5] END criterion=gini, max_depth=700000, max_features=None, n_estimators=650;, score=0.748 total time=   4.2s\n",
      "[CV 3/5] END criterion=gini, max_depth=700000, max_features=None, n_estimators=650;, score=0.800 total time=   4.2s\n",
      "[CV 4/5] END criterion=gini, max_depth=700000, max_features=None, n_estimators=650;, score=0.817 total time=   4.1s\n",
      "[CV 5/5] END criterion=gini, max_depth=700000, max_features=None, n_estimators=650;, score=0.765 total time=   4.1s\n",
      "[CV 1/5] END criterion=gini, max_depth=700000, max_features=None, n_estimators=700;, score=0.819 total time=   4.4s\n",
      "[CV 2/5] END criterion=gini, max_depth=700000, max_features=None, n_estimators=700;, score=0.748 total time=   4.5s\n",
      "[CV 3/5] END criterion=gini, max_depth=700000, max_features=None, n_estimators=700;, score=0.800 total time=   4.5s\n",
      "[CV 4/5] END criterion=gini, max_depth=700000, max_features=None, n_estimators=700;, score=0.817 total time=   4.5s\n",
      "[CV 5/5] END criterion=gini, max_depth=700000, max_features=None, n_estimators=700;, score=0.783 total time=   4.4s\n",
      "[CV 1/5] END criterion=gini, max_depth=1000000, max_features=sqrt, n_estimators=50;, score=0.802 total time=   0.1s\n",
      "[CV 2/5] END criterion=gini, max_depth=1000000, max_features=sqrt, n_estimators=50;, score=0.757 total time=   0.1s\n",
      "[CV 3/5] END criterion=gini, max_depth=1000000, max_features=sqrt, n_estimators=50;, score=0.817 total time=   0.1s\n",
      "[CV 4/5] END criterion=gini, max_depth=1000000, max_features=sqrt, n_estimators=50;, score=0.800 total time=   0.1s\n",
      "[CV 5/5] END criterion=gini, max_depth=1000000, max_features=sqrt, n_estimators=50;, score=0.757 total time=   0.1s\n",
      "[CV 1/5] END criterion=gini, max_depth=1000000, max_features=sqrt, n_estimators=100;, score=0.784 total time=   0.3s\n",
      "[CV 2/5] END criterion=gini, max_depth=1000000, max_features=sqrt, n_estimators=100;, score=0.757 total time=   0.3s\n",
      "[CV 3/5] END criterion=gini, max_depth=1000000, max_features=sqrt, n_estimators=100;, score=0.809 total time=   0.3s\n",
      "[CV 4/5] END criterion=gini, max_depth=1000000, max_features=sqrt, n_estimators=100;, score=0.809 total time=   0.3s\n",
      "[CV 5/5] END criterion=gini, max_depth=1000000, max_features=sqrt, n_estimators=100;, score=0.757 total time=   0.3s\n",
      "[CV 1/5] END criterion=gini, max_depth=1000000, max_features=sqrt, n_estimators=600;, score=0.802 total time=   2.5s\n",
      "[CV 2/5] END criterion=gini, max_depth=1000000, max_features=sqrt, n_estimators=600;, score=0.757 total time=   2.5s\n",
      "[CV 3/5] END criterion=gini, max_depth=1000000, max_features=sqrt, n_estimators=600;, score=0.809 total time=   2.5s\n",
      "[CV 4/5] END criterion=gini, max_depth=1000000, max_features=sqrt, n_estimators=600;, score=0.809 total time=   2.5s\n",
      "[CV 5/5] END criterion=gini, max_depth=1000000, max_features=sqrt, n_estimators=600;, score=0.748 total time=   2.4s\n",
      "[CV 1/5] END criterion=gini, max_depth=1000000, max_features=sqrt, n_estimators=650;, score=0.810 total time=   2.7s\n",
      "[CV 2/5] END criterion=gini, max_depth=1000000, max_features=sqrt, n_estimators=650;, score=0.739 total time=   2.7s\n",
      "[CV 3/5] END criterion=gini, max_depth=1000000, max_features=sqrt, n_estimators=650;, score=0.791 total time=   2.7s\n",
      "[CV 4/5] END criterion=gini, max_depth=1000000, max_features=sqrt, n_estimators=650;, score=0.809 total time=   2.7s\n",
      "[CV 5/5] END criterion=gini, max_depth=1000000, max_features=sqrt, n_estimators=650;, score=0.774 total time=   2.7s\n",
      "[CV 1/5] END criterion=gini, max_depth=1000000, max_features=sqrt, n_estimators=700;, score=0.810 total time=   2.9s\n",
      "[CV 2/5] END criterion=gini, max_depth=1000000, max_features=sqrt, n_estimators=700;, score=0.765 total time=   2.9s\n",
      "[CV 3/5] END criterion=gini, max_depth=1000000, max_features=sqrt, n_estimators=700;, score=0.800 total time=   2.9s\n",
      "[CV 4/5] END criterion=gini, max_depth=1000000, max_features=sqrt, n_estimators=700;, score=0.809 total time=   2.9s\n",
      "[CV 5/5] END criterion=gini, max_depth=1000000, max_features=sqrt, n_estimators=700;, score=0.791 total time=   2.9s\n",
      "[CV 1/5] END criterion=gini, max_depth=1000000, max_features=log2, n_estimators=50;, score=0.793 total time=   0.1s\n",
      "[CV 2/5] END criterion=gini, max_depth=1000000, max_features=log2, n_estimators=50;, score=0.765 total time=   0.1s\n",
      "[CV 3/5] END criterion=gini, max_depth=1000000, max_features=log2, n_estimators=50;, score=0.774 total time=   0.1s\n",
      "[CV 4/5] END criterion=gini, max_depth=1000000, max_features=log2, n_estimators=50;, score=0.817 total time=   0.1s\n",
      "[CV 5/5] END criterion=gini, max_depth=1000000, max_features=log2, n_estimators=50;, score=0.765 total time=   0.1s\n",
      "[CV 1/5] END criterion=gini, max_depth=1000000, max_features=log2, n_estimators=100;, score=0.784 total time=   0.4s\n",
      "[CV 2/5] END criterion=gini, max_depth=1000000, max_features=log2, n_estimators=100;, score=0.748 total time=   0.4s\n",
      "[CV 3/5] END criterion=gini, max_depth=1000000, max_features=log2, n_estimators=100;, score=0.783 total time=   0.4s\n",
      "[CV 4/5] END criterion=gini, max_depth=1000000, max_features=log2, n_estimators=100;, score=0.800 total time=   0.4s\n",
      "[CV 5/5] END criterion=gini, max_depth=1000000, max_features=log2, n_estimators=100;, score=0.757 total time=   0.4s\n",
      "[CV 1/5] END criterion=gini, max_depth=1000000, max_features=log2, n_estimators=600;, score=0.802 total time=   2.7s\n",
      "[CV 2/5] END criterion=gini, max_depth=1000000, max_features=log2, n_estimators=600;, score=0.757 total time=   2.7s\n",
      "[CV 3/5] END criterion=gini, max_depth=1000000, max_features=log2, n_estimators=600;, score=0.809 total time=   2.7s\n",
      "[CV 4/5] END criterion=gini, max_depth=1000000, max_features=log2, n_estimators=600;, score=0.826 total time=   2.7s\n",
      "[CV 5/5] END criterion=gini, max_depth=1000000, max_features=log2, n_estimators=600;, score=0.757 total time=   2.7s\n",
      "[CV 1/5] END criterion=gini, max_depth=1000000, max_features=log2, n_estimators=650;, score=0.802 total time=   2.9s\n",
      "[CV 2/5] END criterion=gini, max_depth=1000000, max_features=log2, n_estimators=650;, score=0.739 total time=   2.9s\n",
      "[CV 3/5] END criterion=gini, max_depth=1000000, max_features=log2, n_estimators=650;, score=0.800 total time=   3.0s\n",
      "[CV 4/5] END criterion=gini, max_depth=1000000, max_features=log2, n_estimators=650;, score=0.826 total time=   3.0s\n",
      "[CV 5/5] END criterion=gini, max_depth=1000000, max_features=log2, n_estimators=650;, score=0.748 total time=   3.0s\n",
      "[CV 1/5] END criterion=gini, max_depth=1000000, max_features=log2, n_estimators=700;, score=0.802 total time=   3.1s\n",
      "[CV 2/5] END criterion=gini, max_depth=1000000, max_features=log2, n_estimators=700;, score=0.748 total time=   3.3s\n",
      "[CV 3/5] END criterion=gini, max_depth=1000000, max_features=log2, n_estimators=700;, score=0.791 total time=   3.2s\n",
      "[CV 4/5] END criterion=gini, max_depth=1000000, max_features=log2, n_estimators=700;, score=0.817 total time=   3.2s\n",
      "[CV 5/5] END criterion=gini, max_depth=1000000, max_features=log2, n_estimators=700;, score=0.765 total time=   3.1s\n",
      "[CV 1/5] END criterion=gini, max_depth=1000000, max_features=None, n_estimators=50;, score=0.793 total time=   0.2s\n",
      "[CV 2/5] END criterion=gini, max_depth=1000000, max_features=None, n_estimators=50;, score=0.791 total time=   0.2s\n",
      "[CV 3/5] END criterion=gini, max_depth=1000000, max_features=None, n_estimators=50;, score=0.800 total time=   0.3s\n",
      "[CV 4/5] END criterion=gini, max_depth=1000000, max_features=None, n_estimators=50;, score=0.826 total time=   0.2s\n",
      "[CV 5/5] END criterion=gini, max_depth=1000000, max_features=None, n_estimators=50;, score=0.774 total time=   0.2s\n",
      "[CV 1/5] END criterion=gini, max_depth=1000000, max_features=None, n_estimators=100;, score=0.767 total time=   0.6s\n",
      "[CV 2/5] END criterion=gini, max_depth=1000000, max_features=None, n_estimators=100;, score=0.765 total time=   0.6s\n",
      "[CV 3/5] END criterion=gini, max_depth=1000000, max_features=None, n_estimators=100;, score=0.800 total time=   0.6s\n",
      "[CV 4/5] END criterion=gini, max_depth=1000000, max_features=None, n_estimators=100;, score=0.809 total time=   0.6s\n",
      "[CV 5/5] END criterion=gini, max_depth=1000000, max_features=None, n_estimators=100;, score=0.757 total time=   0.6s\n",
      "[CV 1/5] END criterion=gini, max_depth=1000000, max_features=None, n_estimators=600;, score=0.802 total time=   3.8s\n",
      "[CV 2/5] END criterion=gini, max_depth=1000000, max_features=None, n_estimators=600;, score=0.748 total time=   3.8s\n",
      "[CV 3/5] END criterion=gini, max_depth=1000000, max_features=None, n_estimators=600;, score=0.800 total time=   3.9s\n",
      "[CV 4/5] END criterion=gini, max_depth=1000000, max_features=None, n_estimators=600;, score=0.809 total time=   3.8s\n",
      "[CV 5/5] END criterion=gini, max_depth=1000000, max_features=None, n_estimators=600;, score=0.757 total time=   3.7s\n",
      "[CV 1/5] END criterion=gini, max_depth=1000000, max_features=None, n_estimators=650;, score=0.793 total time=   4.1s\n",
      "[CV 2/5] END criterion=gini, max_depth=1000000, max_features=None, n_estimators=650;, score=0.748 total time=   4.2s\n",
      "[CV 3/5] END criterion=gini, max_depth=1000000, max_features=None, n_estimators=650;, score=0.800 total time=   4.2s\n",
      "[CV 4/5] END criterion=gini, max_depth=1000000, max_features=None, n_estimators=650;, score=0.826 total time=   4.1s\n",
      "[CV 5/5] END criterion=gini, max_depth=1000000, max_features=None, n_estimators=650;, score=0.783 total time=   4.1s\n",
      "[CV 1/5] END criterion=gini, max_depth=1000000, max_features=None, n_estimators=700;, score=0.793 total time=   4.4s\n",
      "[CV 2/5] END criterion=gini, max_depth=1000000, max_features=None, n_estimators=700;, score=0.748 total time=   4.5s\n",
      "[CV 3/5] END criterion=gini, max_depth=1000000, max_features=None, n_estimators=700;, score=0.800 total time=   4.5s\n",
      "[CV 4/5] END criterion=gini, max_depth=1000000, max_features=None, n_estimators=700;, score=0.817 total time=   4.5s\n",
      "[CV 5/5] END criterion=gini, max_depth=1000000, max_features=None, n_estimators=700;, score=0.765 total time=   4.4s\n",
      "[CV 1/5] END criterion=entropy, max_depth=100000, max_features=sqrt, n_estimators=50;, score=0.793 total time=   0.1s\n",
      "[CV 2/5] END criterion=entropy, max_depth=100000, max_features=sqrt, n_estimators=50;, score=0.739 total time=   0.1s\n",
      "[CV 3/5] END criterion=entropy, max_depth=100000, max_features=sqrt, n_estimators=50;, score=0.800 total time=   0.1s\n",
      "[CV 4/5] END criterion=entropy, max_depth=100000, max_features=sqrt, n_estimators=50;, score=0.791 total time=   0.1s\n",
      "[CV 5/5] END criterion=entropy, max_depth=100000, max_features=sqrt, n_estimators=50;, score=0.765 total time=   0.1s\n",
      "[CV 1/5] END criterion=entropy, max_depth=100000, max_features=sqrt, n_estimators=100;, score=0.819 total time=   0.4s\n",
      "[CV 2/5] END criterion=entropy, max_depth=100000, max_features=sqrt, n_estimators=100;, score=0.757 total time=   0.4s\n",
      "[CV 3/5] END criterion=entropy, max_depth=100000, max_features=sqrt, n_estimators=100;, score=0.791 total time=   0.4s\n",
      "[CV 4/5] END criterion=entropy, max_depth=100000, max_features=sqrt, n_estimators=100;, score=0.817 total time=   0.4s\n",
      "[CV 5/5] END criterion=entropy, max_depth=100000, max_features=sqrt, n_estimators=100;, score=0.783 total time=   0.4s\n",
      "[CV 1/5] END criterion=entropy, max_depth=100000, max_features=sqrt, n_estimators=600;, score=0.802 total time=   2.7s\n",
      "[CV 2/5] END criterion=entropy, max_depth=100000, max_features=sqrt, n_estimators=600;, score=0.748 total time=   2.7s\n",
      "[CV 3/5] END criterion=entropy, max_depth=100000, max_features=sqrt, n_estimators=600;, score=0.809 total time=   2.7s\n",
      "[CV 4/5] END criterion=entropy, max_depth=100000, max_features=sqrt, n_estimators=600;, score=0.835 total time=   2.7s\n",
      "[CV 5/5] END criterion=entropy, max_depth=100000, max_features=sqrt, n_estimators=600;, score=0.765 total time=   2.7s\n",
      "[CV 1/5] END criterion=entropy, max_depth=100000, max_features=sqrt, n_estimators=650;, score=0.810 total time=   2.9s\n",
      "[CV 2/5] END criterion=entropy, max_depth=100000, max_features=sqrt, n_estimators=650;, score=0.748 total time=   2.9s\n",
      "[CV 3/5] END criterion=entropy, max_depth=100000, max_features=sqrt, n_estimators=650;, score=0.800 total time=   2.9s\n",
      "[CV 4/5] END criterion=entropy, max_depth=100000, max_features=sqrt, n_estimators=650;, score=0.817 total time=   2.9s\n",
      "[CV 5/5] END criterion=entropy, max_depth=100000, max_features=sqrt, n_estimators=650;, score=0.757 total time=   2.9s\n",
      "[CV 1/5] END criterion=entropy, max_depth=100000, max_features=sqrt, n_estimators=700;, score=0.819 total time=   3.2s\n",
      "[CV 2/5] END criterion=entropy, max_depth=100000, max_features=sqrt, n_estimators=700;, score=0.774 total time=   3.1s\n",
      "[CV 3/5] END criterion=entropy, max_depth=100000, max_features=sqrt, n_estimators=700;, score=0.809 total time=   3.2s\n",
      "[CV 4/5] END criterion=entropy, max_depth=100000, max_features=sqrt, n_estimators=700;, score=0.826 total time=   3.1s\n",
      "[CV 5/5] END criterion=entropy, max_depth=100000, max_features=sqrt, n_estimators=700;, score=0.783 total time=   3.1s\n",
      "[CV 1/5] END criterion=entropy, max_depth=100000, max_features=log2, n_estimators=50;, score=0.793 total time=   0.2s\n",
      "[CV 2/5] END criterion=entropy, max_depth=100000, max_features=log2, n_estimators=50;, score=0.791 total time=   0.2s\n",
      "[CV 3/5] END criterion=entropy, max_depth=100000, max_features=log2, n_estimators=50;, score=0.809 total time=   0.2s\n",
      "[CV 4/5] END criterion=entropy, max_depth=100000, max_features=log2, n_estimators=50;, score=0.817 total time=   0.2s\n",
      "[CV 5/5] END criterion=entropy, max_depth=100000, max_features=log2, n_estimators=50;, score=0.774 total time=   0.1s\n",
      "[CV 1/5] END criterion=entropy, max_depth=100000, max_features=log2, n_estimators=100;, score=0.810 total time=   0.4s\n",
      "[CV 2/5] END criterion=entropy, max_depth=100000, max_features=log2, n_estimators=100;, score=0.739 total time=   0.4s\n",
      "[CV 3/5] END criterion=entropy, max_depth=100000, max_features=log2, n_estimators=100;, score=0.791 total time=   0.4s\n",
      "[CV 4/5] END criterion=entropy, max_depth=100000, max_features=log2, n_estimators=100;, score=0.826 total time=   0.4s\n",
      "[CV 5/5] END criterion=entropy, max_depth=100000, max_features=log2, n_estimators=100;, score=0.765 total time=   0.4s\n",
      "[CV 1/5] END criterion=entropy, max_depth=100000, max_features=log2, n_estimators=600;, score=0.810 total time=   2.9s\n",
      "[CV 2/5] END criterion=entropy, max_depth=100000, max_features=log2, n_estimators=600;, score=0.757 total time=   2.9s\n",
      "[CV 3/5] END criterion=entropy, max_depth=100000, max_features=log2, n_estimators=600;, score=0.809 total time=   2.9s\n",
      "[CV 4/5] END criterion=entropy, max_depth=100000, max_features=log2, n_estimators=600;, score=0.826 total time=   3.0s\n",
      "[CV 5/5] END criterion=entropy, max_depth=100000, max_features=log2, n_estimators=600;, score=0.757 total time=   2.9s\n",
      "[CV 1/5] END criterion=entropy, max_depth=100000, max_features=log2, n_estimators=650;, score=0.819 total time=   3.2s\n",
      "[CV 2/5] END criterion=entropy, max_depth=100000, max_features=log2, n_estimators=650;, score=0.739 total time=   3.2s\n",
      "[CV 3/5] END criterion=entropy, max_depth=100000, max_features=log2, n_estimators=650;, score=0.809 total time=   3.2s\n",
      "[CV 4/5] END criterion=entropy, max_depth=100000, max_features=log2, n_estimators=650;, score=0.826 total time=   3.2s\n",
      "[CV 5/5] END criterion=entropy, max_depth=100000, max_features=log2, n_estimators=650;, score=0.748 total time=   3.2s\n",
      "[CV 1/5] END criterion=entropy, max_depth=100000, max_features=log2, n_estimators=700;, score=0.802 total time=   3.4s\n",
      "[CV 2/5] END criterion=entropy, max_depth=100000, max_features=log2, n_estimators=700;, score=0.757 total time=   3.4s\n",
      "[CV 3/5] END criterion=entropy, max_depth=100000, max_features=log2, n_estimators=700;, score=0.809 total time=   3.5s\n",
      "[CV 4/5] END criterion=entropy, max_depth=100000, max_features=log2, n_estimators=700;, score=0.835 total time=   3.6s\n",
      "[CV 5/5] END criterion=entropy, max_depth=100000, max_features=log2, n_estimators=700;, score=0.757 total time=   3.4s\n",
      "[CV 1/5] END criterion=entropy, max_depth=100000, max_features=None, n_estimators=50;, score=0.784 total time=   0.3s\n",
      "[CV 2/5] END criterion=entropy, max_depth=100000, max_features=None, n_estimators=50;, score=0.765 total time=   0.3s\n",
      "[CV 3/5] END criterion=entropy, max_depth=100000, max_features=None, n_estimators=50;, score=0.817 total time=   0.3s\n",
      "[CV 4/5] END criterion=entropy, max_depth=100000, max_features=None, n_estimators=50;, score=0.835 total time=   0.3s\n",
      "[CV 5/5] END criterion=entropy, max_depth=100000, max_features=None, n_estimators=50;, score=0.757 total time=   0.3s\n",
      "[CV 1/5] END criterion=entropy, max_depth=100000, max_features=None, n_estimators=100;, score=0.810 total time=   0.6s\n",
      "[CV 2/5] END criterion=entropy, max_depth=100000, max_features=None, n_estimators=100;, score=0.791 total time=   0.6s\n",
      "[CV 3/5] END criterion=entropy, max_depth=100000, max_features=None, n_estimators=100;, score=0.800 total time=   0.6s\n",
      "[CV 4/5] END criterion=entropy, max_depth=100000, max_features=None, n_estimators=100;, score=0.826 total time=   0.6s\n",
      "[CV 5/5] END criterion=entropy, max_depth=100000, max_features=None, n_estimators=100;, score=0.774 total time=   0.7s\n",
      "[CV 1/5] END criterion=entropy, max_depth=100000, max_features=None, n_estimators=600;, score=0.802 total time=   4.2s\n",
      "[CV 2/5] END criterion=entropy, max_depth=100000, max_features=None, n_estimators=600;, score=0.757 total time=   4.3s\n",
      "[CV 3/5] END criterion=entropy, max_depth=100000, max_features=None, n_estimators=600;, score=0.800 total time=   4.3s\n",
      "[CV 4/5] END criterion=entropy, max_depth=100000, max_features=None, n_estimators=600;, score=0.817 total time=   4.3s\n",
      "[CV 5/5] END criterion=entropy, max_depth=100000, max_features=None, n_estimators=600;, score=0.765 total time=   4.3s\n",
      "[CV 1/5] END criterion=entropy, max_depth=100000, max_features=None, n_estimators=650;, score=0.810 total time=   4.6s\n",
      "[CV 2/5] END criterion=entropy, max_depth=100000, max_features=None, n_estimators=650;, score=0.757 total time=   4.7s\n",
      "[CV 3/5] END criterion=entropy, max_depth=100000, max_features=None, n_estimators=650;, score=0.800 total time=   4.7s\n",
      "[CV 4/5] END criterion=entropy, max_depth=100000, max_features=None, n_estimators=650;, score=0.809 total time=   4.9s\n",
      "[CV 5/5] END criterion=entropy, max_depth=100000, max_features=None, n_estimators=650;, score=0.757 total time=   4.6s\n",
      "[CV 1/5] END criterion=entropy, max_depth=100000, max_features=None, n_estimators=700;, score=0.810 total time=   5.0s\n",
      "[CV 2/5] END criterion=entropy, max_depth=100000, max_features=None, n_estimators=700;, score=0.757 total time=   5.0s\n",
      "[CV 3/5] END criterion=entropy, max_depth=100000, max_features=None, n_estimators=700;, score=0.800 total time=   5.1s\n",
      "[CV 4/5] END criterion=entropy, max_depth=100000, max_features=None, n_estimators=700;, score=0.817 total time=   5.0s\n",
      "[CV 5/5] END criterion=entropy, max_depth=100000, max_features=None, n_estimators=700;, score=0.765 total time=   4.9s\n",
      "[CV 1/5] END criterion=entropy, max_depth=300000, max_features=sqrt, n_estimators=50;, score=0.784 total time=   0.2s\n",
      "[CV 2/5] END criterion=entropy, max_depth=300000, max_features=sqrt, n_estimators=50;, score=0.757 total time=   0.1s\n",
      "[CV 3/5] END criterion=entropy, max_depth=300000, max_features=sqrt, n_estimators=50;, score=0.800 total time=   0.1s\n",
      "[CV 4/5] END criterion=entropy, max_depth=300000, max_features=sqrt, n_estimators=50;, score=0.809 total time=   0.1s\n",
      "[CV 5/5] END criterion=entropy, max_depth=300000, max_features=sqrt, n_estimators=50;, score=0.748 total time=   0.1s\n",
      "[CV 1/5] END criterion=entropy, max_depth=300000, max_features=sqrt, n_estimators=100;, score=0.793 total time=   0.4s\n",
      "[CV 2/5] END criterion=entropy, max_depth=300000, max_features=sqrt, n_estimators=100;, score=0.748 total time=   0.4s\n",
      "[CV 3/5] END criterion=entropy, max_depth=300000, max_features=sqrt, n_estimators=100;, score=0.809 total time=   0.4s\n",
      "[CV 4/5] END criterion=entropy, max_depth=300000, max_features=sqrt, n_estimators=100;, score=0.809 total time=   0.4s\n",
      "[CV 5/5] END criterion=entropy, max_depth=300000, max_features=sqrt, n_estimators=100;, score=0.748 total time=   0.4s\n",
      "[CV 1/5] END criterion=entropy, max_depth=300000, max_features=sqrt, n_estimators=600;, score=0.819 total time=   2.6s\n",
      "[CV 2/5] END criterion=entropy, max_depth=300000, max_features=sqrt, n_estimators=600;, score=0.748 total time=   2.7s\n",
      "[CV 3/5] END criterion=entropy, max_depth=300000, max_features=sqrt, n_estimators=600;, score=0.809 total time=   2.7s\n",
      "[CV 4/5] END criterion=entropy, max_depth=300000, max_features=sqrt, n_estimators=600;, score=0.826 total time=   2.7s\n",
      "[CV 5/5] END criterion=entropy, max_depth=300000, max_features=sqrt, n_estimators=600;, score=0.757 total time=   2.7s\n",
      "[CV 1/5] END criterion=entropy, max_depth=300000, max_features=sqrt, n_estimators=650;, score=0.819 total time=   2.9s\n",
      "[CV 2/5] END criterion=entropy, max_depth=300000, max_features=sqrt, n_estimators=650;, score=0.774 total time=   2.9s\n",
      "[CV 3/5] END criterion=entropy, max_depth=300000, max_features=sqrt, n_estimators=650;, score=0.817 total time=   2.9s\n",
      "[CV 4/5] END criterion=entropy, max_depth=300000, max_features=sqrt, n_estimators=650;, score=0.817 total time=   2.9s\n",
      "[CV 5/5] END criterion=entropy, max_depth=300000, max_features=sqrt, n_estimators=650;, score=0.739 total time=   2.9s\n",
      "[CV 1/5] END criterion=entropy, max_depth=300000, max_features=sqrt, n_estimators=700;, score=0.810 total time=   3.1s\n",
      "[CV 2/5] END criterion=entropy, max_depth=300000, max_features=sqrt, n_estimators=700;, score=0.765 total time=   3.1s\n",
      "[CV 3/5] END criterion=entropy, max_depth=300000, max_features=sqrt, n_estimators=700;, score=0.791 total time=   3.2s\n",
      "[CV 4/5] END criterion=entropy, max_depth=300000, max_features=sqrt, n_estimators=700;, score=0.817 total time=   3.1s\n",
      "[CV 5/5] END criterion=entropy, max_depth=300000, max_features=sqrt, n_estimators=700;, score=0.757 total time=   3.1s\n",
      "[CV 1/5] END criterion=entropy, max_depth=300000, max_features=log2, n_estimators=50;, score=0.793 total time=   0.2s\n",
      "[CV 2/5] END criterion=entropy, max_depth=300000, max_features=log2, n_estimators=50;, score=0.757 total time=   0.2s\n",
      "[CV 3/5] END criterion=entropy, max_depth=300000, max_features=log2, n_estimators=50;, score=0.791 total time=   0.2s\n",
      "[CV 4/5] END criterion=entropy, max_depth=300000, max_features=log2, n_estimators=50;, score=0.791 total time=   0.2s\n",
      "[CV 5/5] END criterion=entropy, max_depth=300000, max_features=log2, n_estimators=50;, score=0.765 total time=   0.2s\n",
      "[CV 1/5] END criterion=entropy, max_depth=300000, max_features=log2, n_estimators=100;, score=0.810 total time=   0.4s\n",
      "[CV 2/5] END criterion=entropy, max_depth=300000, max_features=log2, n_estimators=100;, score=0.757 total time=   0.4s\n",
      "[CV 3/5] END criterion=entropy, max_depth=300000, max_features=log2, n_estimators=100;, score=0.800 total time=   0.4s\n",
      "[CV 4/5] END criterion=entropy, max_depth=300000, max_features=log2, n_estimators=100;, score=0.817 total time=   0.4s\n",
      "[CV 5/5] END criterion=entropy, max_depth=300000, max_features=log2, n_estimators=100;, score=0.757 total time=   0.4s\n",
      "[CV 1/5] END criterion=entropy, max_depth=300000, max_features=log2, n_estimators=600;, score=0.810 total time=   2.9s\n",
      "[CV 2/5] END criterion=entropy, max_depth=300000, max_features=log2, n_estimators=600;, score=0.748 total time=   2.9s\n",
      "[CV 3/5] END criterion=entropy, max_depth=300000, max_features=log2, n_estimators=600;, score=0.809 total time=   3.0s\n",
      "[CV 4/5] END criterion=entropy, max_depth=300000, max_features=log2, n_estimators=600;, score=0.835 total time=   2.9s\n",
      "[CV 5/5] END criterion=entropy, max_depth=300000, max_features=log2, n_estimators=600;, score=0.757 total time=   2.9s\n",
      "[CV 1/5] END criterion=entropy, max_depth=300000, max_features=log2, n_estimators=650;, score=0.810 total time=   3.2s\n",
      "[CV 2/5] END criterion=entropy, max_depth=300000, max_features=log2, n_estimators=650;, score=0.765 total time=   3.2s\n",
      "[CV 3/5] END criterion=entropy, max_depth=300000, max_features=log2, n_estimators=650;, score=0.809 total time=   3.2s\n",
      "[CV 4/5] END criterion=entropy, max_depth=300000, max_features=log2, n_estimators=650;, score=0.826 total time=   3.2s\n",
      "[CV 5/5] END criterion=entropy, max_depth=300000, max_features=log2, n_estimators=650;, score=0.765 total time=   3.2s\n",
      "[CV 1/5] END criterion=entropy, max_depth=300000, max_features=log2, n_estimators=700;, score=0.819 total time=   3.4s\n",
      "[CV 2/5] END criterion=entropy, max_depth=300000, max_features=log2, n_estimators=700;, score=0.757 total time=   3.4s\n",
      "[CV 3/5] END criterion=entropy, max_depth=300000, max_features=log2, n_estimators=700;, score=0.809 total time=   3.5s\n",
      "[CV 4/5] END criterion=entropy, max_depth=300000, max_features=log2, n_estimators=700;, score=0.835 total time=   3.5s\n",
      "[CV 5/5] END criterion=entropy, max_depth=300000, max_features=log2, n_estimators=700;, score=0.757 total time=   3.4s\n",
      "[CV 1/5] END criterion=entropy, max_depth=300000, max_features=None, n_estimators=50;, score=0.784 total time=   0.3s\n",
      "[CV 2/5] END criterion=entropy, max_depth=300000, max_features=None, n_estimators=50;, score=0.748 total time=   0.3s\n",
      "[CV 3/5] END criterion=entropy, max_depth=300000, max_features=None, n_estimators=50;, score=0.817 total time=   0.3s\n",
      "[CV 4/5] END criterion=entropy, max_depth=300000, max_features=None, n_estimators=50;, score=0.809 total time=   0.3s\n",
      "[CV 5/5] END criterion=entropy, max_depth=300000, max_features=None, n_estimators=50;, score=0.765 total time=   0.3s\n",
      "[CV 1/5] END criterion=entropy, max_depth=300000, max_features=None, n_estimators=100;, score=0.793 total time=   0.6s\n",
      "[CV 2/5] END criterion=entropy, max_depth=300000, max_features=None, n_estimators=100;, score=0.757 total time=   0.6s\n",
      "[CV 3/5] END criterion=entropy, max_depth=300000, max_features=None, n_estimators=100;, score=0.809 total time=   0.6s\n",
      "[CV 4/5] END criterion=entropy, max_depth=300000, max_features=None, n_estimators=100;, score=0.843 total time=   0.6s\n",
      "[CV 5/5] END criterion=entropy, max_depth=300000, max_features=None, n_estimators=100;, score=0.765 total time=   0.6s\n",
      "[CV 1/5] END criterion=entropy, max_depth=300000, max_features=None, n_estimators=600;, score=0.810 total time=   4.2s\n",
      "[CV 2/5] END criterion=entropy, max_depth=300000, max_features=None, n_estimators=600;, score=0.765 total time=   4.3s\n",
      "[CV 3/5] END criterion=entropy, max_depth=300000, max_features=None, n_estimators=600;, score=0.800 total time=   4.3s\n",
      "[CV 4/5] END criterion=entropy, max_depth=300000, max_features=None, n_estimators=600;, score=0.817 total time=   4.3s\n",
      "[CV 5/5] END criterion=entropy, max_depth=300000, max_features=None, n_estimators=600;, score=0.757 total time=   4.2s\n",
      "[CV 1/5] END criterion=entropy, max_depth=300000, max_features=None, n_estimators=650;, score=0.810 total time=   4.6s\n",
      "[CV 2/5] END criterion=entropy, max_depth=300000, max_features=None, n_estimators=650;, score=0.757 total time=   4.7s\n",
      "[CV 3/5] END criterion=entropy, max_depth=300000, max_features=None, n_estimators=650;, score=0.791 total time=   4.7s\n",
      "[CV 4/5] END criterion=entropy, max_depth=300000, max_features=None, n_estimators=650;, score=0.817 total time=   4.7s\n",
      "[CV 5/5] END criterion=entropy, max_depth=300000, max_features=None, n_estimators=650;, score=0.765 total time=   4.6s\n",
      "[CV 1/5] END criterion=entropy, max_depth=300000, max_features=None, n_estimators=700;, score=0.819 total time=   5.0s\n",
      "[CV 2/5] END criterion=entropy, max_depth=300000, max_features=None, n_estimators=700;, score=0.757 total time=   5.0s\n",
      "[CV 3/5] END criterion=entropy, max_depth=300000, max_features=None, n_estimators=700;, score=0.800 total time=   5.1s\n",
      "[CV 4/5] END criterion=entropy, max_depth=300000, max_features=None, n_estimators=700;, score=0.817 total time=   5.0s\n",
      "[CV 5/5] END criterion=entropy, max_depth=300000, max_features=None, n_estimators=700;, score=0.757 total time=   4.9s\n",
      "[CV 1/5] END criterion=entropy, max_depth=500000, max_features=sqrt, n_estimators=50;, score=0.776 total time=   0.1s\n",
      "[CV 2/5] END criterion=entropy, max_depth=500000, max_features=sqrt, n_estimators=50;, score=0.748 total time=   0.1s\n",
      "[CV 3/5] END criterion=entropy, max_depth=500000, max_features=sqrt, n_estimators=50;, score=0.826 total time=   0.1s\n",
      "[CV 4/5] END criterion=entropy, max_depth=500000, max_features=sqrt, n_estimators=50;, score=0.800 total time=   0.1s\n",
      "[CV 5/5] END criterion=entropy, max_depth=500000, max_features=sqrt, n_estimators=50;, score=0.791 total time=   0.1s\n",
      "[CV 1/5] END criterion=entropy, max_depth=500000, max_features=sqrt, n_estimators=100;, score=0.793 total time=   0.4s\n",
      "[CV 2/5] END criterion=entropy, max_depth=500000, max_features=sqrt, n_estimators=100;, score=0.748 total time=   0.4s\n",
      "[CV 3/5] END criterion=entropy, max_depth=500000, max_features=sqrt, n_estimators=100;, score=0.791 total time=   0.4s\n",
      "[CV 4/5] END criterion=entropy, max_depth=500000, max_features=sqrt, n_estimators=100;, score=0.817 total time=   0.4s\n",
      "[CV 5/5] END criterion=entropy, max_depth=500000, max_features=sqrt, n_estimators=100;, score=0.774 total time=   0.4s\n",
      "[CV 1/5] END criterion=entropy, max_depth=500000, max_features=sqrt, n_estimators=600;, score=0.810 total time=   2.7s\n",
      "[CV 2/5] END criterion=entropy, max_depth=500000, max_features=sqrt, n_estimators=600;, score=0.739 total time=   2.6s\n",
      "[CV 3/5] END criterion=entropy, max_depth=500000, max_features=sqrt, n_estimators=600;, score=0.800 total time=   2.7s\n",
      "[CV 4/5] END criterion=entropy, max_depth=500000, max_features=sqrt, n_estimators=600;, score=0.826 total time=   2.7s\n",
      "[CV 5/5] END criterion=entropy, max_depth=500000, max_features=sqrt, n_estimators=600;, score=0.748 total time=   2.7s\n",
      "[CV 1/5] END criterion=entropy, max_depth=500000, max_features=sqrt, n_estimators=650;, score=0.819 total time=   2.9s\n",
      "[CV 2/5] END criterion=entropy, max_depth=500000, max_features=sqrt, n_estimators=650;, score=0.748 total time=   3.2s\n",
      "[CV 3/5] END criterion=entropy, max_depth=500000, max_features=sqrt, n_estimators=650;, score=0.800 total time=   3.2s\n",
      "[CV 4/5] END criterion=entropy, max_depth=500000, max_features=sqrt, n_estimators=650;, score=0.826 total time=   2.9s\n",
      "[CV 5/5] END criterion=entropy, max_depth=500000, max_features=sqrt, n_estimators=650;, score=0.757 total time=   2.9s\n",
      "[CV 1/5] END criterion=entropy, max_depth=500000, max_features=sqrt, n_estimators=700;, score=0.802 total time=   3.1s\n",
      "[CV 2/5] END criterion=entropy, max_depth=500000, max_features=sqrt, n_estimators=700;, score=0.757 total time=   3.2s\n",
      "[CV 3/5] END criterion=entropy, max_depth=500000, max_features=sqrt, n_estimators=700;, score=0.800 total time=   3.2s\n",
      "[CV 4/5] END criterion=entropy, max_depth=500000, max_features=sqrt, n_estimators=700;, score=0.826 total time=   3.2s\n",
      "[CV 5/5] END criterion=entropy, max_depth=500000, max_features=sqrt, n_estimators=700;, score=0.765 total time=   3.1s\n",
      "[CV 1/5] END criterion=entropy, max_depth=500000, max_features=log2, n_estimators=50;, score=0.819 total time=   0.2s\n",
      "[CV 2/5] END criterion=entropy, max_depth=500000, max_features=log2, n_estimators=50;, score=0.748 total time=   0.2s\n",
      "[CV 3/5] END criterion=entropy, max_depth=500000, max_features=log2, n_estimators=50;, score=0.800 total time=   0.2s\n",
      "[CV 4/5] END criterion=entropy, max_depth=500000, max_features=log2, n_estimators=50;, score=0.835 total time=   0.2s\n",
      "[CV 5/5] END criterion=entropy, max_depth=500000, max_features=log2, n_estimators=50;, score=0.730 total time=   0.2s\n",
      "[CV 1/5] END criterion=entropy, max_depth=500000, max_features=log2, n_estimators=100;, score=0.793 total time=   0.4s\n",
      "[CV 2/5] END criterion=entropy, max_depth=500000, max_features=log2, n_estimators=100;, score=0.739 total time=   0.4s\n",
      "[CV 3/5] END criterion=entropy, max_depth=500000, max_features=log2, n_estimators=100;, score=0.791 total time=   0.4s\n",
      "[CV 4/5] END criterion=entropy, max_depth=500000, max_features=log2, n_estimators=100;, score=0.826 total time=   0.4s\n",
      "[CV 5/5] END criterion=entropy, max_depth=500000, max_features=log2, n_estimators=100;, score=0.765 total time=   0.4s\n",
      "[CV 1/5] END criterion=entropy, max_depth=500000, max_features=log2, n_estimators=600;, score=0.810 total time=   2.9s\n",
      "[CV 2/5] END criterion=entropy, max_depth=500000, max_features=log2, n_estimators=600;, score=0.739 total time=   2.9s\n",
      "[CV 3/5] END criterion=entropy, max_depth=500000, max_features=log2, n_estimators=600;, score=0.800 total time=   3.0s\n",
      "[CV 4/5] END criterion=entropy, max_depth=500000, max_features=log2, n_estimators=600;, score=0.817 total time=   3.0s\n",
      "[CV 5/5] END criterion=entropy, max_depth=500000, max_features=log2, n_estimators=600;, score=0.748 total time=   2.9s\n",
      "[CV 1/5] END criterion=entropy, max_depth=500000, max_features=log2, n_estimators=650;, score=0.802 total time=   3.2s\n",
      "[CV 2/5] END criterion=entropy, max_depth=500000, max_features=log2, n_estimators=650;, score=0.765 total time=   3.2s\n",
      "[CV 3/5] END criterion=entropy, max_depth=500000, max_features=log2, n_estimators=650;, score=0.800 total time=   3.2s\n",
      "[CV 4/5] END criterion=entropy, max_depth=500000, max_features=log2, n_estimators=650;, score=0.835 total time=   3.2s\n",
      "[CV 5/5] END criterion=entropy, max_depth=500000, max_features=log2, n_estimators=650;, score=0.757 total time=   3.2s\n",
      "[CV 1/5] END criterion=entropy, max_depth=500000, max_features=log2, n_estimators=700;, score=0.819 total time=   3.4s\n",
      "[CV 2/5] END criterion=entropy, max_depth=500000, max_features=log2, n_estimators=700;, score=0.748 total time=   3.5s\n",
      "[CV 3/5] END criterion=entropy, max_depth=500000, max_features=log2, n_estimators=700;, score=0.809 total time=   3.5s\n",
      "[CV 4/5] END criterion=entropy, max_depth=500000, max_features=log2, n_estimators=700;, score=0.826 total time=   3.5s\n",
      "[CV 5/5] END criterion=entropy, max_depth=500000, max_features=log2, n_estimators=700;, score=0.765 total time=   3.4s\n",
      "[CV 1/5] END criterion=entropy, max_depth=500000, max_features=None, n_estimators=50;, score=0.767 total time=   0.3s\n",
      "[CV 2/5] END criterion=entropy, max_depth=500000, max_features=None, n_estimators=50;, score=0.774 total time=   0.3s\n",
      "[CV 3/5] END criterion=entropy, max_depth=500000, max_features=None, n_estimators=50;, score=0.791 total time=   0.3s\n",
      "[CV 4/5] END criterion=entropy, max_depth=500000, max_features=None, n_estimators=50;, score=0.843 total time=   0.3s\n",
      "[CV 5/5] END criterion=entropy, max_depth=500000, max_features=None, n_estimators=50;, score=0.783 total time=   0.3s\n",
      "[CV 1/5] END criterion=entropy, max_depth=500000, max_features=None, n_estimators=100;, score=0.784 total time=   0.6s\n",
      "[CV 2/5] END criterion=entropy, max_depth=500000, max_features=None, n_estimators=100;, score=0.757 total time=   0.6s\n",
      "[CV 3/5] END criterion=entropy, max_depth=500000, max_features=None, n_estimators=100;, score=0.791 total time=   0.7s\n",
      "[CV 4/5] END criterion=entropy, max_depth=500000, max_features=None, n_estimators=100;, score=0.826 total time=   0.6s\n",
      "[CV 5/5] END criterion=entropy, max_depth=500000, max_features=None, n_estimators=100;, score=0.783 total time=   0.6s\n",
      "[CV 1/5] END criterion=entropy, max_depth=500000, max_features=None, n_estimators=600;, score=0.810 total time=   4.2s\n",
      "[CV 2/5] END criterion=entropy, max_depth=500000, max_features=None, n_estimators=600;, score=0.757 total time=   4.3s\n",
      "[CV 3/5] END criterion=entropy, max_depth=500000, max_features=None, n_estimators=600;, score=0.791 total time=   4.3s\n",
      "[CV 4/5] END criterion=entropy, max_depth=500000, max_features=None, n_estimators=600;, score=0.817 total time=   4.3s\n",
      "[CV 5/5] END criterion=entropy, max_depth=500000, max_features=None, n_estimators=600;, score=0.757 total time=   4.2s\n",
      "[CV 1/5] END criterion=entropy, max_depth=500000, max_features=None, n_estimators=650;, score=0.802 total time=   4.6s\n",
      "[CV 2/5] END criterion=entropy, max_depth=500000, max_features=None, n_estimators=650;, score=0.757 total time=   4.7s\n",
      "[CV 3/5] END criterion=entropy, max_depth=500000, max_features=None, n_estimators=650;, score=0.800 total time=   4.9s\n",
      "[CV 4/5] END criterion=entropy, max_depth=500000, max_features=None, n_estimators=650;, score=0.817 total time=   4.7s\n",
      "[CV 5/5] END criterion=entropy, max_depth=500000, max_features=None, n_estimators=650;, score=0.765 total time=   4.5s\n",
      "[CV 1/5] END criterion=entropy, max_depth=500000, max_features=None, n_estimators=700;, score=0.802 total time=   5.0s\n",
      "[CV 2/5] END criterion=entropy, max_depth=500000, max_features=None, n_estimators=700;, score=0.774 total time=   5.0s\n",
      "[CV 3/5] END criterion=entropy, max_depth=500000, max_features=None, n_estimators=700;, score=0.800 total time=   5.1s\n",
      "[CV 4/5] END criterion=entropy, max_depth=500000, max_features=None, n_estimators=700;, score=0.817 total time=   5.0s\n",
      "[CV 5/5] END criterion=entropy, max_depth=500000, max_features=None, n_estimators=700;, score=0.765 total time=   4.9s\n",
      "[CV 1/5] END criterion=entropy, max_depth=700000, max_features=sqrt, n_estimators=50;, score=0.793 total time=   0.1s\n",
      "[CV 2/5] END criterion=entropy, max_depth=700000, max_features=sqrt, n_estimators=50;, score=0.774 total time=   0.1s\n",
      "[CV 3/5] END criterion=entropy, max_depth=700000, max_features=sqrt, n_estimators=50;, score=0.774 total time=   0.1s\n",
      "[CV 4/5] END criterion=entropy, max_depth=700000, max_features=sqrt, n_estimators=50;, score=0.817 total time=   0.1s\n",
      "[CV 5/5] END criterion=entropy, max_depth=700000, max_features=sqrt, n_estimators=50;, score=0.783 total time=   0.1s\n",
      "[CV 1/5] END criterion=entropy, max_depth=700000, max_features=sqrt, n_estimators=100;, score=0.776 total time=   0.4s\n",
      "[CV 2/5] END criterion=entropy, max_depth=700000, max_features=sqrt, n_estimators=100;, score=0.757 total time=   0.4s\n",
      "[CV 3/5] END criterion=entropy, max_depth=700000, max_features=sqrt, n_estimators=100;, score=0.783 total time=   0.4s\n",
      "[CV 4/5] END criterion=entropy, max_depth=700000, max_features=sqrt, n_estimators=100;, score=0.817 total time=   0.4s\n",
      "[CV 5/5] END criterion=entropy, max_depth=700000, max_features=sqrt, n_estimators=100;, score=0.774 total time=   0.4s\n",
      "[CV 1/5] END criterion=entropy, max_depth=700000, max_features=sqrt, n_estimators=600;, score=0.819 total time=   2.6s\n",
      "[CV 2/5] END criterion=entropy, max_depth=700000, max_features=sqrt, n_estimators=600;, score=0.774 total time=   2.7s\n",
      "[CV 3/5] END criterion=entropy, max_depth=700000, max_features=sqrt, n_estimators=600;, score=0.800 total time=   2.7s\n",
      "[CV 4/5] END criterion=entropy, max_depth=700000, max_features=sqrt, n_estimators=600;, score=0.835 total time=   2.7s\n",
      "[CV 5/5] END criterion=entropy, max_depth=700000, max_features=sqrt, n_estimators=600;, score=0.748 total time=   2.7s\n",
      "[CV 1/5] END criterion=entropy, max_depth=700000, max_features=sqrt, n_estimators=650;, score=0.793 total time=   3.0s\n",
      "[CV 2/5] END criterion=entropy, max_depth=700000, max_features=sqrt, n_estimators=650;, score=0.774 total time=   3.0s\n",
      "[CV 3/5] END criterion=entropy, max_depth=700000, max_features=sqrt, n_estimators=650;, score=0.800 total time=   2.9s\n",
      "[CV 4/5] END criterion=entropy, max_depth=700000, max_features=sqrt, n_estimators=650;, score=0.835 total time=   2.9s\n",
      "[CV 5/5] END criterion=entropy, max_depth=700000, max_features=sqrt, n_estimators=650;, score=0.748 total time=   2.9s\n",
      "[CV 1/5] END criterion=entropy, max_depth=700000, max_features=sqrt, n_estimators=700;, score=0.810 total time=   3.1s\n",
      "[CV 2/5] END criterion=entropy, max_depth=700000, max_features=sqrt, n_estimators=700;, score=0.748 total time=   3.2s\n",
      "[CV 3/5] END criterion=entropy, max_depth=700000, max_features=sqrt, n_estimators=700;, score=0.800 total time=   3.2s\n",
      "[CV 4/5] END criterion=entropy, max_depth=700000, max_features=sqrt, n_estimators=700;, score=0.826 total time=   3.2s\n",
      "[CV 5/5] END criterion=entropy, max_depth=700000, max_features=sqrt, n_estimators=700;, score=0.748 total time=   3.2s\n",
      "[CV 1/5] END criterion=entropy, max_depth=700000, max_features=log2, n_estimators=50;, score=0.810 total time=   0.2s\n",
      "[CV 2/5] END criterion=entropy, max_depth=700000, max_features=log2, n_estimators=50;, score=0.739 total time=   0.2s\n",
      "[CV 3/5] END criterion=entropy, max_depth=700000, max_features=log2, n_estimators=50;, score=0.800 total time=   0.2s\n",
      "[CV 4/5] END criterion=entropy, max_depth=700000, max_features=log2, n_estimators=50;, score=0.843 total time=   0.2s\n",
      "[CV 5/5] END criterion=entropy, max_depth=700000, max_features=log2, n_estimators=50;, score=0.757 total time=   0.2s\n",
      "[CV 1/5] END criterion=entropy, max_depth=700000, max_features=log2, n_estimators=100;, score=0.810 total time=   0.4s\n",
      "[CV 2/5] END criterion=entropy, max_depth=700000, max_features=log2, n_estimators=100;, score=0.757 total time=   0.4s\n",
      "[CV 3/5] END criterion=entropy, max_depth=700000, max_features=log2, n_estimators=100;, score=0.809 total time=   0.4s\n",
      "[CV 4/5] END criterion=entropy, max_depth=700000, max_features=log2, n_estimators=100;, score=0.826 total time=   0.4s\n",
      "[CV 5/5] END criterion=entropy, max_depth=700000, max_features=log2, n_estimators=100;, score=0.765 total time=   0.4s\n",
      "[CV 1/5] END criterion=entropy, max_depth=700000, max_features=log2, n_estimators=600;, score=0.810 total time=   3.0s\n",
      "[CV 2/5] END criterion=entropy, max_depth=700000, max_features=log2, n_estimators=600;, score=0.757 total time=   3.0s\n",
      "[CV 3/5] END criterion=entropy, max_depth=700000, max_features=log2, n_estimators=600;, score=0.800 total time=   3.1s\n",
      "[CV 4/5] END criterion=entropy, max_depth=700000, max_features=log2, n_estimators=600;, score=0.835 total time=   3.0s\n",
      "[CV 5/5] END criterion=entropy, max_depth=700000, max_features=log2, n_estimators=600;, score=0.748 total time=   2.9s\n",
      "[CV 1/5] END criterion=entropy, max_depth=700000, max_features=log2, n_estimators=650;, score=0.819 total time=   3.3s\n",
      "[CV 2/5] END criterion=entropy, max_depth=700000, max_features=log2, n_estimators=650;, score=0.757 total time=   3.3s\n",
      "[CV 3/5] END criterion=entropy, max_depth=700000, max_features=log2, n_estimators=650;, score=0.809 total time=   3.3s\n",
      "[CV 4/5] END criterion=entropy, max_depth=700000, max_features=log2, n_estimators=650;, score=0.835 total time=   3.4s\n",
      "[CV 5/5] END criterion=entropy, max_depth=700000, max_features=log2, n_estimators=650;, score=0.774 total time=   3.3s\n",
      "[CV 1/5] END criterion=entropy, max_depth=700000, max_features=log2, n_estimators=700;, score=0.810 total time=   3.5s\n",
      "[CV 2/5] END criterion=entropy, max_depth=700000, max_features=log2, n_estimators=700;, score=0.765 total time=   3.4s\n",
      "[CV 3/5] END criterion=entropy, max_depth=700000, max_features=log2, n_estimators=700;, score=0.809 total time=   3.5s\n",
      "[CV 4/5] END criterion=entropy, max_depth=700000, max_features=log2, n_estimators=700;, score=0.826 total time=   3.5s\n",
      "[CV 5/5] END criterion=entropy, max_depth=700000, max_features=log2, n_estimators=700;, score=0.748 total time=   3.4s\n",
      "[CV 1/5] END criterion=entropy, max_depth=700000, max_features=None, n_estimators=50;, score=0.793 total time=   0.3s\n",
      "[CV 2/5] END criterion=entropy, max_depth=700000, max_features=None, n_estimators=50;, score=0.757 total time=   0.3s\n",
      "[CV 3/5] END criterion=entropy, max_depth=700000, max_features=None, n_estimators=50;, score=0.791 total time=   0.3s\n",
      "[CV 4/5] END criterion=entropy, max_depth=700000, max_features=None, n_estimators=50;, score=0.826 total time=   0.3s\n",
      "[CV 5/5] END criterion=entropy, max_depth=700000, max_features=None, n_estimators=50;, score=0.748 total time=   0.3s\n",
      "[CV 1/5] END criterion=entropy, max_depth=700000, max_features=None, n_estimators=100;, score=0.802 total time=   0.6s\n",
      "[CV 2/5] END criterion=entropy, max_depth=700000, max_features=None, n_estimators=100;, score=0.774 total time=   0.6s\n",
      "[CV 3/5] END criterion=entropy, max_depth=700000, max_features=None, n_estimators=100;, score=0.809 total time=   0.6s\n",
      "[CV 4/5] END criterion=entropy, max_depth=700000, max_features=None, n_estimators=100;, score=0.835 total time=   0.6s\n",
      "[CV 5/5] END criterion=entropy, max_depth=700000, max_features=None, n_estimators=100;, score=0.757 total time=   0.6s\n",
      "[CV 1/5] END criterion=entropy, max_depth=700000, max_features=None, n_estimators=600;, score=0.810 total time=   4.2s\n",
      "[CV 2/5] END criterion=entropy, max_depth=700000, max_features=None, n_estimators=600;, score=0.757 total time=   4.3s\n",
      "[CV 3/5] END criterion=entropy, max_depth=700000, max_features=None, n_estimators=600;, score=0.791 total time=   4.3s\n",
      "[CV 4/5] END criterion=entropy, max_depth=700000, max_features=None, n_estimators=600;, score=0.809 total time=   4.3s\n",
      "[CV 5/5] END criterion=entropy, max_depth=700000, max_features=None, n_estimators=600;, score=0.748 total time=   4.2s\n",
      "[CV 1/5] END criterion=entropy, max_depth=700000, max_features=None, n_estimators=650;, score=0.810 total time=   4.6s\n",
      "[CV 2/5] END criterion=entropy, max_depth=700000, max_features=None, n_estimators=650;, score=0.748 total time=   4.6s\n",
      "[CV 3/5] END criterion=entropy, max_depth=700000, max_features=None, n_estimators=650;, score=0.800 total time=   4.7s\n",
      "[CV 4/5] END criterion=entropy, max_depth=700000, max_features=None, n_estimators=650;, score=0.809 total time=   4.6s\n",
      "[CV 5/5] END criterion=entropy, max_depth=700000, max_features=None, n_estimators=650;, score=0.757 total time=   4.6s\n",
      "[CV 1/5] END criterion=entropy, max_depth=700000, max_features=None, n_estimators=700;, score=0.810 total time=   5.0s\n",
      "[CV 2/5] END criterion=entropy, max_depth=700000, max_features=None, n_estimators=700;, score=0.748 total time=   5.0s\n",
      "[CV 3/5] END criterion=entropy, max_depth=700000, max_features=None, n_estimators=700;, score=0.800 total time=   5.1s\n",
      "[CV 4/5] END criterion=entropy, max_depth=700000, max_features=None, n_estimators=700;, score=0.817 total time=   5.0s\n",
      "[CV 5/5] END criterion=entropy, max_depth=700000, max_features=None, n_estimators=700;, score=0.757 total time=   5.0s\n",
      "[CV 1/5] END criterion=entropy, max_depth=1000000, max_features=sqrt, n_estimators=50;, score=0.784 total time=   0.1s\n",
      "[CV 2/5] END criterion=entropy, max_depth=1000000, max_features=sqrt, n_estimators=50;, score=0.774 total time=   0.1s\n",
      "[CV 3/5] END criterion=entropy, max_depth=1000000, max_features=sqrt, n_estimators=50;, score=0.791 total time=   0.1s\n",
      "[CV 4/5] END criterion=entropy, max_depth=1000000, max_features=sqrt, n_estimators=50;, score=0.843 total time=   0.1s\n",
      "[CV 5/5] END criterion=entropy, max_depth=1000000, max_features=sqrt, n_estimators=50;, score=0.748 total time=   0.1s\n",
      "[CV 1/5] END criterion=entropy, max_depth=1000000, max_features=sqrt, n_estimators=100;, score=0.810 total time=   0.4s\n",
      "[CV 2/5] END criterion=entropy, max_depth=1000000, max_features=sqrt, n_estimators=100;, score=0.765 total time=   0.4s\n",
      "[CV 3/5] END criterion=entropy, max_depth=1000000, max_features=sqrt, n_estimators=100;, score=0.791 total time=   0.4s\n",
      "[CV 4/5] END criterion=entropy, max_depth=1000000, max_features=sqrt, n_estimators=100;, score=0.809 total time=   0.4s\n",
      "[CV 5/5] END criterion=entropy, max_depth=1000000, max_features=sqrt, n_estimators=100;, score=0.757 total time=   0.4s\n",
      "[CV 1/5] END criterion=entropy, max_depth=1000000, max_features=sqrt, n_estimators=600;, score=0.810 total time=   2.7s\n",
      "[CV 2/5] END criterion=entropy, max_depth=1000000, max_features=sqrt, n_estimators=600;, score=0.739 total time=   2.7s\n",
      "[CV 3/5] END criterion=entropy, max_depth=1000000, max_features=sqrt, n_estimators=600;, score=0.800 total time=   2.7s\n",
      "[CV 4/5] END criterion=entropy, max_depth=1000000, max_features=sqrt, n_estimators=600;, score=0.835 total time=   2.7s\n",
      "[CV 5/5] END criterion=entropy, max_depth=1000000, max_features=sqrt, n_estimators=600;, score=0.748 total time=   2.6s\n",
      "[CV 1/5] END criterion=entropy, max_depth=1000000, max_features=sqrt, n_estimators=650;, score=0.802 total time=   2.9s\n",
      "[CV 2/5] END criterion=entropy, max_depth=1000000, max_features=sqrt, n_estimators=650;, score=0.748 total time=   2.9s\n",
      "[CV 3/5] END criterion=entropy, max_depth=1000000, max_features=sqrt, n_estimators=650;, score=0.800 total time=   2.9s\n",
      "[CV 4/5] END criterion=entropy, max_depth=1000000, max_features=sqrt, n_estimators=650;, score=0.843 total time=   3.1s\n",
      "[CV 5/5] END criterion=entropy, max_depth=1000000, max_features=sqrt, n_estimators=650;, score=0.748 total time=   3.0s\n",
      "[CV 1/5] END criterion=entropy, max_depth=1000000, max_features=sqrt, n_estimators=700;, score=0.810 total time=   3.2s\n",
      "[CV 2/5] END criterion=entropy, max_depth=1000000, max_features=sqrt, n_estimators=700;, score=0.765 total time=   3.2s\n",
      "[CV 3/5] END criterion=entropy, max_depth=1000000, max_features=sqrt, n_estimators=700;, score=0.809 total time=   3.2s\n",
      "[CV 4/5] END criterion=entropy, max_depth=1000000, max_features=sqrt, n_estimators=700;, score=0.826 total time=   3.1s\n",
      "[CV 5/5] END criterion=entropy, max_depth=1000000, max_features=sqrt, n_estimators=700;, score=0.765 total time=   3.1s\n",
      "[CV 1/5] END criterion=entropy, max_depth=1000000, max_features=log2, n_estimators=50;, score=0.776 total time=   0.2s\n",
      "[CV 2/5] END criterion=entropy, max_depth=1000000, max_features=log2, n_estimators=50;, score=0.757 total time=   0.2s\n",
      "[CV 3/5] END criterion=entropy, max_depth=1000000, max_features=log2, n_estimators=50;, score=0.791 total time=   0.2s\n",
      "[CV 4/5] END criterion=entropy, max_depth=1000000, max_features=log2, n_estimators=50;, score=0.843 total time=   0.2s\n",
      "[CV 5/5] END criterion=entropy, max_depth=1000000, max_features=log2, n_estimators=50;, score=0.774 total time=   0.2s\n",
      "[CV 1/5] END criterion=entropy, max_depth=1000000, max_features=log2, n_estimators=100;, score=0.828 total time=   0.4s\n",
      "[CV 2/5] END criterion=entropy, max_depth=1000000, max_features=log2, n_estimators=100;, score=0.748 total time=   0.4s\n",
      "[CV 3/5] END criterion=entropy, max_depth=1000000, max_features=log2, n_estimators=100;, score=0.783 total time=   0.4s\n",
      "[CV 4/5] END criterion=entropy, max_depth=1000000, max_features=log2, n_estimators=100;, score=0.852 total time=   0.4s\n",
      "[CV 5/5] END criterion=entropy, max_depth=1000000, max_features=log2, n_estimators=100;, score=0.739 total time=   0.4s\n",
      "[CV 1/5] END criterion=entropy, max_depth=1000000, max_features=log2, n_estimators=600;, score=0.819 total time=   2.9s\n",
      "[CV 2/5] END criterion=entropy, max_depth=1000000, max_features=log2, n_estimators=600;, score=0.739 total time=   2.9s\n",
      "[CV 3/5] END criterion=entropy, max_depth=1000000, max_features=log2, n_estimators=600;, score=0.809 total time=   3.0s\n",
      "[CV 4/5] END criterion=entropy, max_depth=1000000, max_features=log2, n_estimators=600;, score=0.843 total time=   2.9s\n",
      "[CV 5/5] END criterion=entropy, max_depth=1000000, max_features=log2, n_estimators=600;, score=0.748 total time=   2.9s\n",
      "[CV 1/5] END criterion=entropy, max_depth=1000000, max_features=log2, n_estimators=650;, score=0.802 total time=   3.2s\n",
      "[CV 2/5] END criterion=entropy, max_depth=1000000, max_features=log2, n_estimators=650;, score=0.739 total time=   3.2s\n",
      "[CV 3/5] END criterion=entropy, max_depth=1000000, max_features=log2, n_estimators=650;, score=0.809 total time=   3.2s\n",
      "[CV 4/5] END criterion=entropy, max_depth=1000000, max_features=log2, n_estimators=650;, score=0.826 total time=   3.2s\n",
      "[CV 5/5] END criterion=entropy, max_depth=1000000, max_features=log2, n_estimators=650;, score=0.774 total time=   3.2s\n",
      "[CV 1/5] END criterion=entropy, max_depth=1000000, max_features=log2, n_estimators=700;, score=0.819 total time=   3.4s\n",
      "[CV 2/5] END criterion=entropy, max_depth=1000000, max_features=log2, n_estimators=700;, score=0.757 total time=   3.6s\n",
      "[CV 3/5] END criterion=entropy, max_depth=1000000, max_features=log2, n_estimators=700;, score=0.809 total time=   3.5s\n",
      "[CV 4/5] END criterion=entropy, max_depth=1000000, max_features=log2, n_estimators=700;, score=0.835 total time=   3.5s\n",
      "[CV 5/5] END criterion=entropy, max_depth=1000000, max_features=log2, n_estimators=700;, score=0.765 total time=   3.4s\n",
      "[CV 1/5] END criterion=entropy, max_depth=1000000, max_features=None, n_estimators=50;, score=0.802 total time=   0.3s\n",
      "[CV 2/5] END criterion=entropy, max_depth=1000000, max_features=None, n_estimators=50;, score=0.765 total time=   0.3s\n",
      "[CV 3/5] END criterion=entropy, max_depth=1000000, max_features=None, n_estimators=50;, score=0.835 total time=   0.3s\n",
      "[CV 4/5] END criterion=entropy, max_depth=1000000, max_features=None, n_estimators=50;, score=0.817 total time=   0.3s\n",
      "[CV 5/5] END criterion=entropy, max_depth=1000000, max_features=None, n_estimators=50;, score=0.765 total time=   0.3s\n",
      "[CV 1/5] END criterion=entropy, max_depth=1000000, max_features=None, n_estimators=100;, score=0.793 total time=   0.6s\n",
      "[CV 2/5] END criterion=entropy, max_depth=1000000, max_features=None, n_estimators=100;, score=0.765 total time=   0.6s\n",
      "[CV 3/5] END criterion=entropy, max_depth=1000000, max_features=None, n_estimators=100;, score=0.791 total time=   0.6s\n",
      "[CV 4/5] END criterion=entropy, max_depth=1000000, max_features=None, n_estimators=100;, score=0.835 total time=   0.6s\n",
      "[CV 5/5] END criterion=entropy, max_depth=1000000, max_features=None, n_estimators=100;, score=0.739 total time=   0.6s\n",
      "[CV 1/5] END criterion=entropy, max_depth=1000000, max_features=None, n_estimators=600;, score=0.810 total time=   4.2s\n",
      "[CV 2/5] END criterion=entropy, max_depth=1000000, max_features=None, n_estimators=600;, score=0.739 total time=   4.4s\n",
      "[CV 3/5] END criterion=entropy, max_depth=1000000, max_features=None, n_estimators=600;, score=0.800 total time=   4.4s\n",
      "[CV 4/5] END criterion=entropy, max_depth=1000000, max_features=None, n_estimators=600;, score=0.826 total time=   4.3s\n",
      "[CV 5/5] END criterion=entropy, max_depth=1000000, max_features=None, n_estimators=600;, score=0.765 total time=   4.2s\n",
      "[CV 1/5] END criterion=entropy, max_depth=1000000, max_features=None, n_estimators=650;, score=0.802 total time=   4.6s\n",
      "[CV 2/5] END criterion=entropy, max_depth=1000000, max_features=None, n_estimators=650;, score=0.748 total time=   4.7s\n",
      "[CV 3/5] END criterion=entropy, max_depth=1000000, max_features=None, n_estimators=650;, score=0.809 total time=   4.7s\n",
      "[CV 4/5] END criterion=entropy, max_depth=1000000, max_features=None, n_estimators=650;, score=0.809 total time=   4.7s\n",
      "[CV 5/5] END criterion=entropy, max_depth=1000000, max_features=None, n_estimators=650;, score=0.748 total time=   4.6s\n",
      "[CV 1/5] END criterion=entropy, max_depth=1000000, max_features=None, n_estimators=700;, score=0.810 total time=   5.1s\n",
      "[CV 2/5] END criterion=entropy, max_depth=1000000, max_features=None, n_estimators=700;, score=0.748 total time=   5.0s\n",
      "[CV 3/5] END criterion=entropy, max_depth=1000000, max_features=None, n_estimators=700;, score=0.791 total time=   5.1s\n",
      "[CV 4/5] END criterion=entropy, max_depth=1000000, max_features=None, n_estimators=700;, score=0.826 total time=   5.0s\n",
      "[CV 5/5] END criterion=entropy, max_depth=1000000, max_features=None, n_estimators=700;, score=0.765 total time=   4.9s\n",
      "[CV 1/5] END criterion=log_loss, max_depth=100000, max_features=sqrt, n_estimators=50;, score=0.776 total time=   0.1s\n",
      "[CV 2/5] END criterion=log_loss, max_depth=100000, max_features=sqrt, n_estimators=50;, score=0.739 total time=   0.1s\n",
      "[CV 3/5] END criterion=log_loss, max_depth=100000, max_features=sqrt, n_estimators=50;, score=0.817 total time=   0.1s\n",
      "[CV 4/5] END criterion=log_loss, max_depth=100000, max_features=sqrt, n_estimators=50;, score=0.817 total time=   0.1s\n",
      "[CV 5/5] END criterion=log_loss, max_depth=100000, max_features=sqrt, n_estimators=50;, score=0.757 total time=   0.1s\n",
      "[CV 1/5] END criterion=log_loss, max_depth=100000, max_features=sqrt, n_estimators=100;, score=0.784 total time=   0.4s\n",
      "[CV 2/5] END criterion=log_loss, max_depth=100000, max_features=sqrt, n_estimators=100;, score=0.748 total time=   0.4s\n",
      "[CV 3/5] END criterion=log_loss, max_depth=100000, max_features=sqrt, n_estimators=100;, score=0.817 total time=   0.4s\n",
      "[CV 4/5] END criterion=log_loss, max_depth=100000, max_features=sqrt, n_estimators=100;, score=0.809 total time=   0.4s\n",
      "[CV 5/5] END criterion=log_loss, max_depth=100000, max_features=sqrt, n_estimators=100;, score=0.765 total time=   0.4s\n",
      "[CV 1/5] END criterion=log_loss, max_depth=100000, max_features=sqrt, n_estimators=600;, score=0.810 total time=   2.6s\n",
      "[CV 2/5] END criterion=log_loss, max_depth=100000, max_features=sqrt, n_estimators=600;, score=0.757 total time=   2.6s\n",
      "[CV 3/5] END criterion=log_loss, max_depth=100000, max_features=sqrt, n_estimators=600;, score=0.817 total time=   2.7s\n",
      "[CV 4/5] END criterion=log_loss, max_depth=100000, max_features=sqrt, n_estimators=600;, score=0.826 total time=   2.6s\n",
      "[CV 5/5] END criterion=log_loss, max_depth=100000, max_features=sqrt, n_estimators=600;, score=0.757 total time=   2.6s\n",
      "[CV 1/5] END criterion=log_loss, max_depth=100000, max_features=sqrt, n_estimators=650;, score=0.802 total time=   3.0s\n",
      "[CV 2/5] END criterion=log_loss, max_depth=100000, max_features=sqrt, n_estimators=650;, score=0.765 total time=   2.9s\n",
      "[CV 3/5] END criterion=log_loss, max_depth=100000, max_features=sqrt, n_estimators=650;, score=0.809 total time=   2.9s\n",
      "[CV 4/5] END criterion=log_loss, max_depth=100000, max_features=sqrt, n_estimators=650;, score=0.826 total time=   2.9s\n",
      "[CV 5/5] END criterion=log_loss, max_depth=100000, max_features=sqrt, n_estimators=650;, score=0.765 total time=   2.9s\n",
      "[CV 1/5] END criterion=log_loss, max_depth=100000, max_features=sqrt, n_estimators=700;, score=0.819 total time=   3.1s\n",
      "[CV 2/5] END criterion=log_loss, max_depth=100000, max_features=sqrt, n_estimators=700;, score=0.757 total time=   3.1s\n",
      "[CV 3/5] END criterion=log_loss, max_depth=100000, max_features=sqrt, n_estimators=700;, score=0.809 total time=   3.2s\n",
      "[CV 4/5] END criterion=log_loss, max_depth=100000, max_features=sqrt, n_estimators=700;, score=0.826 total time=   3.1s\n",
      "[CV 5/5] END criterion=log_loss, max_depth=100000, max_features=sqrt, n_estimators=700;, score=0.774 total time=   3.1s\n",
      "[CV 1/5] END criterion=log_loss, max_depth=100000, max_features=log2, n_estimators=50;, score=0.784 total time=   0.1s\n",
      "[CV 2/5] END criterion=log_loss, max_depth=100000, max_features=log2, n_estimators=50;, score=0.757 total time=   0.2s\n",
      "[CV 3/5] END criterion=log_loss, max_depth=100000, max_features=log2, n_estimators=50;, score=0.826 total time=   0.2s\n",
      "[CV 4/5] END criterion=log_loss, max_depth=100000, max_features=log2, n_estimators=50;, score=0.835 total time=   0.2s\n",
      "[CV 5/5] END criterion=log_loss, max_depth=100000, max_features=log2, n_estimators=50;, score=0.730 total time=   0.2s\n",
      "[CV 1/5] END criterion=log_loss, max_depth=100000, max_features=log2, n_estimators=100;, score=0.810 total time=   0.4s\n",
      "[CV 2/5] END criterion=log_loss, max_depth=100000, max_features=log2, n_estimators=100;, score=0.739 total time=   0.4s\n",
      "[CV 3/5] END criterion=log_loss, max_depth=100000, max_features=log2, n_estimators=100;, score=0.809 total time=   0.4s\n",
      "[CV 4/5] END criterion=log_loss, max_depth=100000, max_features=log2, n_estimators=100;, score=0.826 total time=   0.4s\n",
      "[CV 5/5] END criterion=log_loss, max_depth=100000, max_features=log2, n_estimators=100;, score=0.757 total time=   0.4s\n",
      "[CV 1/5] END criterion=log_loss, max_depth=100000, max_features=log2, n_estimators=600;, score=0.810 total time=   2.9s\n",
      "[CV 2/5] END criterion=log_loss, max_depth=100000, max_features=log2, n_estimators=600;, score=0.765 total time=   2.9s\n",
      "[CV 3/5] END criterion=log_loss, max_depth=100000, max_features=log2, n_estimators=600;, score=0.809 total time=   3.0s\n",
      "[CV 4/5] END criterion=log_loss, max_depth=100000, max_features=log2, n_estimators=600;, score=0.826 total time=   3.0s\n",
      "[CV 5/5] END criterion=log_loss, max_depth=100000, max_features=log2, n_estimators=600;, score=0.757 total time=   2.9s\n",
      "[CV 1/5] END criterion=log_loss, max_depth=100000, max_features=log2, n_estimators=650;, score=0.819 total time=   3.2s\n",
      "[CV 2/5] END criterion=log_loss, max_depth=100000, max_features=log2, n_estimators=650;, score=0.757 total time=   3.2s\n",
      "[CV 3/5] END criterion=log_loss, max_depth=100000, max_features=log2, n_estimators=650;, score=0.809 total time=   3.2s\n",
      "[CV 4/5] END criterion=log_loss, max_depth=100000, max_features=log2, n_estimators=650;, score=0.826 total time=   3.2s\n",
      "[CV 5/5] END criterion=log_loss, max_depth=100000, max_features=log2, n_estimators=650;, score=0.765 total time=   3.2s\n",
      "[CV 1/5] END criterion=log_loss, max_depth=100000, max_features=log2, n_estimators=700;, score=0.819 total time=   3.4s\n",
      "[CV 2/5] END criterion=log_loss, max_depth=100000, max_features=log2, n_estimators=700;, score=0.757 total time=   3.5s\n",
      "[CV 3/5] END criterion=log_loss, max_depth=100000, max_features=log2, n_estimators=700;, score=0.809 total time=   3.5s\n",
      "[CV 4/5] END criterion=log_loss, max_depth=100000, max_features=log2, n_estimators=700;, score=0.835 total time=   3.5s\n",
      "[CV 5/5] END criterion=log_loss, max_depth=100000, max_features=log2, n_estimators=700;, score=0.765 total time=   3.5s\n",
      "[CV 1/5] END criterion=log_loss, max_depth=100000, max_features=None, n_estimators=50;, score=0.793 total time=   0.3s\n",
      "[CV 2/5] END criterion=log_loss, max_depth=100000, max_features=None, n_estimators=50;, score=0.748 total time=   0.3s\n",
      "[CV 3/5] END criterion=log_loss, max_depth=100000, max_features=None, n_estimators=50;, score=0.809 total time=   0.3s\n",
      "[CV 4/5] END criterion=log_loss, max_depth=100000, max_features=None, n_estimators=50;, score=0.835 total time=   0.3s\n",
      "[CV 5/5] END criterion=log_loss, max_depth=100000, max_features=None, n_estimators=50;, score=0.774 total time=   0.3s\n",
      "[CV 1/5] END criterion=log_loss, max_depth=100000, max_features=None, n_estimators=100;, score=0.810 total time=   0.6s\n",
      "[CV 2/5] END criterion=log_loss, max_depth=100000, max_features=None, n_estimators=100;, score=0.748 total time=   0.6s\n",
      "[CV 3/5] END criterion=log_loss, max_depth=100000, max_features=None, n_estimators=100;, score=0.800 total time=   0.6s\n",
      "[CV 4/5] END criterion=log_loss, max_depth=100000, max_features=None, n_estimators=100;, score=0.826 total time=   0.7s\n",
      "[CV 5/5] END criterion=log_loss, max_depth=100000, max_features=None, n_estimators=100;, score=0.765 total time=   0.6s\n",
      "[CV 1/5] END criterion=log_loss, max_depth=100000, max_features=None, n_estimators=600;, score=0.810 total time=   4.2s\n",
      "[CV 2/5] END criterion=log_loss, max_depth=100000, max_features=None, n_estimators=600;, score=0.757 total time=   4.3s\n",
      "[CV 3/5] END criterion=log_loss, max_depth=100000, max_features=None, n_estimators=600;, score=0.809 total time=   4.4s\n",
      "[CV 4/5] END criterion=log_loss, max_depth=100000, max_features=None, n_estimators=600;, score=0.817 total time=   4.3s\n",
      "[CV 5/5] END criterion=log_loss, max_depth=100000, max_features=None, n_estimators=600;, score=0.765 total time=   4.2s\n",
      "[CV 1/5] END criterion=log_loss, max_depth=100000, max_features=None, n_estimators=650;, score=0.810 total time=   4.8s\n",
      "[CV 2/5] END criterion=log_loss, max_depth=100000, max_features=None, n_estimators=650;, score=0.757 total time=   4.7s\n",
      "[CV 3/5] END criterion=log_loss, max_depth=100000, max_features=None, n_estimators=650;, score=0.800 total time=   4.7s\n",
      "[CV 4/5] END criterion=log_loss, max_depth=100000, max_features=None, n_estimators=650;, score=0.809 total time=   4.6s\n",
      "[CV 5/5] END criterion=log_loss, max_depth=100000, max_features=None, n_estimators=650;, score=0.757 total time=   4.6s\n",
      "[CV 1/5] END criterion=log_loss, max_depth=100000, max_features=None, n_estimators=700;, score=0.819 total time=   4.9s\n",
      "[CV 2/5] END criterion=log_loss, max_depth=100000, max_features=None, n_estimators=700;, score=0.748 total time=   5.0s\n",
      "[CV 3/5] END criterion=log_loss, max_depth=100000, max_features=None, n_estimators=700;, score=0.800 total time=   5.1s\n",
      "[CV 4/5] END criterion=log_loss, max_depth=100000, max_features=None, n_estimators=700;, score=0.826 total time=   5.0s\n",
      "[CV 5/5] END criterion=log_loss, max_depth=100000, max_features=None, n_estimators=700;, score=0.765 total time=   5.0s\n",
      "[CV 1/5] END criterion=log_loss, max_depth=300000, max_features=sqrt, n_estimators=50;, score=0.793 total time=   0.1s\n",
      "[CV 2/5] END criterion=log_loss, max_depth=300000, max_features=sqrt, n_estimators=50;, score=0.748 total time=   0.1s\n",
      "[CV 3/5] END criterion=log_loss, max_depth=300000, max_features=sqrt, n_estimators=50;, score=0.826 total time=   0.2s\n",
      "[CV 4/5] END criterion=log_loss, max_depth=300000, max_features=sqrt, n_estimators=50;, score=0.817 total time=   0.2s\n",
      "[CV 5/5] END criterion=log_loss, max_depth=300000, max_features=sqrt, n_estimators=50;, score=0.783 total time=   0.2s\n",
      "[CV 1/5] END criterion=log_loss, max_depth=300000, max_features=sqrt, n_estimators=100;, score=0.802 total time=   0.4s\n",
      "[CV 2/5] END criterion=log_loss, max_depth=300000, max_features=sqrt, n_estimators=100;, score=0.739 total time=   0.4s\n",
      "[CV 3/5] END criterion=log_loss, max_depth=300000, max_features=sqrt, n_estimators=100;, score=0.800 total time=   0.4s\n",
      "[CV 4/5] END criterion=log_loss, max_depth=300000, max_features=sqrt, n_estimators=100;, score=0.826 total time=   0.4s\n",
      "[CV 5/5] END criterion=log_loss, max_depth=300000, max_features=sqrt, n_estimators=100;, score=0.765 total time=   0.4s\n",
      "[CV 1/5] END criterion=log_loss, max_depth=300000, max_features=sqrt, n_estimators=600;, score=0.810 total time=   2.7s\n",
      "[CV 2/5] END criterion=log_loss, max_depth=300000, max_features=sqrt, n_estimators=600;, score=0.748 total time=   2.7s\n",
      "[CV 3/5] END criterion=log_loss, max_depth=300000, max_features=sqrt, n_estimators=600;, score=0.809 total time=   2.7s\n",
      "[CV 4/5] END criterion=log_loss, max_depth=300000, max_features=sqrt, n_estimators=600;, score=0.835 total time=   2.7s\n",
      "[CV 5/5] END criterion=log_loss, max_depth=300000, max_features=sqrt, n_estimators=600;, score=0.774 total time=   2.7s\n",
      "[CV 1/5] END criterion=log_loss, max_depth=300000, max_features=sqrt, n_estimators=650;, score=0.819 total time=   2.9s\n",
      "[CV 2/5] END criterion=log_loss, max_depth=300000, max_features=sqrt, n_estimators=650;, score=0.730 total time=   2.9s\n",
      "[CV 3/5] END criterion=log_loss, max_depth=300000, max_features=sqrt, n_estimators=650;, score=0.800 total time=   2.9s\n",
      "[CV 4/5] END criterion=log_loss, max_depth=300000, max_features=sqrt, n_estimators=650;, score=0.835 total time=   2.9s\n",
      "[CV 5/5] END criterion=log_loss, max_depth=300000, max_features=sqrt, n_estimators=650;, score=0.765 total time=   2.9s\n",
      "[CV 1/5] END criterion=log_loss, max_depth=300000, max_features=sqrt, n_estimators=700;, score=0.810 total time=   3.1s\n",
      "[CV 2/5] END criterion=log_loss, max_depth=300000, max_features=sqrt, n_estimators=700;, score=0.774 total time=   3.1s\n",
      "[CV 3/5] END criterion=log_loss, max_depth=300000, max_features=sqrt, n_estimators=700;, score=0.809 total time=   3.2s\n",
      "[CV 4/5] END criterion=log_loss, max_depth=300000, max_features=sqrt, n_estimators=700;, score=0.826 total time=   3.2s\n",
      "[CV 5/5] END criterion=log_loss, max_depth=300000, max_features=sqrt, n_estimators=700;, score=0.774 total time=   3.1s\n",
      "[CV 1/5] END criterion=log_loss, max_depth=300000, max_features=log2, n_estimators=50;, score=0.776 total time=   0.2s\n",
      "[CV 2/5] END criterion=log_loss, max_depth=300000, max_features=log2, n_estimators=50;, score=0.748 total time=   0.2s\n",
      "[CV 3/5] END criterion=log_loss, max_depth=300000, max_features=log2, n_estimators=50;, score=0.791 total time=   0.2s\n",
      "[CV 4/5] END criterion=log_loss, max_depth=300000, max_features=log2, n_estimators=50;, score=0.800 total time=   0.2s\n",
      "[CV 5/5] END criterion=log_loss, max_depth=300000, max_features=log2, n_estimators=50;, score=0.757 total time=   0.2s\n",
      "[CV 1/5] END criterion=log_loss, max_depth=300000, max_features=log2, n_estimators=100;, score=0.836 total time=   0.4s\n",
      "[CV 2/5] END criterion=log_loss, max_depth=300000, max_features=log2, n_estimators=100;, score=0.774 total time=   0.4s\n",
      "[CV 3/5] END criterion=log_loss, max_depth=300000, max_features=log2, n_estimators=100;, score=0.783 total time=   0.4s\n",
      "[CV 4/5] END criterion=log_loss, max_depth=300000, max_features=log2, n_estimators=100;, score=0.835 total time=   0.4s\n",
      "[CV 5/5] END criterion=log_loss, max_depth=300000, max_features=log2, n_estimators=100;, score=0.748 total time=   0.4s\n",
      "[CV 1/5] END criterion=log_loss, max_depth=300000, max_features=log2, n_estimators=600;, score=0.819 total time=   3.0s\n",
      "[CV 2/5] END criterion=log_loss, max_depth=300000, max_features=log2, n_estimators=600;, score=0.748 total time=   2.9s\n",
      "[CV 3/5] END criterion=log_loss, max_depth=300000, max_features=log2, n_estimators=600;, score=0.809 total time=   3.0s\n",
      "[CV 4/5] END criterion=log_loss, max_depth=300000, max_features=log2, n_estimators=600;, score=0.835 total time=   2.9s\n",
      "[CV 5/5] END criterion=log_loss, max_depth=300000, max_features=log2, n_estimators=600;, score=0.765 total time=   2.9s\n",
      "[CV 1/5] END criterion=log_loss, max_depth=300000, max_features=log2, n_estimators=650;, score=0.819 total time=   3.2s\n",
      "[CV 2/5] END criterion=log_loss, max_depth=300000, max_features=log2, n_estimators=650;, score=0.757 total time=   3.2s\n",
      "[CV 3/5] END criterion=log_loss, max_depth=300000, max_features=log2, n_estimators=650;, score=0.800 total time=   3.2s\n",
      "[CV 4/5] END criterion=log_loss, max_depth=300000, max_features=log2, n_estimators=650;, score=0.826 total time=   3.2s\n",
      "[CV 5/5] END criterion=log_loss, max_depth=300000, max_features=log2, n_estimators=650;, score=0.757 total time=   3.2s\n",
      "[CV 1/5] END criterion=log_loss, max_depth=300000, max_features=log2, n_estimators=700;, score=0.819 total time=   3.4s\n",
      "[CV 2/5] END criterion=log_loss, max_depth=300000, max_features=log2, n_estimators=700;, score=0.748 total time=   3.4s\n",
      "[CV 3/5] END criterion=log_loss, max_depth=300000, max_features=log2, n_estimators=700;, score=0.809 total time=   3.5s\n",
      "[CV 4/5] END criterion=log_loss, max_depth=300000, max_features=log2, n_estimators=700;, score=0.835 total time=   3.4s\n",
      "[CV 5/5] END criterion=log_loss, max_depth=300000, max_features=log2, n_estimators=700;, score=0.757 total time=   3.4s\n",
      "[CV 1/5] END criterion=log_loss, max_depth=300000, max_features=None, n_estimators=50;, score=0.793 total time=   0.3s\n",
      "[CV 2/5] END criterion=log_loss, max_depth=300000, max_features=None, n_estimators=50;, score=0.765 total time=   0.3s\n",
      "[CV 3/5] END criterion=log_loss, max_depth=300000, max_features=None, n_estimators=50;, score=0.791 total time=   0.3s\n",
      "[CV 4/5] END criterion=log_loss, max_depth=300000, max_features=None, n_estimators=50;, score=0.809 total time=   0.3s\n",
      "[CV 5/5] END criterion=log_loss, max_depth=300000, max_features=None, n_estimators=50;, score=0.783 total time=   0.3s\n",
      "[CV 1/5] END criterion=log_loss, max_depth=300000, max_features=None, n_estimators=100;, score=0.819 total time=   0.6s\n",
      "[CV 2/5] END criterion=log_loss, max_depth=300000, max_features=None, n_estimators=100;, score=0.765 total time=   0.6s\n",
      "[CV 3/5] END criterion=log_loss, max_depth=300000, max_features=None, n_estimators=100;, score=0.809 total time=   0.6s\n",
      "[CV 4/5] END criterion=log_loss, max_depth=300000, max_features=None, n_estimators=100;, score=0.817 total time=   0.6s\n",
      "[CV 5/5] END criterion=log_loss, max_depth=300000, max_features=None, n_estimators=100;, score=0.739 total time=   0.6s\n",
      "[CV 1/5] END criterion=log_loss, max_depth=300000, max_features=None, n_estimators=600;, score=0.810 total time=   4.2s\n",
      "[CV 2/5] END criterion=log_loss, max_depth=300000, max_features=None, n_estimators=600;, score=0.748 total time=   4.3s\n",
      "[CV 3/5] END criterion=log_loss, max_depth=300000, max_features=None, n_estimators=600;, score=0.800 total time=   4.4s\n",
      "[CV 4/5] END criterion=log_loss, max_depth=300000, max_features=None, n_estimators=600;, score=0.817 total time=   4.3s\n",
      "[CV 5/5] END criterion=log_loss, max_depth=300000, max_features=None, n_estimators=600;, score=0.757 total time=   4.2s\n",
      "[CV 1/5] END criterion=log_loss, max_depth=300000, max_features=None, n_estimators=650;, score=0.810 total time=   4.6s\n",
      "[CV 2/5] END criterion=log_loss, max_depth=300000, max_features=None, n_estimators=650;, score=0.748 total time=   4.6s\n",
      "[CV 3/5] END criterion=log_loss, max_depth=300000, max_features=None, n_estimators=650;, score=0.809 total time=   4.7s\n",
      "[CV 4/5] END criterion=log_loss, max_depth=300000, max_features=None, n_estimators=650;, score=0.817 total time=   4.6s\n",
      "[CV 5/5] END criterion=log_loss, max_depth=300000, max_features=None, n_estimators=650;, score=0.757 total time=   4.6s\n",
      "[CV 1/5] END criterion=log_loss, max_depth=300000, max_features=None, n_estimators=700;, score=0.819 total time=   5.0s\n",
      "[CV 2/5] END criterion=log_loss, max_depth=300000, max_features=None, n_estimators=700;, score=0.748 total time=   5.0s\n",
      "[CV 3/5] END criterion=log_loss, max_depth=300000, max_features=None, n_estimators=700;, score=0.809 total time=   5.1s\n",
      "[CV 4/5] END criterion=log_loss, max_depth=300000, max_features=None, n_estimators=700;, score=0.817 total time=   5.0s\n",
      "[CV 5/5] END criterion=log_loss, max_depth=300000, max_features=None, n_estimators=700;, score=0.757 total time=   4.9s\n",
      "[CV 1/5] END criterion=log_loss, max_depth=500000, max_features=sqrt, n_estimators=50;, score=0.802 total time=   0.1s\n",
      "[CV 2/5] END criterion=log_loss, max_depth=500000, max_features=sqrt, n_estimators=50;, score=0.774 total time=   0.1s\n",
      "[CV 3/5] END criterion=log_loss, max_depth=500000, max_features=sqrt, n_estimators=50;, score=0.800 total time=   0.1s\n",
      "[CV 4/5] END criterion=log_loss, max_depth=500000, max_features=sqrt, n_estimators=50;, score=0.809 total time=   0.1s\n",
      "[CV 5/5] END criterion=log_loss, max_depth=500000, max_features=sqrt, n_estimators=50;, score=0.748 total time=   0.1s\n",
      "[CV 1/5] END criterion=log_loss, max_depth=500000, max_features=sqrt, n_estimators=100;, score=0.802 total time=   0.4s\n",
      "[CV 2/5] END criterion=log_loss, max_depth=500000, max_features=sqrt, n_estimators=100;, score=0.774 total time=   0.4s\n",
      "[CV 3/5] END criterion=log_loss, max_depth=500000, max_features=sqrt, n_estimators=100;, score=0.809 total time=   0.4s\n",
      "[CV 4/5] END criterion=log_loss, max_depth=500000, max_features=sqrt, n_estimators=100;, score=0.835 total time=   0.4s\n",
      "[CV 5/5] END criterion=log_loss, max_depth=500000, max_features=sqrt, n_estimators=100;, score=0.774 total time=   0.4s\n",
      "[CV 1/5] END criterion=log_loss, max_depth=500000, max_features=sqrt, n_estimators=600;, score=0.810 total time=   2.7s\n",
      "[CV 2/5] END criterion=log_loss, max_depth=500000, max_features=sqrt, n_estimators=600;, score=0.748 total time=   2.6s\n",
      "[CV 3/5] END criterion=log_loss, max_depth=500000, max_features=sqrt, n_estimators=600;, score=0.809 total time=   2.7s\n",
      "[CV 4/5] END criterion=log_loss, max_depth=500000, max_features=sqrt, n_estimators=600;, score=0.835 total time=   2.7s\n",
      "[CV 5/5] END criterion=log_loss, max_depth=500000, max_features=sqrt, n_estimators=600;, score=0.791 total time=   2.7s\n",
      "[CV 1/5] END criterion=log_loss, max_depth=500000, max_features=sqrt, n_estimators=650;, score=0.802 total time=   2.9s\n",
      "[CV 2/5] END criterion=log_loss, max_depth=500000, max_features=sqrt, n_estimators=650;, score=0.757 total time=   2.9s\n",
      "[CV 3/5] END criterion=log_loss, max_depth=500000, max_features=sqrt, n_estimators=650;, score=0.809 total time=   2.9s\n",
      "[CV 4/5] END criterion=log_loss, max_depth=500000, max_features=sqrt, n_estimators=650;, score=0.835 total time=   2.9s\n",
      "[CV 5/5] END criterion=log_loss, max_depth=500000, max_features=sqrt, n_estimators=650;, score=0.757 total time=   2.9s\n",
      "[CV 1/5] END criterion=log_loss, max_depth=500000, max_features=sqrt, n_estimators=700;, score=0.810 total time=   3.1s\n",
      "[CV 2/5] END criterion=log_loss, max_depth=500000, max_features=sqrt, n_estimators=700;, score=0.748 total time=   3.1s\n",
      "[CV 3/5] END criterion=log_loss, max_depth=500000, max_features=sqrt, n_estimators=700;, score=0.809 total time=   3.2s\n",
      "[CV 4/5] END criterion=log_loss, max_depth=500000, max_features=sqrt, n_estimators=700;, score=0.835 total time=   3.1s\n",
      "[CV 5/5] END criterion=log_loss, max_depth=500000, max_features=sqrt, n_estimators=700;, score=0.765 total time=   3.1s\n",
      "[CV 1/5] END criterion=log_loss, max_depth=500000, max_features=log2, n_estimators=50;, score=0.802 total time=   0.2s\n",
      "[CV 2/5] END criterion=log_loss, max_depth=500000, max_features=log2, n_estimators=50;, score=0.748 total time=   0.2s\n",
      "[CV 3/5] END criterion=log_loss, max_depth=500000, max_features=log2, n_estimators=50;, score=0.817 total time=   0.2s\n",
      "[CV 4/5] END criterion=log_loss, max_depth=500000, max_features=log2, n_estimators=50;, score=0.835 total time=   0.2s\n",
      "[CV 5/5] END criterion=log_loss, max_depth=500000, max_features=log2, n_estimators=50;, score=0.765 total time=   0.2s\n",
      "[CV 1/5] END criterion=log_loss, max_depth=500000, max_features=log2, n_estimators=100;, score=0.819 total time=   0.4s\n",
      "[CV 2/5] END criterion=log_loss, max_depth=500000, max_features=log2, n_estimators=100;, score=0.730 total time=   0.4s\n",
      "[CV 3/5] END criterion=log_loss, max_depth=500000, max_features=log2, n_estimators=100;, score=0.809 total time=   0.4s\n",
      "[CV 4/5] END criterion=log_loss, max_depth=500000, max_features=log2, n_estimators=100;, score=0.843 total time=   0.4s\n",
      "[CV 5/5] END criterion=log_loss, max_depth=500000, max_features=log2, n_estimators=100;, score=0.748 total time=   0.4s\n",
      "[CV 1/5] END criterion=log_loss, max_depth=500000, max_features=log2, n_estimators=600;, score=0.819 total time=   2.9s\n",
      "[CV 2/5] END criterion=log_loss, max_depth=500000, max_features=log2, n_estimators=600;, score=0.757 total time=   2.9s\n",
      "[CV 3/5] END criterion=log_loss, max_depth=500000, max_features=log2, n_estimators=600;, score=0.809 total time=   3.0s\n",
      "[CV 4/5] END criterion=log_loss, max_depth=500000, max_features=log2, n_estimators=600;, score=0.835 total time=   3.1s\n",
      "[CV 5/5] END criterion=log_loss, max_depth=500000, max_features=log2, n_estimators=600;, score=0.757 total time=   2.9s\n",
      "[CV 1/5] END criterion=log_loss, max_depth=500000, max_features=log2, n_estimators=650;, score=0.819 total time=   3.2s\n",
      "[CV 2/5] END criterion=log_loss, max_depth=500000, max_features=log2, n_estimators=650;, score=0.757 total time=   3.2s\n",
      "[CV 3/5] END criterion=log_loss, max_depth=500000, max_features=log2, n_estimators=650;, score=0.809 total time=   3.2s\n",
      "[CV 4/5] END criterion=log_loss, max_depth=500000, max_features=log2, n_estimators=650;, score=0.835 total time=   3.2s\n",
      "[CV 5/5] END criterion=log_loss, max_depth=500000, max_features=log2, n_estimators=650;, score=0.774 total time=   3.2s\n",
      "[CV 1/5] END criterion=log_loss, max_depth=500000, max_features=log2, n_estimators=700;, score=0.793 total time=   3.4s\n",
      "[CV 2/5] END criterion=log_loss, max_depth=500000, max_features=log2, n_estimators=700;, score=0.739 total time=   3.8s\n",
      "[CV 3/5] END criterion=log_loss, max_depth=500000, max_features=log2, n_estimators=700;, score=0.809 total time=   3.7s\n",
      "[CV 4/5] END criterion=log_loss, max_depth=500000, max_features=log2, n_estimators=700;, score=0.843 total time=   3.4s\n",
      "[CV 5/5] END criterion=log_loss, max_depth=500000, max_features=log2, n_estimators=700;, score=0.757 total time=   3.5s\n",
      "[CV 1/5] END criterion=log_loss, max_depth=500000, max_features=None, n_estimators=50;, score=0.776 total time=   0.3s\n",
      "[CV 2/5] END criterion=log_loss, max_depth=500000, max_features=None, n_estimators=50;, score=0.757 total time=   0.3s\n",
      "[CV 3/5] END criterion=log_loss, max_depth=500000, max_features=None, n_estimators=50;, score=0.774 total time=   0.3s\n",
      "[CV 4/5] END criterion=log_loss, max_depth=500000, max_features=None, n_estimators=50;, score=0.826 total time=   0.3s\n",
      "[CV 5/5] END criterion=log_loss, max_depth=500000, max_features=None, n_estimators=50;, score=0.765 total time=   0.3s\n",
      "[CV 1/5] END criterion=log_loss, max_depth=500000, max_features=None, n_estimators=100;, score=0.784 total time=   0.6s\n",
      "[CV 2/5] END criterion=log_loss, max_depth=500000, max_features=None, n_estimators=100;, score=0.774 total time=   0.6s\n",
      "[CV 3/5] END criterion=log_loss, max_depth=500000, max_features=None, n_estimators=100;, score=0.817 total time=   0.6s\n",
      "[CV 4/5] END criterion=log_loss, max_depth=500000, max_features=None, n_estimators=100;, score=0.817 total time=   0.6s\n",
      "[CV 5/5] END criterion=log_loss, max_depth=500000, max_features=None, n_estimators=100;, score=0.757 total time=   0.6s\n",
      "[CV 1/5] END criterion=log_loss, max_depth=500000, max_features=None, n_estimators=600;, score=0.810 total time=   4.2s\n",
      "[CV 2/5] END criterion=log_loss, max_depth=500000, max_features=None, n_estimators=600;, score=0.765 total time=   4.3s\n",
      "[CV 3/5] END criterion=log_loss, max_depth=500000, max_features=None, n_estimators=600;, score=0.809 total time=   4.3s\n",
      "[CV 4/5] END criterion=log_loss, max_depth=500000, max_features=None, n_estimators=600;, score=0.817 total time=   4.3s\n",
      "[CV 5/5] END criterion=log_loss, max_depth=500000, max_features=None, n_estimators=600;, score=0.757 total time=   4.2s\n",
      "[CV 1/5] END criterion=log_loss, max_depth=500000, max_features=None, n_estimators=650;, score=0.810 total time=   4.6s\n",
      "[CV 2/5] END criterion=log_loss, max_depth=500000, max_features=None, n_estimators=650;, score=0.765 total time=   4.7s\n",
      "[CV 3/5] END criterion=log_loss, max_depth=500000, max_features=None, n_estimators=650;, score=0.800 total time=   4.7s\n",
      "[CV 4/5] END criterion=log_loss, max_depth=500000, max_features=None, n_estimators=650;, score=0.817 total time=   4.6s\n",
      "[CV 5/5] END criterion=log_loss, max_depth=500000, max_features=None, n_estimators=650;, score=0.757 total time=   4.6s\n",
      "[CV 1/5] END criterion=log_loss, max_depth=500000, max_features=None, n_estimators=700;, score=0.810 total time=   5.0s\n",
      "[CV 2/5] END criterion=log_loss, max_depth=500000, max_features=None, n_estimators=700;, score=0.765 total time=   5.0s\n",
      "[CV 3/5] END criterion=log_loss, max_depth=500000, max_features=None, n_estimators=700;, score=0.800 total time=   5.1s\n",
      "[CV 4/5] END criterion=log_loss, max_depth=500000, max_features=None, n_estimators=700;, score=0.817 total time=   5.0s\n",
      "[CV 5/5] END criterion=log_loss, max_depth=500000, max_features=None, n_estimators=700;, score=0.765 total time=   4.9s\n",
      "[CV 1/5] END criterion=log_loss, max_depth=700000, max_features=sqrt, n_estimators=50;, score=0.784 total time=   0.1s\n",
      "[CV 2/5] END criterion=log_loss, max_depth=700000, max_features=sqrt, n_estimators=50;, score=0.739 total time=   0.1s\n",
      "[CV 3/5] END criterion=log_loss, max_depth=700000, max_features=sqrt, n_estimators=50;, score=0.817 total time=   0.1s\n",
      "[CV 4/5] END criterion=log_loss, max_depth=700000, max_features=sqrt, n_estimators=50;, score=0.826 total time=   0.1s\n",
      "[CV 5/5] END criterion=log_loss, max_depth=700000, max_features=sqrt, n_estimators=50;, score=0.748 total time=   0.1s\n",
      "[CV 1/5] END criterion=log_loss, max_depth=700000, max_features=sqrt, n_estimators=100;, score=0.802 total time=   0.4s\n",
      "[CV 2/5] END criterion=log_loss, max_depth=700000, max_features=sqrt, n_estimators=100;, score=0.739 total time=   0.4s\n",
      "[CV 3/5] END criterion=log_loss, max_depth=700000, max_features=sqrt, n_estimators=100;, score=0.817 total time=   0.4s\n",
      "[CV 4/5] END criterion=log_loss, max_depth=700000, max_features=sqrt, n_estimators=100;, score=0.826 total time=   0.4s\n",
      "[CV 5/5] END criterion=log_loss, max_depth=700000, max_features=sqrt, n_estimators=100;, score=0.791 total time=   0.4s\n",
      "[CV 1/5] END criterion=log_loss, max_depth=700000, max_features=sqrt, n_estimators=600;, score=0.810 total time=   2.6s\n",
      "[CV 2/5] END criterion=log_loss, max_depth=700000, max_features=sqrt, n_estimators=600;, score=0.739 total time=   2.7s\n",
      "[CV 3/5] END criterion=log_loss, max_depth=700000, max_features=sqrt, n_estimators=600;, score=0.809 total time=   2.7s\n",
      "[CV 4/5] END criterion=log_loss, max_depth=700000, max_features=sqrt, n_estimators=600;, score=0.835 total time=   2.7s\n",
      "[CV 5/5] END criterion=log_loss, max_depth=700000, max_features=sqrt, n_estimators=600;, score=0.765 total time=   2.7s\n",
      "[CV 1/5] END criterion=log_loss, max_depth=700000, max_features=sqrt, n_estimators=650;, score=0.802 total time=   2.9s\n",
      "[CV 2/5] END criterion=log_loss, max_depth=700000, max_features=sqrt, n_estimators=650;, score=0.748 total time=   2.9s\n",
      "[CV 3/5] END criterion=log_loss, max_depth=700000, max_features=sqrt, n_estimators=650;, score=0.817 total time=   2.9s\n",
      "[CV 4/5] END criterion=log_loss, max_depth=700000, max_features=sqrt, n_estimators=650;, score=0.843 total time=   2.9s\n",
      "[CV 5/5] END criterion=log_loss, max_depth=700000, max_features=sqrt, n_estimators=650;, score=0.774 total time=   2.9s\n",
      "[CV 1/5] END criterion=log_loss, max_depth=700000, max_features=sqrt, n_estimators=700;, score=0.802 total time=   3.1s\n",
      "[CV 2/5] END criterion=log_loss, max_depth=700000, max_features=sqrt, n_estimators=700;, score=0.748 total time=   3.1s\n",
      "[CV 3/5] END criterion=log_loss, max_depth=700000, max_features=sqrt, n_estimators=700;, score=0.809 total time=   3.2s\n",
      "[CV 4/5] END criterion=log_loss, max_depth=700000, max_features=sqrt, n_estimators=700;, score=0.835 total time=   3.1s\n",
      "[CV 5/5] END criterion=log_loss, max_depth=700000, max_features=sqrt, n_estimators=700;, score=0.783 total time=   3.1s\n",
      "[CV 1/5] END criterion=log_loss, max_depth=700000, max_features=log2, n_estimators=50;, score=0.810 total time=   0.2s\n",
      "[CV 2/5] END criterion=log_loss, max_depth=700000, max_features=log2, n_estimators=50;, score=0.765 total time=   0.2s\n",
      "[CV 3/5] END criterion=log_loss, max_depth=700000, max_features=log2, n_estimators=50;, score=0.791 total time=   0.2s\n",
      "[CV 4/5] END criterion=log_loss, max_depth=700000, max_features=log2, n_estimators=50;, score=0.774 total time=   0.2s\n",
      "[CV 5/5] END criterion=log_loss, max_depth=700000, max_features=log2, n_estimators=50;, score=0.739 total time=   0.2s\n",
      "[CV 1/5] END criterion=log_loss, max_depth=700000, max_features=log2, n_estimators=100;, score=0.802 total time=   0.4s\n",
      "[CV 2/5] END criterion=log_loss, max_depth=700000, max_features=log2, n_estimators=100;, score=0.757 total time=   0.4s\n",
      "[CV 3/5] END criterion=log_loss, max_depth=700000, max_features=log2, n_estimators=100;, score=0.817 total time=   0.4s\n",
      "[CV 4/5] END criterion=log_loss, max_depth=700000, max_features=log2, n_estimators=100;, score=0.835 total time=   0.4s\n",
      "[CV 5/5] END criterion=log_loss, max_depth=700000, max_features=log2, n_estimators=100;, score=0.748 total time=   0.4s\n",
      "[CV 1/5] END criterion=log_loss, max_depth=700000, max_features=log2, n_estimators=600;, score=0.819 total time=   2.9s\n",
      "[CV 2/5] END criterion=log_loss, max_depth=700000, max_features=log2, n_estimators=600;, score=0.757 total time=   2.9s\n",
      "[CV 3/5] END criterion=log_loss, max_depth=700000, max_features=log2, n_estimators=600;, score=0.800 total time=   3.0s\n",
      "[CV 4/5] END criterion=log_loss, max_depth=700000, max_features=log2, n_estimators=600;, score=0.835 total time=   2.9s\n",
      "[CV 5/5] END criterion=log_loss, max_depth=700000, max_features=log2, n_estimators=600;, score=0.757 total time=   2.9s\n",
      "[CV 1/5] END criterion=log_loss, max_depth=700000, max_features=log2, n_estimators=650;, score=0.810 total time=   3.2s\n",
      "[CV 2/5] END criterion=log_loss, max_depth=700000, max_features=log2, n_estimators=650;, score=0.748 total time=   3.2s\n",
      "[CV 3/5] END criterion=log_loss, max_depth=700000, max_features=log2, n_estimators=650;, score=0.809 total time=   3.2s\n",
      "[CV 4/5] END criterion=log_loss, max_depth=700000, max_features=log2, n_estimators=650;, score=0.835 total time=   3.2s\n",
      "[CV 5/5] END criterion=log_loss, max_depth=700000, max_features=log2, n_estimators=650;, score=0.757 total time=   3.2s\n",
      "[CV 1/5] END criterion=log_loss, max_depth=700000, max_features=log2, n_estimators=700;, score=0.810 total time=   3.4s\n",
      "[CV 2/5] END criterion=log_loss, max_depth=700000, max_features=log2, n_estimators=700;, score=0.748 total time=   3.4s\n",
      "[CV 3/5] END criterion=log_loss, max_depth=700000, max_features=log2, n_estimators=700;, score=0.817 total time=   3.5s\n",
      "[CV 4/5] END criterion=log_loss, max_depth=700000, max_features=log2, n_estimators=700;, score=0.809 total time=   3.6s\n",
      "[CV 5/5] END criterion=log_loss, max_depth=700000, max_features=log2, n_estimators=700;, score=0.757 total time=   3.4s\n",
      "[CV 1/5] END criterion=log_loss, max_depth=700000, max_features=None, n_estimators=50;, score=0.793 total time=   0.3s\n",
      "[CV 2/5] END criterion=log_loss, max_depth=700000, max_features=None, n_estimators=50;, score=0.748 total time=   0.3s\n",
      "[CV 3/5] END criterion=log_loss, max_depth=700000, max_features=None, n_estimators=50;, score=0.800 total time=   0.3s\n",
      "[CV 4/5] END criterion=log_loss, max_depth=700000, max_features=None, n_estimators=50;, score=0.843 total time=   0.3s\n",
      "[CV 5/5] END criterion=log_loss, max_depth=700000, max_features=None, n_estimators=50;, score=0.757 total time=   0.3s\n",
      "[CV 1/5] END criterion=log_loss, max_depth=700000, max_features=None, n_estimators=100;, score=0.802 total time=   0.6s\n",
      "[CV 2/5] END criterion=log_loss, max_depth=700000, max_features=None, n_estimators=100;, score=0.748 total time=   0.6s\n",
      "[CV 3/5] END criterion=log_loss, max_depth=700000, max_features=None, n_estimators=100;, score=0.800 total time=   0.6s\n",
      "[CV 4/5] END criterion=log_loss, max_depth=700000, max_features=None, n_estimators=100;, score=0.826 total time=   0.6s\n",
      "[CV 5/5] END criterion=log_loss, max_depth=700000, max_features=None, n_estimators=100;, score=0.748 total time=   0.6s\n",
      "[CV 1/5] END criterion=log_loss, max_depth=700000, max_features=None, n_estimators=600;, score=0.810 total time=   4.2s\n",
      "[CV 2/5] END criterion=log_loss, max_depth=700000, max_features=None, n_estimators=600;, score=0.748 total time=   4.3s\n",
      "[CV 3/5] END criterion=log_loss, max_depth=700000, max_features=None, n_estimators=600;, score=0.800 total time=   4.3s\n",
      "[CV 4/5] END criterion=log_loss, max_depth=700000, max_features=None, n_estimators=600;, score=0.809 total time=   4.3s\n",
      "[CV 5/5] END criterion=log_loss, max_depth=700000, max_features=None, n_estimators=600;, score=0.765 total time=   4.2s\n",
      "[CV 1/5] END criterion=log_loss, max_depth=700000, max_features=None, n_estimators=650;, score=0.802 total time=   4.6s\n",
      "[CV 2/5] END criterion=log_loss, max_depth=700000, max_features=None, n_estimators=650;, score=0.757 total time=   4.6s\n",
      "[CV 3/5] END criterion=log_loss, max_depth=700000, max_features=None, n_estimators=650;, score=0.800 total time=   4.7s\n",
      "[CV 4/5] END criterion=log_loss, max_depth=700000, max_features=None, n_estimators=650;, score=0.826 total time=   4.7s\n",
      "[CV 5/5] END criterion=log_loss, max_depth=700000, max_features=None, n_estimators=650;, score=0.765 total time=   4.6s\n",
      "[CV 1/5] END criterion=log_loss, max_depth=700000, max_features=None, n_estimators=700;, score=0.810 total time=   5.0s\n",
      "[CV 2/5] END criterion=log_loss, max_depth=700000, max_features=None, n_estimators=700;, score=0.765 total time=   5.0s\n",
      "[CV 3/5] END criterion=log_loss, max_depth=700000, max_features=None, n_estimators=700;, score=0.800 total time=   5.1s\n",
      "[CV 4/5] END criterion=log_loss, max_depth=700000, max_features=None, n_estimators=700;, score=0.817 total time=   5.1s\n",
      "[CV 5/5] END criterion=log_loss, max_depth=700000, max_features=None, n_estimators=700;, score=0.765 total time=   5.0s\n",
      "[CV 1/5] END criterion=log_loss, max_depth=1000000, max_features=sqrt, n_estimators=50;, score=0.802 total time=   0.1s\n",
      "[CV 2/5] END criterion=log_loss, max_depth=1000000, max_features=sqrt, n_estimators=50;, score=0.739 total time=   0.2s\n",
      "[CV 3/5] END criterion=log_loss, max_depth=1000000, max_features=sqrt, n_estimators=50;, score=0.826 total time=   0.1s\n",
      "[CV 4/5] END criterion=log_loss, max_depth=1000000, max_features=sqrt, n_estimators=50;, score=0.817 total time=   0.1s\n",
      "[CV 5/5] END criterion=log_loss, max_depth=1000000, max_features=sqrt, n_estimators=50;, score=0.722 total time=   0.1s\n",
      "[CV 1/5] END criterion=log_loss, max_depth=1000000, max_features=sqrt, n_estimators=100;, score=0.802 total time=   0.4s\n",
      "[CV 2/5] END criterion=log_loss, max_depth=1000000, max_features=sqrt, n_estimators=100;, score=0.757 total time=   0.4s\n",
      "[CV 3/5] END criterion=log_loss, max_depth=1000000, max_features=sqrt, n_estimators=100;, score=0.843 total time=   0.4s\n",
      "[CV 4/5] END criterion=log_loss, max_depth=1000000, max_features=sqrt, n_estimators=100;, score=0.809 total time=   0.4s\n",
      "[CV 5/5] END criterion=log_loss, max_depth=1000000, max_features=sqrt, n_estimators=100;, score=0.748 total time=   0.4s\n",
      "[CV 1/5] END criterion=log_loss, max_depth=1000000, max_features=sqrt, n_estimators=600;, score=0.810 total time=   2.8s\n",
      "[CV 2/5] END criterion=log_loss, max_depth=1000000, max_features=sqrt, n_estimators=600;, score=0.739 total time=   2.7s\n",
      "[CV 3/5] END criterion=log_loss, max_depth=1000000, max_features=sqrt, n_estimators=600;, score=0.800 total time=   2.7s\n",
      "[CV 4/5] END criterion=log_loss, max_depth=1000000, max_features=sqrt, n_estimators=600;, score=0.835 total time=   2.7s\n",
      "[CV 5/5] END criterion=log_loss, max_depth=1000000, max_features=sqrt, n_estimators=600;, score=0.765 total time=   2.7s\n",
      "[CV 1/5] END criterion=log_loss, max_depth=1000000, max_features=sqrt, n_estimators=650;, score=0.819 total time=   3.0s\n",
      "[CV 2/5] END criterion=log_loss, max_depth=1000000, max_features=sqrt, n_estimators=650;, score=0.757 total time=   2.9s\n",
      "[CV 3/5] END criterion=log_loss, max_depth=1000000, max_features=sqrt, n_estimators=650;, score=0.809 total time=   2.9s\n",
      "[CV 4/5] END criterion=log_loss, max_depth=1000000, max_features=sqrt, n_estimators=650;, score=0.826 total time=   2.9s\n",
      "[CV 5/5] END criterion=log_loss, max_depth=1000000, max_features=sqrt, n_estimators=650;, score=0.748 total time=   2.9s\n",
      "[CV 1/5] END criterion=log_loss, max_depth=1000000, max_features=sqrt, n_estimators=700;, score=0.819 total time=   3.1s\n",
      "[CV 2/5] END criterion=log_loss, max_depth=1000000, max_features=sqrt, n_estimators=700;, score=0.739 total time=   3.1s\n",
      "[CV 3/5] END criterion=log_loss, max_depth=1000000, max_features=sqrt, n_estimators=700;, score=0.800 total time=   3.1s\n",
      "[CV 4/5] END criterion=log_loss, max_depth=1000000, max_features=sqrt, n_estimators=700;, score=0.826 total time=   3.1s\n",
      "[CV 5/5] END criterion=log_loss, max_depth=1000000, max_features=sqrt, n_estimators=700;, score=0.757 total time=   3.1s\n",
      "[CV 1/5] END criterion=log_loss, max_depth=1000000, max_features=log2, n_estimators=50;, score=0.793 total time=   0.2s\n",
      "[CV 2/5] END criterion=log_loss, max_depth=1000000, max_features=log2, n_estimators=50;, score=0.748 total time=   0.1s\n",
      "[CV 3/5] END criterion=log_loss, max_depth=1000000, max_features=log2, n_estimators=50;, score=0.774 total time=   0.2s\n",
      "[CV 4/5] END criterion=log_loss, max_depth=1000000, max_features=log2, n_estimators=50;, score=0.826 total time=   0.2s\n",
      "[CV 5/5] END criterion=log_loss, max_depth=1000000, max_features=log2, n_estimators=50;, score=0.748 total time=   0.2s\n",
      "[CV 1/5] END criterion=log_loss, max_depth=1000000, max_features=log2, n_estimators=100;, score=0.802 total time=   0.4s\n",
      "[CV 2/5] END criterion=log_loss, max_depth=1000000, max_features=log2, n_estimators=100;, score=0.757 total time=   0.4s\n",
      "[CV 3/5] END criterion=log_loss, max_depth=1000000, max_features=log2, n_estimators=100;, score=0.791 total time=   0.4s\n",
      "[CV 4/5] END criterion=log_loss, max_depth=1000000, max_features=log2, n_estimators=100;, score=0.835 total time=   0.4s\n",
      "[CV 5/5] END criterion=log_loss, max_depth=1000000, max_features=log2, n_estimators=100;, score=0.774 total time=   0.4s\n",
      "[CV 1/5] END criterion=log_loss, max_depth=1000000, max_features=log2, n_estimators=600;, score=0.819 total time=   2.9s\n",
      "[CV 2/5] END criterion=log_loss, max_depth=1000000, max_features=log2, n_estimators=600;, score=0.757 total time=   2.9s\n",
      "[CV 3/5] END criterion=log_loss, max_depth=1000000, max_features=log2, n_estimators=600;, score=0.809 total time=   3.0s\n",
      "[CV 4/5] END criterion=log_loss, max_depth=1000000, max_features=log2, n_estimators=600;, score=0.835 total time=   2.9s\n",
      "[CV 5/5] END criterion=log_loss, max_depth=1000000, max_features=log2, n_estimators=600;, score=0.765 total time=   2.9s\n",
      "[CV 1/5] END criterion=log_loss, max_depth=1000000, max_features=log2, n_estimators=650;, score=0.819 total time=   3.2s\n",
      "[CV 2/5] END criterion=log_loss, max_depth=1000000, max_features=log2, n_estimators=650;, score=0.748 total time=   3.2s\n",
      "[CV 3/5] END criterion=log_loss, max_depth=1000000, max_features=log2, n_estimators=650;, score=0.809 total time=   3.2s\n",
      "[CV 4/5] END criterion=log_loss, max_depth=1000000, max_features=log2, n_estimators=650;, score=0.826 total time=   3.2s\n",
      "[CV 5/5] END criterion=log_loss, max_depth=1000000, max_features=log2, n_estimators=650;, score=0.757 total time=   3.2s\n",
      "[CV 1/5] END criterion=log_loss, max_depth=1000000, max_features=log2, n_estimators=700;, score=0.819 total time=   3.4s\n",
      "[CV 2/5] END criterion=log_loss, max_depth=1000000, max_features=log2, n_estimators=700;, score=0.748 total time=   3.4s\n",
      "[CV 3/5] END criterion=log_loss, max_depth=1000000, max_features=log2, n_estimators=700;, score=0.809 total time=   3.5s\n",
      "[CV 4/5] END criterion=log_loss, max_depth=1000000, max_features=log2, n_estimators=700;, score=0.843 total time=   3.4s\n",
      "[CV 5/5] END criterion=log_loss, max_depth=1000000, max_features=log2, n_estimators=700;, score=0.765 total time=   3.4s\n",
      "[CV 1/5] END criterion=log_loss, max_depth=1000000, max_features=None, n_estimators=50;, score=0.793 total time=   0.3s\n",
      "[CV 2/5] END criterion=log_loss, max_depth=1000000, max_features=None, n_estimators=50;, score=0.783 total time=   0.3s\n",
      "[CV 3/5] END criterion=log_loss, max_depth=1000000, max_features=None, n_estimators=50;, score=0.817 total time=   0.3s\n",
      "[CV 4/5] END criterion=log_loss, max_depth=1000000, max_features=None, n_estimators=50;, score=0.826 total time=   0.3s\n",
      "[CV 5/5] END criterion=log_loss, max_depth=1000000, max_features=None, n_estimators=50;, score=0.757 total time=   0.3s\n",
      "[CV 1/5] END criterion=log_loss, max_depth=1000000, max_features=None, n_estimators=100;, score=0.759 total time=   0.6s\n",
      "[CV 2/5] END criterion=log_loss, max_depth=1000000, max_features=None, n_estimators=100;, score=0.757 total time=   0.6s\n",
      "[CV 3/5] END criterion=log_loss, max_depth=1000000, max_features=None, n_estimators=100;, score=0.783 total time=   0.6s\n",
      "[CV 4/5] END criterion=log_loss, max_depth=1000000, max_features=None, n_estimators=100;, score=0.800 total time=   0.6s\n",
      "[CV 5/5] END criterion=log_loss, max_depth=1000000, max_features=None, n_estimators=100;, score=0.765 total time=   0.6s\n",
      "[CV 1/5] END criterion=log_loss, max_depth=1000000, max_features=None, n_estimators=600;, score=0.802 total time=   4.3s\n",
      "[CV 2/5] END criterion=log_loss, max_depth=1000000, max_features=None, n_estimators=600;, score=0.757 total time=   4.3s\n",
      "[CV 3/5] END criterion=log_loss, max_depth=1000000, max_features=None, n_estimators=600;, score=0.817 total time=   4.4s\n",
      "[CV 4/5] END criterion=log_loss, max_depth=1000000, max_features=None, n_estimators=600;, score=0.826 total time=   4.4s\n",
      "[CV 5/5] END criterion=log_loss, max_depth=1000000, max_features=None, n_estimators=600;, score=0.748 total time=   4.2s\n",
      "[CV 1/5] END criterion=log_loss, max_depth=1000000, max_features=None, n_estimators=650;, score=0.819 total time=   4.6s\n",
      "[CV 2/5] END criterion=log_loss, max_depth=1000000, max_features=None, n_estimators=650;, score=0.757 total time=   4.6s\n",
      "[CV 3/5] END criterion=log_loss, max_depth=1000000, max_features=None, n_estimators=650;, score=0.791 total time=   4.7s\n",
      "[CV 4/5] END criterion=log_loss, max_depth=1000000, max_features=None, n_estimators=650;, score=0.809 total time=   4.6s\n",
      "[CV 5/5] END criterion=log_loss, max_depth=1000000, max_features=None, n_estimators=650;, score=0.765 total time=   4.6s\n",
      "[CV 1/5] END criterion=log_loss, max_depth=1000000, max_features=None, n_estimators=700;, score=0.802 total time=   5.0s\n",
      "[CV 2/5] END criterion=log_loss, max_depth=1000000, max_features=None, n_estimators=700;, score=0.757 total time=   5.0s\n",
      "[CV 3/5] END criterion=log_loss, max_depth=1000000, max_features=None, n_estimators=700;, score=0.809 total time=   5.1s\n",
      "[CV 4/5] END criterion=log_loss, max_depth=1000000, max_features=None, n_estimators=700;, score=0.817 total time=   5.0s\n",
      "[CV 5/5] END criterion=log_loss, max_depth=1000000, max_features=None, n_estimators=700;, score=0.774 total time=   4.9s\n",
      "Le meilleur score avec les hyperparamètres est de :  0.8020539730134933\n",
      "Les meilleurs hyperparamètres sont :  {'criterion': 'entropy', 'max_depth': 100000, 'max_features': 'sqrt', 'n_estimators': 700}\n"
     ]
    }
   ],
   "source": [
    "# ici, on entraine la fonction\n",
    "grid_search_rf.fit(X_train, y_train)\n",
    "\n",
    "# Obtenir le meilleur score selon nos choix d'hyperparamètres\n",
    "print('Le meilleur score avec les hyperparamètres est de : ',grid_search_rf.best_score_)\n",
    "\n",
    "# Connaître les meilleurs paramètres\n",
    "print('Les meilleurs hyperparamètres sont : ',grid_search_rf.best_params_)"
   ]
  },
  {
   "cell_type": "code",
   "execution_count": 41,
   "id": "a0d65aca",
   "metadata": {},
   "outputs": [
    {
     "name": "stdout",
     "output_type": "stream",
     "text": [
      "Le meilleur score avec les hyperparamètres est de :  0.8020539730134933\n",
      "Les meilleurs hyperparamètres sont :  {'criterion': 'entropy', 'max_depth': 100000, 'max_features': 'sqrt', 'n_estimators': 700}\n"
     ]
    }
   ],
   "source": [
    "# Obtenir le meilleur score selon nos choix d'hyperparamètres\n",
    "print('Le meilleur score avec les hyperparamètres est de : ',grid_search_rf.best_score_)\n",
    "\n",
    "# Connaître les meilleurs paramètres\n",
    "print('Les meilleurs hyperparamètres sont : ',grid_search_rf.best_params_)"
   ]
  },
  {
   "cell_type": "raw",
   "id": "e4e6611e",
   "metadata": {},
   "source": [
    "Notre optimisation des deux modèles sélectionnés nous confirment une amélioration de nos scores.\n",
    "\n",
    "- Régression logistique : passage d'un score test de 0.739 à 0.793;\n",
    "- Random Forest : passage de 0.703 à 0.802.\n",
    "\n",
    "Nos modèles sont très similaires mais le Random Forest présente le meilleur résultat."
   ]
  },
  {
   "cell_type": "markdown",
   "id": "bae16942",
   "metadata": {},
   "source": [
    "## Conclusion"
   ]
  },
  {
   "cell_type": "markdown",
   "id": "3bb3cc3b",
   "metadata": {},
   "source": [
    "Nous pouvons conclure que notre volonté de créer un modèle nous permettant de répondre à une détection des personnes ayant le diabète est cohérent.\n",
    "\n",
    "En effet, les données obtenus en amont nous ont permis d'effectuer une analyse sur les causes de cette pathologie.\n",
    "\n",
    "Après avoir procédé à une analyse de nos différentes variables, nous avons procédé à la phase de modélisation.\n",
    "\n",
    "Nos données présentent une problématique concernant la classification, nous allons procéder à une sélection des différents modèles existants et étudier la Régression logistique et le Random Forest.\n",
    "\n",
    "Après entrainement de nos modèles, nous arrivons à des scores entre 0.70 et 0.73, ce qui reste tout à fait cohérent vu la problématique.\n",
    "\n",
    "Après optimisation de nos modèles, nous remarquons une amélioration importante notamment pour le Random Forest. Ce dernier sera le modèle sélectionné."
   ]
  },
  {
   "cell_type": "code",
   "execution_count": null,
   "id": "f9bfb16b",
   "metadata": {},
   "outputs": [],
   "source": []
  }
 ],
 "metadata": {
  "kernelspec": {
   "display_name": "Python 3 (ipykernel)",
   "language": "python",
   "name": "python3"
  },
  "language_info": {
   "codemirror_mode": {
    "name": "ipython",
    "version": 3
   },
   "file_extension": ".py",
   "mimetype": "text/x-python",
   "name": "python",
   "nbconvert_exporter": "python",
   "pygments_lexer": "ipython3",
   "version": "3.9.7"
  }
 },
 "nbformat": 4,
 "nbformat_minor": 5
}
